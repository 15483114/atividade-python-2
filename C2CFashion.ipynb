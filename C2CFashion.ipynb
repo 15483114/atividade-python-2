{
  "cells": [
    {
      "cell_type": "markdown",
      "metadata": {
        "id": "view-in-github",
        "colab_type": "text"
      },
      "source": [
        "<a href=\"https://colab.research.google.com/github/15483114/atividade-python-2/blob/main/C2CFashion.ipynb\" target=\"_parent\"><img src=\"https://colab.research.google.com/assets/colab-badge.svg\" alt=\"Open In Colab\"/></a>"
      ]
    },
    {
      "cell_type": "markdown",
      "metadata": {
        "id": "bwDAIHi5VIrN"
      },
      "source": [
        "# **Global C2C Fashion Store User Behaviour Analysis**"
      ]
    },
    {
      "cell_type": "markdown",
      "metadata": {
        "id": "ZrOMrnGxU8Eu"
      },
      "source": [
        "O dataset escolhido é proveninete do kaggle e esá disponível neste endereço:\n",
        "https://www.kaggle.com/datasets/thedevastator/global-c2c-fashion-store-user-behaviour-analysis\n",
        "\n",
        "O dataset está disponível em 4 arquivos que mostram o comportamento de usuários ao redor do mundo. O dataset principal é de usuários e os outros 3 são estatísticas em cima do dataset de usuário, temos um dataset que divide os usuários por países, por vendedores e top vendedores, os dois últimos são pouco esclarecidos de contexto e portanto não serão utilizados. O dataset que será utilizado para testar modelos é o de usuário, porém o dataset de países parece promissor e será analisado também.\n",
        "\n"
      ]
    },
    {
      "cell_type": "markdown",
      "metadata": {
        "id": "vA9kHdRK1evO"
      },
      "source": [
        "Monte um algoritmo preditivo de projeção OU de classificação, utilizando respetivamente Regressão Linear ou Regressão Logística. Para tal, selecione uma base de dados adequada no https://www.kaggle.com/datasets. Antes de realizar o treino do seu algoritmo realize uma análise exploratória, principalmente correlacionando as features e o label. Identificados estes, siga o processo de treinar, validar, testar e revalidar. Não esqueça de apresentar sua conclusões de negócio (utilize o botão +texto) \n",
        "\n",
        "\n",
        "\n",
        "Atividade 3 (a ser entregue no portal): Utilizando uma base de dados do Kaggle, realize uma Classificação com a Reg Logística ou Árvore de Decisão (caso na atividade anterior tenha já utilizado RegLog, utilize nesta Árvore). Não esqueça de separar treino e teste, bem como de calcular as devidas métricas. Em seguida, realize um processo de AutoML com H2O, e aí as métricas melhoraram?\n",
        "\n",
        "Escolha uma base de dados no https://www.kaggle.com/datasets \n",
        "\n",
        "0) Se familiarize com sua base, não esqueça de junto com seus códigos realizar suas análises/conclusões (use o botão de +Texto).\n",
        "\n",
        "1) Realize sumarizacoes. Veja qual tipo de gráfico é útil para sua análise se barras, linha ou pizza\n",
        "\n",
        "2) Faça análises estatísticas\n",
        "Apresente o histograma\n",
        "Calcule os quartis \n",
        "Apresente o boxplot \n",
        "\n",
        "Não esqueça de junto com seus códigos realizar suas análises/conclusões (use o botão de +Texto).\n"
      ]
    },
    {
      "cell_type": "code",
      "execution_count": null,
      "metadata": {
        "colab": {
          "base_uri": "https://localhost:8080/"
        },
        "id": "m_J_E-vgkqzu",
        "outputId": "a7472e56-bb18-4941-931e-124342910004"
      },
      "outputs": [
        {
          "name": "stdout",
          "output_type": "stream",
          "text": [
            "Drive already mounted at /content/drive; to attempt to forcibly remount, call drive.mount(\"/content/drive\", force_remount=True).\n"
          ]
        }
      ],
      "source": [
        "from google.colab import drive\n",
        "drive.mount('/content/drive')"
      ]
    },
    {
      "cell_type": "code",
      "execution_count": null,
      "metadata": {
        "colab": {
          "base_uri": "https://localhost:8080/",
          "height": 505
        },
        "id": "HdP2TMuKlKxz",
        "outputId": "4cdb6c9f-b5a0-4d04-ffcd-5537023da7d9"
      },
      "outputs": [
        {
          "data": {
            "text/html": [
              "\n",
              "  <div id=\"df-3a3e03e0-9d4c-4cb8-905c-62c024eb2b4c\">\n",
              "    <div class=\"colab-df-container\">\n",
              "      <div>\n",
              "<style scoped>\n",
              "    .dataframe tbody tr th:only-of-type {\n",
              "        vertical-align: middle;\n",
              "    }\n",
              "\n",
              "    .dataframe tbody tr th {\n",
              "        vertical-align: top;\n",
              "    }\n",
              "\n",
              "    .dataframe thead th {\n",
              "        text-align: right;\n",
              "    }\n",
              "</style>\n",
              "<table border=\"1\" class=\"dataframe\">\n",
              "  <thead>\n",
              "    <tr style=\"text-align: right;\">\n",
              "      <th></th>\n",
              "      <th>index</th>\n",
              "      <th>country</th>\n",
              "      <th>buyers</th>\n",
              "      <th>topbuyers</th>\n",
              "      <th>topbuyerratio</th>\n",
              "      <th>femalebuyers</th>\n",
              "      <th>malebuyers</th>\n",
              "      <th>topfemalebuyers</th>\n",
              "      <th>topmalebuyers</th>\n",
              "      <th>femalebuyersratio</th>\n",
              "      <th>...</th>\n",
              "      <th>meanproductsliked</th>\n",
              "      <th>topmeanproductsbought</th>\n",
              "      <th>topmeanproductswished</th>\n",
              "      <th>topmeanproductsliked</th>\n",
              "      <th>meanofflinedays</th>\n",
              "      <th>topmeanofflinedays</th>\n",
              "      <th>meanfollowers</th>\n",
              "      <th>meanfollowing</th>\n",
              "      <th>topmeanfollowers</th>\n",
              "      <th>topmeanfollowing</th>\n",
              "    </tr>\n",
              "  </thead>\n",
              "  <tbody>\n",
              "    <tr>\n",
              "      <th>0</th>\n",
              "      <td>0</td>\n",
              "      <td>France</td>\n",
              "      <td>1251</td>\n",
              "      <td>53</td>\n",
              "      <td>4.2</td>\n",
              "      <td>851</td>\n",
              "      <td>400</td>\n",
              "      <td>33</td>\n",
              "      <td>20</td>\n",
              "      <td>68.0</td>\n",
              "      <td>...</td>\n",
              "      <td>20.2</td>\n",
              "      <td>28.1</td>\n",
              "      <td>77.2</td>\n",
              "      <td>120.9</td>\n",
              "      <td>321.8</td>\n",
              "      <td>75.0</td>\n",
              "      <td>4.8</td>\n",
              "      <td>8.8</td>\n",
              "      <td>10.1</td>\n",
              "      <td>11.0</td>\n",
              "    </tr>\n",
              "    <tr>\n",
              "      <th>1</th>\n",
              "      <td>1</td>\n",
              "      <td>Royaume-Uni</td>\n",
              "      <td>792</td>\n",
              "      <td>38</td>\n",
              "      <td>4.8</td>\n",
              "      <td>560</td>\n",
              "      <td>232</td>\n",
              "      <td>30</td>\n",
              "      <td>8</td>\n",
              "      <td>70.7</td>\n",
              "      <td>...</td>\n",
              "      <td>29.5</td>\n",
              "      <td>22.4</td>\n",
              "      <td>161.2</td>\n",
              "      <td>193.7</td>\n",
              "      <td>298.3</td>\n",
              "      <td>68.2</td>\n",
              "      <td>5.4</td>\n",
              "      <td>8.8</td>\n",
              "      <td>11.1</td>\n",
              "      <td>12.2</td>\n",
              "    </tr>\n",
              "    <tr>\n",
              "      <th>2</th>\n",
              "      <td>2</td>\n",
              "      <td>Etats-Unis</td>\n",
              "      <td>912</td>\n",
              "      <td>31</td>\n",
              "      <td>3.4</td>\n",
              "      <td>700</td>\n",
              "      <td>212</td>\n",
              "      <td>21</td>\n",
              "      <td>10</td>\n",
              "      <td>76.8</td>\n",
              "      <td>...</td>\n",
              "      <td>32.8</td>\n",
              "      <td>27.9</td>\n",
              "      <td>119.4</td>\n",
              "      <td>224.1</td>\n",
              "      <td>359.3</td>\n",
              "      <td>73.0</td>\n",
              "      <td>4.9</td>\n",
              "      <td>9.7</td>\n",
              "      <td>11.7</td>\n",
              "      <td>27.9</td>\n",
              "    </tr>\n",
              "    <tr>\n",
              "      <th>3</th>\n",
              "      <td>3</td>\n",
              "      <td>Allemagne</td>\n",
              "      <td>578</td>\n",
              "      <td>29</td>\n",
              "      <td>5.0</td>\n",
              "      <td>409</td>\n",
              "      <td>169</td>\n",
              "      <td>21</td>\n",
              "      <td>8</td>\n",
              "      <td>70.8</td>\n",
              "      <td>...</td>\n",
              "      <td>41.1</td>\n",
              "      <td>17.8</td>\n",
              "      <td>175.7</td>\n",
              "      <td>367.2</td>\n",
              "      <td>296.6</td>\n",
              "      <td>39.3</td>\n",
              "      <td>5.1</td>\n",
              "      <td>8.6</td>\n",
              "      <td>11.2</td>\n",
              "      <td>11.3</td>\n",
              "    </tr>\n",
              "    <tr>\n",
              "      <th>4</th>\n",
              "      <td>4</td>\n",
              "      <td>Italie</td>\n",
              "      <td>400</td>\n",
              "      <td>21</td>\n",
              "      <td>5.3</td>\n",
              "      <td>283</td>\n",
              "      <td>117</td>\n",
              "      <td>14</td>\n",
              "      <td>7</td>\n",
              "      <td>70.8</td>\n",
              "      <td>...</td>\n",
              "      <td>35.5</td>\n",
              "      <td>24.7</td>\n",
              "      <td>208.4</td>\n",
              "      <td>103.4</td>\n",
              "      <td>247.9</td>\n",
              "      <td>40.9</td>\n",
              "      <td>6.4</td>\n",
              "      <td>11.6</td>\n",
              "      <td>14.3</td>\n",
              "      <td>15.4</td>\n",
              "    </tr>\n",
              "    <tr>\n",
              "      <th>...</th>\n",
              "      <td>...</td>\n",
              "      <td>...</td>\n",
              "      <td>...</td>\n",
              "      <td>...</td>\n",
              "      <td>...</td>\n",
              "      <td>...</td>\n",
              "      <td>...</td>\n",
              "      <td>...</td>\n",
              "      <td>...</td>\n",
              "      <td>...</td>\n",
              "      <td>...</td>\n",
              "      <td>...</td>\n",
              "      <td>...</td>\n",
              "      <td>...</td>\n",
              "      <td>...</td>\n",
              "      <td>...</td>\n",
              "      <td>...</td>\n",
              "      <td>...</td>\n",
              "      <td>...</td>\n",
              "      <td>...</td>\n",
              "      <td>...</td>\n",
              "    </tr>\n",
              "    <tr>\n",
              "      <th>57</th>\n",
              "      <td>57</td>\n",
              "      <td>Malte</td>\n",
              "      <td>1</td>\n",
              "      <td>0</td>\n",
              "      <td>0.0</td>\n",
              "      <td>1</td>\n",
              "      <td>0</td>\n",
              "      <td>0</td>\n",
              "      <td>0</td>\n",
              "      <td>100.0</td>\n",
              "      <td>...</td>\n",
              "      <td>2.0</td>\n",
              "      <td>NaN</td>\n",
              "      <td>NaN</td>\n",
              "      <td>NaN</td>\n",
              "      <td>366.0</td>\n",
              "      <td>NaN</td>\n",
              "      <td>3.0</td>\n",
              "      <td>8.0</td>\n",
              "      <td>NaN</td>\n",
              "      <td>NaN</td>\n",
              "    </tr>\n",
              "    <tr>\n",
              "      <th>58</th>\n",
              "      <td>58</td>\n",
              "      <td>Géorgie</td>\n",
              "      <td>1</td>\n",
              "      <td>0</td>\n",
              "      <td>0.0</td>\n",
              "      <td>1</td>\n",
              "      <td>0</td>\n",
              "      <td>0</td>\n",
              "      <td>0</td>\n",
              "      <td>100.0</td>\n",
              "      <td>...</td>\n",
              "      <td>2.0</td>\n",
              "      <td>NaN</td>\n",
              "      <td>NaN</td>\n",
              "      <td>NaN</td>\n",
              "      <td>37.0</td>\n",
              "      <td>NaN</td>\n",
              "      <td>3.0</td>\n",
              "      <td>8.0</td>\n",
              "      <td>NaN</td>\n",
              "      <td>NaN</td>\n",
              "    </tr>\n",
              "    <tr>\n",
              "      <th>59</th>\n",
              "      <td>59</td>\n",
              "      <td>Pakistan</td>\n",
              "      <td>1</td>\n",
              "      <td>0</td>\n",
              "      <td>0.0</td>\n",
              "      <td>0</td>\n",
              "      <td>1</td>\n",
              "      <td>0</td>\n",
              "      <td>0</td>\n",
              "      <td>0.0</td>\n",
              "      <td>...</td>\n",
              "      <td>1.0</td>\n",
              "      <td>NaN</td>\n",
              "      <td>NaN</td>\n",
              "      <td>NaN</td>\n",
              "      <td>431.0</td>\n",
              "      <td>NaN</td>\n",
              "      <td>4.0</td>\n",
              "      <td>9.0</td>\n",
              "      <td>NaN</td>\n",
              "      <td>NaN</td>\n",
              "    </tr>\n",
              "    <tr>\n",
              "      <th>60</th>\n",
              "      <td>60</td>\n",
              "      <td>Mexique</td>\n",
              "      <td>1</td>\n",
              "      <td>0</td>\n",
              "      <td>0.0</td>\n",
              "      <td>1</td>\n",
              "      <td>0</td>\n",
              "      <td>0</td>\n",
              "      <td>0</td>\n",
              "      <td>100.0</td>\n",
              "      <td>...</td>\n",
              "      <td>98.0</td>\n",
              "      <td>NaN</td>\n",
              "      <td>NaN</td>\n",
              "      <td>NaN</td>\n",
              "      <td>61.0</td>\n",
              "      <td>NaN</td>\n",
              "      <td>9.0</td>\n",
              "      <td>13.0</td>\n",
              "      <td>NaN</td>\n",
              "      <td>NaN</td>\n",
              "    </tr>\n",
              "    <tr>\n",
              "      <th>61</th>\n",
              "      <td>61</td>\n",
              "      <td>Qatar</td>\n",
              "      <td>1</td>\n",
              "      <td>0</td>\n",
              "      <td>0.0</td>\n",
              "      <td>1</td>\n",
              "      <td>0</td>\n",
              "      <td>0</td>\n",
              "      <td>0</td>\n",
              "      <td>100.0</td>\n",
              "      <td>...</td>\n",
              "      <td>0.0</td>\n",
              "      <td>NaN</td>\n",
              "      <td>NaN</td>\n",
              "      <td>NaN</td>\n",
              "      <td>692.0</td>\n",
              "      <td>NaN</td>\n",
              "      <td>3.0</td>\n",
              "      <td>8.0</td>\n",
              "      <td>NaN</td>\n",
              "      <td>NaN</td>\n",
              "    </tr>\n",
              "  </tbody>\n",
              "</table>\n",
              "<p>62 rows × 33 columns</p>\n",
              "</div>\n",
              "      <button class=\"colab-df-convert\" onclick=\"convertToInteractive('df-3a3e03e0-9d4c-4cb8-905c-62c024eb2b4c')\"\n",
              "              title=\"Convert this dataframe to an interactive table.\"\n",
              "              style=\"display:none;\">\n",
              "        \n",
              "  <svg xmlns=\"http://www.w3.org/2000/svg\" height=\"24px\"viewBox=\"0 0 24 24\"\n",
              "       width=\"24px\">\n",
              "    <path d=\"M0 0h24v24H0V0z\" fill=\"none\"/>\n",
              "    <path d=\"M18.56 5.44l.94 2.06.94-2.06 2.06-.94-2.06-.94-.94-2.06-.94 2.06-2.06.94zm-11 1L8.5 8.5l.94-2.06 2.06-.94-2.06-.94L8.5 2.5l-.94 2.06-2.06.94zm10 10l.94 2.06.94-2.06 2.06-.94-2.06-.94-.94-2.06-.94 2.06-2.06.94z\"/><path d=\"M17.41 7.96l-1.37-1.37c-.4-.4-.92-.59-1.43-.59-.52 0-1.04.2-1.43.59L10.3 9.45l-7.72 7.72c-.78.78-.78 2.05 0 2.83L4 21.41c.39.39.9.59 1.41.59.51 0 1.02-.2 1.41-.59l7.78-7.78 2.81-2.81c.8-.78.8-2.07 0-2.86zM5.41 20L4 18.59l7.72-7.72 1.47 1.35L5.41 20z\"/>\n",
              "  </svg>\n",
              "      </button>\n",
              "      \n",
              "  <style>\n",
              "    .colab-df-container {\n",
              "      display:flex;\n",
              "      flex-wrap:wrap;\n",
              "      gap: 12px;\n",
              "    }\n",
              "\n",
              "    .colab-df-convert {\n",
              "      background-color: #E8F0FE;\n",
              "      border: none;\n",
              "      border-radius: 50%;\n",
              "      cursor: pointer;\n",
              "      display: none;\n",
              "      fill: #1967D2;\n",
              "      height: 32px;\n",
              "      padding: 0 0 0 0;\n",
              "      width: 32px;\n",
              "    }\n",
              "\n",
              "    .colab-df-convert:hover {\n",
              "      background-color: #E2EBFA;\n",
              "      box-shadow: 0px 1px 2px rgba(60, 64, 67, 0.3), 0px 1px 3px 1px rgba(60, 64, 67, 0.15);\n",
              "      fill: #174EA6;\n",
              "    }\n",
              "\n",
              "    [theme=dark] .colab-df-convert {\n",
              "      background-color: #3B4455;\n",
              "      fill: #D2E3FC;\n",
              "    }\n",
              "\n",
              "    [theme=dark] .colab-df-convert:hover {\n",
              "      background-color: #434B5C;\n",
              "      box-shadow: 0px 1px 3px 1px rgba(0, 0, 0, 0.15);\n",
              "      filter: drop-shadow(0px 1px 2px rgba(0, 0, 0, 0.3));\n",
              "      fill: #FFFFFF;\n",
              "    }\n",
              "  </style>\n",
              "\n",
              "      <script>\n",
              "        const buttonEl =\n",
              "          document.querySelector('#df-3a3e03e0-9d4c-4cb8-905c-62c024eb2b4c button.colab-df-convert');\n",
              "        buttonEl.style.display =\n",
              "          google.colab.kernel.accessAllowed ? 'block' : 'none';\n",
              "\n",
              "        async function convertToInteractive(key) {\n",
              "          const element = document.querySelector('#df-3a3e03e0-9d4c-4cb8-905c-62c024eb2b4c');\n",
              "          const dataTable =\n",
              "            await google.colab.kernel.invokeFunction('convertToInteractive',\n",
              "                                                     [key], {});\n",
              "          if (!dataTable) return;\n",
              "\n",
              "          const docLinkHtml = 'Like what you see? Visit the ' +\n",
              "            '<a target=\"_blank\" href=https://colab.research.google.com/notebooks/data_table.ipynb>data table notebook</a>'\n",
              "            + ' to learn more about interactive tables.';\n",
              "          element.innerHTML = '';\n",
              "          dataTable['output_type'] = 'display_data';\n",
              "          await google.colab.output.renderOutput(dataTable, element);\n",
              "          const docLink = document.createElement('div');\n",
              "          docLink.innerHTML = docLinkHtml;\n",
              "          element.appendChild(docLink);\n",
              "        }\n",
              "      </script>\n",
              "    </div>\n",
              "  </div>\n",
              "  "
            ],
            "text/plain": [
              "    index      country  buyers  topbuyers  topbuyerratio  femalebuyers  \\\n",
              "0       0       France    1251         53            4.2           851   \n",
              "1       1  Royaume-Uni     792         38            4.8           560   \n",
              "2       2   Etats-Unis     912         31            3.4           700   \n",
              "3       3    Allemagne     578         29            5.0           409   \n",
              "4       4       Italie     400         21            5.3           283   \n",
              "..    ...          ...     ...        ...            ...           ...   \n",
              "57     57        Malte       1          0            0.0             1   \n",
              "58     58      Géorgie       1          0            0.0             1   \n",
              "59     59     Pakistan       1          0            0.0             0   \n",
              "60     60      Mexique       1          0            0.0             1   \n",
              "61     61        Qatar       1          0            0.0             1   \n",
              "\n",
              "    malebuyers  topfemalebuyers  topmalebuyers  femalebuyersratio  ...  \\\n",
              "0          400               33             20               68.0  ...   \n",
              "1          232               30              8               70.7  ...   \n",
              "2          212               21             10               76.8  ...   \n",
              "3          169               21              8               70.8  ...   \n",
              "4          117               14              7               70.8  ...   \n",
              "..         ...              ...            ...                ...  ...   \n",
              "57           0                0              0              100.0  ...   \n",
              "58           0                0              0              100.0  ...   \n",
              "59           1                0              0                0.0  ...   \n",
              "60           0                0              0              100.0  ...   \n",
              "61           0                0              0              100.0  ...   \n",
              "\n",
              "    meanproductsliked  topmeanproductsbought  topmeanproductswished  \\\n",
              "0                20.2                   28.1                   77.2   \n",
              "1                29.5                   22.4                  161.2   \n",
              "2                32.8                   27.9                  119.4   \n",
              "3                41.1                   17.8                  175.7   \n",
              "4                35.5                   24.7                  208.4   \n",
              "..                ...                    ...                    ...   \n",
              "57                2.0                    NaN                    NaN   \n",
              "58                2.0                    NaN                    NaN   \n",
              "59                1.0                    NaN                    NaN   \n",
              "60               98.0                    NaN                    NaN   \n",
              "61                0.0                    NaN                    NaN   \n",
              "\n",
              "    topmeanproductsliked  meanofflinedays  topmeanofflinedays  meanfollowers  \\\n",
              "0                  120.9            321.8                75.0            4.8   \n",
              "1                  193.7            298.3                68.2            5.4   \n",
              "2                  224.1            359.3                73.0            4.9   \n",
              "3                  367.2            296.6                39.3            5.1   \n",
              "4                  103.4            247.9                40.9            6.4   \n",
              "..                   ...              ...                 ...            ...   \n",
              "57                   NaN            366.0                 NaN            3.0   \n",
              "58                   NaN             37.0                 NaN            3.0   \n",
              "59                   NaN            431.0                 NaN            4.0   \n",
              "60                   NaN             61.0                 NaN            9.0   \n",
              "61                   NaN            692.0                 NaN            3.0   \n",
              "\n",
              "    meanfollowing  topmeanfollowers  topmeanfollowing  \n",
              "0             8.8              10.1              11.0  \n",
              "1             8.8              11.1              12.2  \n",
              "2             9.7              11.7              27.9  \n",
              "3             8.6              11.2              11.3  \n",
              "4            11.6              14.3              15.4  \n",
              "..            ...               ...               ...  \n",
              "57            8.0               NaN               NaN  \n",
              "58            8.0               NaN               NaN  \n",
              "59            9.0               NaN               NaN  \n",
              "60           13.0               NaN               NaN  \n",
              "61            8.0               NaN               NaN  \n",
              "\n",
              "[62 rows x 33 columns]"
            ]
          },
          "execution_count": 6,
          "metadata": {},
          "output_type": "execute_result"
        }
      ],
      "source": [
        "import pandas as pd\n",
        "# dataset de países\n",
        "buyers = pd.read_csv('/content/drive/MyDrive/FIAP/python2 (1)/archive/Buyers-repartition-by-country.csv')\n",
        "buyers"
      ]
    },
    {
      "cell_type": "code",
      "execution_count": null,
      "metadata": {
        "colab": {
          "base_uri": "https://localhost:8080/",
          "height": 488
        },
        "id": "1YvpqPXx1E6Y",
        "outputId": "fda0cae1-07a3-42dc-bc94-d8b08b7549c3"
      },
      "outputs": [
        {
          "data": {
            "text/html": [
              "\n",
              "  <div id=\"df-ab7ef1b1-e61e-4c67-aea5-b159a00e35a8\">\n",
              "    <div class=\"colab-df-container\">\n",
              "      <div>\n",
              "<style scoped>\n",
              "    .dataframe tbody tr th:only-of-type {\n",
              "        vertical-align: middle;\n",
              "    }\n",
              "\n",
              "    .dataframe tbody tr th {\n",
              "        vertical-align: top;\n",
              "    }\n",
              "\n",
              "    .dataframe thead th {\n",
              "        text-align: right;\n",
              "    }\n",
              "</style>\n",
              "<table border=\"1\" class=\"dataframe\">\n",
              "  <thead>\n",
              "    <tr style=\"text-align: right;\">\n",
              "      <th></th>\n",
              "      <th>index</th>\n",
              "      <th>identifierHash</th>\n",
              "      <th>type</th>\n",
              "      <th>country</th>\n",
              "      <th>language</th>\n",
              "      <th>socialNbFollowers</th>\n",
              "      <th>socialNbFollows</th>\n",
              "      <th>socialProductsLiked</th>\n",
              "      <th>productsListed</th>\n",
              "      <th>productsSold</th>\n",
              "      <th>...</th>\n",
              "      <th>civilityTitle</th>\n",
              "      <th>hasAnyApp</th>\n",
              "      <th>hasAndroidApp</th>\n",
              "      <th>hasIosApp</th>\n",
              "      <th>hasProfilePicture</th>\n",
              "      <th>daysSinceLastLogin</th>\n",
              "      <th>seniority</th>\n",
              "      <th>seniorityAsMonths</th>\n",
              "      <th>seniorityAsYears</th>\n",
              "      <th>countryCode</th>\n",
              "    </tr>\n",
              "  </thead>\n",
              "  <tbody>\n",
              "    <tr>\n",
              "      <th>0</th>\n",
              "      <td>0</td>\n",
              "      <td>-7279641312655250028</td>\n",
              "      <td>user</td>\n",
              "      <td>Etats-Unis</td>\n",
              "      <td>en</td>\n",
              "      <td>3</td>\n",
              "      <td>8</td>\n",
              "      <td>0</td>\n",
              "      <td>0</td>\n",
              "      <td>0</td>\n",
              "      <td>...</td>\n",
              "      <td>mrs</td>\n",
              "      <td>False</td>\n",
              "      <td>False</td>\n",
              "      <td>False</td>\n",
              "      <td>True</td>\n",
              "      <td>709</td>\n",
              "      <td>3205</td>\n",
              "      <td>106.83</td>\n",
              "      <td>8.9</td>\n",
              "      <td>us</td>\n",
              "    </tr>\n",
              "    <tr>\n",
              "      <th>1</th>\n",
              "      <td>1</td>\n",
              "      <td>-1456013578740053406</td>\n",
              "      <td>user</td>\n",
              "      <td>Allemagne</td>\n",
              "      <td>de</td>\n",
              "      <td>3</td>\n",
              "      <td>8</td>\n",
              "      <td>0</td>\n",
              "      <td>0</td>\n",
              "      <td>0</td>\n",
              "      <td>...</td>\n",
              "      <td>mrs</td>\n",
              "      <td>False</td>\n",
              "      <td>False</td>\n",
              "      <td>False</td>\n",
              "      <td>True</td>\n",
              "      <td>709</td>\n",
              "      <td>3205</td>\n",
              "      <td>106.83</td>\n",
              "      <td>8.9</td>\n",
              "      <td>de</td>\n",
              "    </tr>\n",
              "    <tr>\n",
              "      <th>2</th>\n",
              "      <td>2</td>\n",
              "      <td>9006282053848196165</td>\n",
              "      <td>user</td>\n",
              "      <td>Suède</td>\n",
              "      <td>en</td>\n",
              "      <td>3</td>\n",
              "      <td>8</td>\n",
              "      <td>0</td>\n",
              "      <td>0</td>\n",
              "      <td>0</td>\n",
              "      <td>...</td>\n",
              "      <td>mr</td>\n",
              "      <td>True</td>\n",
              "      <td>False</td>\n",
              "      <td>True</td>\n",
              "      <td>True</td>\n",
              "      <td>689</td>\n",
              "      <td>3205</td>\n",
              "      <td>106.83</td>\n",
              "      <td>8.9</td>\n",
              "      <td>se</td>\n",
              "    </tr>\n",
              "    <tr>\n",
              "      <th>3</th>\n",
              "      <td>3</td>\n",
              "      <td>-7154634866120535654</td>\n",
              "      <td>user</td>\n",
              "      <td>Turquie</td>\n",
              "      <td>en</td>\n",
              "      <td>3</td>\n",
              "      <td>8</td>\n",
              "      <td>0</td>\n",
              "      <td>0</td>\n",
              "      <td>0</td>\n",
              "      <td>...</td>\n",
              "      <td>mrs</td>\n",
              "      <td>False</td>\n",
              "      <td>False</td>\n",
              "      <td>False</td>\n",
              "      <td>True</td>\n",
              "      <td>709</td>\n",
              "      <td>3205</td>\n",
              "      <td>106.83</td>\n",
              "      <td>8.9</td>\n",
              "      <td>tr</td>\n",
              "    </tr>\n",
              "    <tr>\n",
              "      <th>4</th>\n",
              "      <td>4</td>\n",
              "      <td>2858299215060733023</td>\n",
              "      <td>user</td>\n",
              "      <td>France</td>\n",
              "      <td>en</td>\n",
              "      <td>3</td>\n",
              "      <td>8</td>\n",
              "      <td>0</td>\n",
              "      <td>0</td>\n",
              "      <td>0</td>\n",
              "      <td>...</td>\n",
              "      <td>mr</td>\n",
              "      <td>True</td>\n",
              "      <td>False</td>\n",
              "      <td>True</td>\n",
              "      <td>True</td>\n",
              "      <td>709</td>\n",
              "      <td>3205</td>\n",
              "      <td>106.83</td>\n",
              "      <td>8.9</td>\n",
              "      <td>fr</td>\n",
              "    </tr>\n",
              "    <tr>\n",
              "      <th>...</th>\n",
              "      <td>...</td>\n",
              "      <td>...</td>\n",
              "      <td>...</td>\n",
              "      <td>...</td>\n",
              "      <td>...</td>\n",
              "      <td>...</td>\n",
              "      <td>...</td>\n",
              "      <td>...</td>\n",
              "      <td>...</td>\n",
              "      <td>...</td>\n",
              "      <td>...</td>\n",
              "      <td>...</td>\n",
              "      <td>...</td>\n",
              "      <td>...</td>\n",
              "      <td>...</td>\n",
              "      <td>...</td>\n",
              "      <td>...</td>\n",
              "      <td>...</td>\n",
              "      <td>...</td>\n",
              "      <td>...</td>\n",
              "      <td>...</td>\n",
              "    </tr>\n",
              "    <tr>\n",
              "      <th>98908</th>\n",
              "      <td>98908</td>\n",
              "      <td>-5324380437900495747</td>\n",
              "      <td>user</td>\n",
              "      <td>Etats-Unis</td>\n",
              "      <td>fr</td>\n",
              "      <td>3</td>\n",
              "      <td>8</td>\n",
              "      <td>0</td>\n",
              "      <td>0</td>\n",
              "      <td>0</td>\n",
              "      <td>...</td>\n",
              "      <td>mr</td>\n",
              "      <td>False</td>\n",
              "      <td>False</td>\n",
              "      <td>False</td>\n",
              "      <td>True</td>\n",
              "      <td>708</td>\n",
              "      <td>3204</td>\n",
              "      <td>106.80</td>\n",
              "      <td>8.9</td>\n",
              "      <td>us</td>\n",
              "    </tr>\n",
              "    <tr>\n",
              "      <th>98909</th>\n",
              "      <td>98909</td>\n",
              "      <td>-5607668753771114442</td>\n",
              "      <td>user</td>\n",
              "      <td>France</td>\n",
              "      <td>fr</td>\n",
              "      <td>3</td>\n",
              "      <td>8</td>\n",
              "      <td>0</td>\n",
              "      <td>0</td>\n",
              "      <td>0</td>\n",
              "      <td>...</td>\n",
              "      <td>mr</td>\n",
              "      <td>True</td>\n",
              "      <td>False</td>\n",
              "      <td>True</td>\n",
              "      <td>True</td>\n",
              "      <td>695</td>\n",
              "      <td>3204</td>\n",
              "      <td>106.80</td>\n",
              "      <td>8.9</td>\n",
              "      <td>fr</td>\n",
              "    </tr>\n",
              "    <tr>\n",
              "      <th>98910</th>\n",
              "      <td>98910</td>\n",
              "      <td>350630276238833248</td>\n",
              "      <td>user</td>\n",
              "      <td>Belgique</td>\n",
              "      <td>en</td>\n",
              "      <td>3</td>\n",
              "      <td>8</td>\n",
              "      <td>0</td>\n",
              "      <td>0</td>\n",
              "      <td>0</td>\n",
              "      <td>...</td>\n",
              "      <td>mr</td>\n",
              "      <td>True</td>\n",
              "      <td>True</td>\n",
              "      <td>False</td>\n",
              "      <td>True</td>\n",
              "      <td>520</td>\n",
              "      <td>3204</td>\n",
              "      <td>106.80</td>\n",
              "      <td>8.9</td>\n",
              "      <td>be</td>\n",
              "    </tr>\n",
              "    <tr>\n",
              "      <th>98911</th>\n",
              "      <td>98911</td>\n",
              "      <td>2006580738726207028</td>\n",
              "      <td>user</td>\n",
              "      <td>Italie</td>\n",
              "      <td>it</td>\n",
              "      <td>3</td>\n",
              "      <td>8</td>\n",
              "      <td>0</td>\n",
              "      <td>0</td>\n",
              "      <td>0</td>\n",
              "      <td>...</td>\n",
              "      <td>mrs</td>\n",
              "      <td>False</td>\n",
              "      <td>False</td>\n",
              "      <td>False</td>\n",
              "      <td>True</td>\n",
              "      <td>267</td>\n",
              "      <td>3204</td>\n",
              "      <td>106.80</td>\n",
              "      <td>8.9</td>\n",
              "      <td>it</td>\n",
              "    </tr>\n",
              "    <tr>\n",
              "      <th>98912</th>\n",
              "      <td>98912</td>\n",
              "      <td>-7621316584087253691</td>\n",
              "      <td>user</td>\n",
              "      <td>Guinée</td>\n",
              "      <td>fr</td>\n",
              "      <td>3</td>\n",
              "      <td>8</td>\n",
              "      <td>0</td>\n",
              "      <td>0</td>\n",
              "      <td>0</td>\n",
              "      <td>...</td>\n",
              "      <td>mr</td>\n",
              "      <td>True</td>\n",
              "      <td>False</td>\n",
              "      <td>True</td>\n",
              "      <td>True</td>\n",
              "      <td>561</td>\n",
              "      <td>3204</td>\n",
              "      <td>106.80</td>\n",
              "      <td>8.9</td>\n",
              "      <td>gn</td>\n",
              "    </tr>\n",
              "  </tbody>\n",
              "</table>\n",
              "<p>98913 rows × 25 columns</p>\n",
              "</div>\n",
              "      <button class=\"colab-df-convert\" onclick=\"convertToInteractive('df-ab7ef1b1-e61e-4c67-aea5-b159a00e35a8')\"\n",
              "              title=\"Convert this dataframe to an interactive table.\"\n",
              "              style=\"display:none;\">\n",
              "        \n",
              "  <svg xmlns=\"http://www.w3.org/2000/svg\" height=\"24px\"viewBox=\"0 0 24 24\"\n",
              "       width=\"24px\">\n",
              "    <path d=\"M0 0h24v24H0V0z\" fill=\"none\"/>\n",
              "    <path d=\"M18.56 5.44l.94 2.06.94-2.06 2.06-.94-2.06-.94-.94-2.06-.94 2.06-2.06.94zm-11 1L8.5 8.5l.94-2.06 2.06-.94-2.06-.94L8.5 2.5l-.94 2.06-2.06.94zm10 10l.94 2.06.94-2.06 2.06-.94-2.06-.94-.94-2.06-.94 2.06-2.06.94z\"/><path d=\"M17.41 7.96l-1.37-1.37c-.4-.4-.92-.59-1.43-.59-.52 0-1.04.2-1.43.59L10.3 9.45l-7.72 7.72c-.78.78-.78 2.05 0 2.83L4 21.41c.39.39.9.59 1.41.59.51 0 1.02-.2 1.41-.59l7.78-7.78 2.81-2.81c.8-.78.8-2.07 0-2.86zM5.41 20L4 18.59l7.72-7.72 1.47 1.35L5.41 20z\"/>\n",
              "  </svg>\n",
              "      </button>\n",
              "      \n",
              "  <style>\n",
              "    .colab-df-container {\n",
              "      display:flex;\n",
              "      flex-wrap:wrap;\n",
              "      gap: 12px;\n",
              "    }\n",
              "\n",
              "    .colab-df-convert {\n",
              "      background-color: #E8F0FE;\n",
              "      border: none;\n",
              "      border-radius: 50%;\n",
              "      cursor: pointer;\n",
              "      display: none;\n",
              "      fill: #1967D2;\n",
              "      height: 32px;\n",
              "      padding: 0 0 0 0;\n",
              "      width: 32px;\n",
              "    }\n",
              "\n",
              "    .colab-df-convert:hover {\n",
              "      background-color: #E2EBFA;\n",
              "      box-shadow: 0px 1px 2px rgba(60, 64, 67, 0.3), 0px 1px 3px 1px rgba(60, 64, 67, 0.15);\n",
              "      fill: #174EA6;\n",
              "    }\n",
              "\n",
              "    [theme=dark] .colab-df-convert {\n",
              "      background-color: #3B4455;\n",
              "      fill: #D2E3FC;\n",
              "    }\n",
              "\n",
              "    [theme=dark] .colab-df-convert:hover {\n",
              "      background-color: #434B5C;\n",
              "      box-shadow: 0px 1px 3px 1px rgba(0, 0, 0, 0.15);\n",
              "      filter: drop-shadow(0px 1px 2px rgba(0, 0, 0, 0.3));\n",
              "      fill: #FFFFFF;\n",
              "    }\n",
              "  </style>\n",
              "\n",
              "      <script>\n",
              "        const buttonEl =\n",
              "          document.querySelector('#df-ab7ef1b1-e61e-4c67-aea5-b159a00e35a8 button.colab-df-convert');\n",
              "        buttonEl.style.display =\n",
              "          google.colab.kernel.accessAllowed ? 'block' : 'none';\n",
              "\n",
              "        async function convertToInteractive(key) {\n",
              "          const element = document.querySelector('#df-ab7ef1b1-e61e-4c67-aea5-b159a00e35a8');\n",
              "          const dataTable =\n",
              "            await google.colab.kernel.invokeFunction('convertToInteractive',\n",
              "                                                     [key], {});\n",
              "          if (!dataTable) return;\n",
              "\n",
              "          const docLinkHtml = 'Like what you see? Visit the ' +\n",
              "            '<a target=\"_blank\" href=https://colab.research.google.com/notebooks/data_table.ipynb>data table notebook</a>'\n",
              "            + ' to learn more about interactive tables.';\n",
              "          element.innerHTML = '';\n",
              "          dataTable['output_type'] = 'display_data';\n",
              "          await google.colab.output.renderOutput(dataTable, element);\n",
              "          const docLink = document.createElement('div');\n",
              "          docLink.innerHTML = docLinkHtml;\n",
              "          element.appendChild(docLink);\n",
              "        }\n",
              "      </script>\n",
              "    </div>\n",
              "  </div>\n",
              "  "
            ],
            "text/plain": [
              "       index       identifierHash  type     country language  \\\n",
              "0          0 -7279641312655250028  user  Etats-Unis       en   \n",
              "1          1 -1456013578740053406  user   Allemagne       de   \n",
              "2          2  9006282053848196165  user       Suède       en   \n",
              "3          3 -7154634866120535654  user     Turquie       en   \n",
              "4          4  2858299215060733023  user      France       en   \n",
              "...      ...                  ...   ...         ...      ...   \n",
              "98908  98908 -5324380437900495747  user  Etats-Unis       fr   \n",
              "98909  98909 -5607668753771114442  user      France       fr   \n",
              "98910  98910   350630276238833248  user    Belgique       en   \n",
              "98911  98911  2006580738726207028  user      Italie       it   \n",
              "98912  98912 -7621316584087253691  user      Guinée       fr   \n",
              "\n",
              "       socialNbFollowers  socialNbFollows  socialProductsLiked  \\\n",
              "0                      3                8                    0   \n",
              "1                      3                8                    0   \n",
              "2                      3                8                    0   \n",
              "3                      3                8                    0   \n",
              "4                      3                8                    0   \n",
              "...                  ...              ...                  ...   \n",
              "98908                  3                8                    0   \n",
              "98909                  3                8                    0   \n",
              "98910                  3                8                    0   \n",
              "98911                  3                8                    0   \n",
              "98912                  3                8                    0   \n",
              "\n",
              "       productsListed  productsSold  ...  civilityTitle  hasAnyApp  \\\n",
              "0                   0             0  ...            mrs      False   \n",
              "1                   0             0  ...            mrs      False   \n",
              "2                   0             0  ...             mr       True   \n",
              "3                   0             0  ...            mrs      False   \n",
              "4                   0             0  ...             mr       True   \n",
              "...               ...           ...  ...            ...        ...   \n",
              "98908               0             0  ...             mr      False   \n",
              "98909               0             0  ...             mr       True   \n",
              "98910               0             0  ...             mr       True   \n",
              "98911               0             0  ...            mrs      False   \n",
              "98912               0             0  ...             mr       True   \n",
              "\n",
              "       hasAndroidApp hasIosApp  hasProfilePicture daysSinceLastLogin  \\\n",
              "0              False     False               True                709   \n",
              "1              False     False               True                709   \n",
              "2              False      True               True                689   \n",
              "3              False     False               True                709   \n",
              "4              False      True               True                709   \n",
              "...              ...       ...                ...                ...   \n",
              "98908          False     False               True                708   \n",
              "98909          False      True               True                695   \n",
              "98910           True     False               True                520   \n",
              "98911          False     False               True                267   \n",
              "98912          False      True               True                561   \n",
              "\n",
              "       seniority  seniorityAsMonths  seniorityAsYears  countryCode  \n",
              "0           3205             106.83               8.9           us  \n",
              "1           3205             106.83               8.9           de  \n",
              "2           3205             106.83               8.9           se  \n",
              "3           3205             106.83               8.9           tr  \n",
              "4           3205             106.83               8.9           fr  \n",
              "...          ...                ...               ...          ...  \n",
              "98908       3204             106.80               8.9           us  \n",
              "98909       3204             106.80               8.9           fr  \n",
              "98910       3204             106.80               8.9           be  \n",
              "98911       3204             106.80               8.9           it  \n",
              "98912       3204             106.80               8.9           gn  \n",
              "\n",
              "[98913 rows x 25 columns]"
            ]
          },
          "execution_count": 7,
          "metadata": {},
          "output_type": "execute_result"
        }
      ],
      "source": [
        "import pandas as pd\n",
        "# dataset de usuários\n",
        "users = pd.read_csv('/content/drive/MyDrive/FIAP/python2 (1)/archive/6M-0K-99K.users.dataset.public.csv')\n",
        "users"
      ]
    },
    {
      "cell_type": "code",
      "execution_count": null,
      "metadata": {
        "colab": {
          "base_uri": "https://localhost:8080/",
          "height": 394
        },
        "id": "82ioieUzlzTL",
        "outputId": "e9537b43-7eb3-420d-ebf7-4e7ef2f6204e"
      },
      "outputs": [
        {
          "data": {
            "text/html": [
              "\n",
              "  <div id=\"df-51bb0442-cd4a-4d20-944b-f356ff279ad6\">\n",
              "    <div class=\"colab-df-container\">\n",
              "      <div>\n",
              "<style scoped>\n",
              "    .dataframe tbody tr th:only-of-type {\n",
              "        vertical-align: middle;\n",
              "    }\n",
              "\n",
              "    .dataframe tbody tr th {\n",
              "        vertical-align: top;\n",
              "    }\n",
              "\n",
              "    .dataframe thead th {\n",
              "        text-align: right;\n",
              "    }\n",
              "</style>\n",
              "<table border=\"1\" class=\"dataframe\">\n",
              "  <thead>\n",
              "    <tr style=\"text-align: right;\">\n",
              "      <th></th>\n",
              "      <th>index</th>\n",
              "      <th>buyers</th>\n",
              "      <th>topbuyers</th>\n",
              "      <th>topbuyerratio</th>\n",
              "      <th>femalebuyers</th>\n",
              "      <th>malebuyers</th>\n",
              "      <th>topfemalebuyers</th>\n",
              "      <th>topmalebuyers</th>\n",
              "      <th>femalebuyersratio</th>\n",
              "      <th>topfemalebuyersratio</th>\n",
              "      <th>...</th>\n",
              "      <th>meanproductsliked</th>\n",
              "      <th>topmeanproductsbought</th>\n",
              "      <th>topmeanproductswished</th>\n",
              "      <th>topmeanproductsliked</th>\n",
              "      <th>meanofflinedays</th>\n",
              "      <th>topmeanofflinedays</th>\n",
              "      <th>meanfollowers</th>\n",
              "      <th>meanfollowing</th>\n",
              "      <th>topmeanfollowers</th>\n",
              "      <th>topmeanfollowing</th>\n",
              "    </tr>\n",
              "  </thead>\n",
              "  <tbody>\n",
              "    <tr>\n",
              "      <th>count</th>\n",
              "      <td>62.000000</td>\n",
              "      <td>62.000000</td>\n",
              "      <td>62.000000</td>\n",
              "      <td>62.000000</td>\n",
              "      <td>62.000000</td>\n",
              "      <td>62.000000</td>\n",
              "      <td>62.000000</td>\n",
              "      <td>62.000000</td>\n",
              "      <td>62.000000</td>\n",
              "      <td>33.000000</td>\n",
              "      <td>...</td>\n",
              "      <td>62.000000</td>\n",
              "      <td>33.000000</td>\n",
              "      <td>33.000000</td>\n",
              "      <td>33.000000</td>\n",
              "      <td>62.000000</td>\n",
              "      <td>33.000000</td>\n",
              "      <td>62.000000</td>\n",
              "      <td>62.000000</td>\n",
              "      <td>33.000000</td>\n",
              "      <td>33.000000</td>\n",
              "    </tr>\n",
              "    <tr>\n",
              "      <th>mean</th>\n",
              "      <td>30.500000</td>\n",
              "      <td>87.403226</td>\n",
              "      <td>4.758065</td>\n",
              "      <td>11.003226</td>\n",
              "      <td>63.677419</td>\n",
              "      <td>23.725806</td>\n",
              "      <td>3.548387</td>\n",
              "      <td>1.209677</td>\n",
              "      <td>77.258065</td>\n",
              "      <td>78.321212</td>\n",
              "      <td>...</td>\n",
              "      <td>64.793548</td>\n",
              "      <td>26.690909</td>\n",
              "      <td>174.345455</td>\n",
              "      <td>293.315152</td>\n",
              "      <td>211.259677</td>\n",
              "      <td>43.318182</td>\n",
              "      <td>7.145161</td>\n",
              "      <td>12.996774</td>\n",
              "      <td>14.478788</td>\n",
              "      <td>19.503030</td>\n",
              "    </tr>\n",
              "    <tr>\n",
              "      <th>std</th>\n",
              "      <td>18.041619</td>\n",
              "      <td>229.799161</td>\n",
              "      <td>10.166943</td>\n",
              "      <td>23.097938</td>\n",
              "      <td>163.356271</td>\n",
              "      <td>67.275838</td>\n",
              "      <td>7.146425</td>\n",
              "      <td>3.254944</td>\n",
              "      <td>22.457308</td>\n",
              "      <td>29.450517</td>\n",
              "      <td>...</td>\n",
              "      <td>116.711571</td>\n",
              "      <td>17.214082</td>\n",
              "      <td>200.314512</td>\n",
              "      <td>367.217416</td>\n",
              "      <td>134.349379</td>\n",
              "      <td>40.370499</td>\n",
              "      <td>8.195974</td>\n",
              "      <td>20.898011</td>\n",
              "      <td>11.463877</td>\n",
              "      <td>29.080196</td>\n",
              "    </tr>\n",
              "    <tr>\n",
              "      <th>min</th>\n",
              "      <td>0.000000</td>\n",
              "      <td>1.000000</td>\n",
              "      <td>0.000000</td>\n",
              "      <td>0.000000</td>\n",
              "      <td>0.000000</td>\n",
              "      <td>0.000000</td>\n",
              "      <td>0.000000</td>\n",
              "      <td>0.000000</td>\n",
              "      <td>0.000000</td>\n",
              "      <td>0.000000</td>\n",
              "      <td>...</td>\n",
              "      <td>0.000000</td>\n",
              "      <td>11.000000</td>\n",
              "      <td>0.000000</td>\n",
              "      <td>2.000000</td>\n",
              "      <td>11.000000</td>\n",
              "      <td>11.000000</td>\n",
              "      <td>3.000000</td>\n",
              "      <td>7.700000</td>\n",
              "      <td>4.000000</td>\n",
              "      <td>8.000000</td>\n",
              "    </tr>\n",
              "    <tr>\n",
              "      <th>25%</th>\n",
              "      <td>15.250000</td>\n",
              "      <td>2.000000</td>\n",
              "      <td>0.000000</td>\n",
              "      <td>0.000000</td>\n",
              "      <td>1.000000</td>\n",
              "      <td>0.000000</td>\n",
              "      <td>0.000000</td>\n",
              "      <td>0.000000</td>\n",
              "      <td>69.200000</td>\n",
              "      <td>66.700000</td>\n",
              "      <td>...</td>\n",
              "      <td>10.625000</td>\n",
              "      <td>18.000000</td>\n",
              "      <td>51.600000</td>\n",
              "      <td>106.000000</td>\n",
              "      <td>119.550000</td>\n",
              "      <td>14.000000</td>\n",
              "      <td>4.325000</td>\n",
              "      <td>8.225000</td>\n",
              "      <td>9.000000</td>\n",
              "      <td>9.000000</td>\n",
              "    </tr>\n",
              "    <tr>\n",
              "      <th>50%</th>\n",
              "      <td>30.500000</td>\n",
              "      <td>6.000000</td>\n",
              "      <td>1.000000</td>\n",
              "      <td>3.300000</td>\n",
              "      <td>5.000000</td>\n",
              "      <td>1.000000</td>\n",
              "      <td>0.000000</td>\n",
              "      <td>0.000000</td>\n",
              "      <td>77.800000</td>\n",
              "      <td>88.900000</td>\n",
              "      <td>...</td>\n",
              "      <td>35.750000</td>\n",
              "      <td>21.200000</td>\n",
              "      <td>119.400000</td>\n",
              "      <td>193.700000</td>\n",
              "      <td>222.550000</td>\n",
              "      <td>26.000000</td>\n",
              "      <td>5.550000</td>\n",
              "      <td>8.800000</td>\n",
              "      <td>11.200000</td>\n",
              "      <td>10.600000</td>\n",
              "    </tr>\n",
              "    <tr>\n",
              "      <th>75%</th>\n",
              "      <td>45.750000</td>\n",
              "      <td>30.500000</td>\n",
              "      <td>3.000000</td>\n",
              "      <td>9.850000</td>\n",
              "      <td>22.750000</td>\n",
              "      <td>8.750000</td>\n",
              "      <td>2.750000</td>\n",
              "      <td>1.000000</td>\n",
              "      <td>100.000000</td>\n",
              "      <td>100.000000</td>\n",
              "      <td>...</td>\n",
              "      <td>67.175000</td>\n",
              "      <td>27.900000</td>\n",
              "      <td>208.400000</td>\n",
              "      <td>388.800000</td>\n",
              "      <td>294.725000</td>\n",
              "      <td>68.200000</td>\n",
              "      <td>6.500000</td>\n",
              "      <td>9.500000</td>\n",
              "      <td>16.300000</td>\n",
              "      <td>12.200000</td>\n",
              "    </tr>\n",
              "    <tr>\n",
              "      <th>max</th>\n",
              "      <td>61.000000</td>\n",
              "      <td>1251.000000</td>\n",
              "      <td>53.000000</td>\n",
              "      <td>100.000000</td>\n",
              "      <td>851.000000</td>\n",
              "      <td>400.000000</td>\n",
              "      <td>33.000000</td>\n",
              "      <td>20.000000</td>\n",
              "      <td>100.000000</td>\n",
              "      <td>100.000000</td>\n",
              "      <td>...</td>\n",
              "      <td>792.000000</td>\n",
              "      <td>87.000000</td>\n",
              "      <td>803.000000</td>\n",
              "      <td>2021.000000</td>\n",
              "      <td>692.000000</td>\n",
              "      <td>189.000000</td>\n",
              "      <td>65.000000</td>\n",
              "      <td>157.000000</td>\n",
              "      <td>65.000000</td>\n",
              "      <td>157.000000</td>\n",
              "    </tr>\n",
              "  </tbody>\n",
              "</table>\n",
              "<p>8 rows × 32 columns</p>\n",
              "</div>\n",
              "      <button class=\"colab-df-convert\" onclick=\"convertToInteractive('df-51bb0442-cd4a-4d20-944b-f356ff279ad6')\"\n",
              "              title=\"Convert this dataframe to an interactive table.\"\n",
              "              style=\"display:none;\">\n",
              "        \n",
              "  <svg xmlns=\"http://www.w3.org/2000/svg\" height=\"24px\"viewBox=\"0 0 24 24\"\n",
              "       width=\"24px\">\n",
              "    <path d=\"M0 0h24v24H0V0z\" fill=\"none\"/>\n",
              "    <path d=\"M18.56 5.44l.94 2.06.94-2.06 2.06-.94-2.06-.94-.94-2.06-.94 2.06-2.06.94zm-11 1L8.5 8.5l.94-2.06 2.06-.94-2.06-.94L8.5 2.5l-.94 2.06-2.06.94zm10 10l.94 2.06.94-2.06 2.06-.94-2.06-.94-.94-2.06-.94 2.06-2.06.94z\"/><path d=\"M17.41 7.96l-1.37-1.37c-.4-.4-.92-.59-1.43-.59-.52 0-1.04.2-1.43.59L10.3 9.45l-7.72 7.72c-.78.78-.78 2.05 0 2.83L4 21.41c.39.39.9.59 1.41.59.51 0 1.02-.2 1.41-.59l7.78-7.78 2.81-2.81c.8-.78.8-2.07 0-2.86zM5.41 20L4 18.59l7.72-7.72 1.47 1.35L5.41 20z\"/>\n",
              "  </svg>\n",
              "      </button>\n",
              "      \n",
              "  <style>\n",
              "    .colab-df-container {\n",
              "      display:flex;\n",
              "      flex-wrap:wrap;\n",
              "      gap: 12px;\n",
              "    }\n",
              "\n",
              "    .colab-df-convert {\n",
              "      background-color: #E8F0FE;\n",
              "      border: none;\n",
              "      border-radius: 50%;\n",
              "      cursor: pointer;\n",
              "      display: none;\n",
              "      fill: #1967D2;\n",
              "      height: 32px;\n",
              "      padding: 0 0 0 0;\n",
              "      width: 32px;\n",
              "    }\n",
              "\n",
              "    .colab-df-convert:hover {\n",
              "      background-color: #E2EBFA;\n",
              "      box-shadow: 0px 1px 2px rgba(60, 64, 67, 0.3), 0px 1px 3px 1px rgba(60, 64, 67, 0.15);\n",
              "      fill: #174EA6;\n",
              "    }\n",
              "\n",
              "    [theme=dark] .colab-df-convert {\n",
              "      background-color: #3B4455;\n",
              "      fill: #D2E3FC;\n",
              "    }\n",
              "\n",
              "    [theme=dark] .colab-df-convert:hover {\n",
              "      background-color: #434B5C;\n",
              "      box-shadow: 0px 1px 3px 1px rgba(0, 0, 0, 0.15);\n",
              "      filter: drop-shadow(0px 1px 2px rgba(0, 0, 0, 0.3));\n",
              "      fill: #FFFFFF;\n",
              "    }\n",
              "  </style>\n",
              "\n",
              "      <script>\n",
              "        const buttonEl =\n",
              "          document.querySelector('#df-51bb0442-cd4a-4d20-944b-f356ff279ad6 button.colab-df-convert');\n",
              "        buttonEl.style.display =\n",
              "          google.colab.kernel.accessAllowed ? 'block' : 'none';\n",
              "\n",
              "        async function convertToInteractive(key) {\n",
              "          const element = document.querySelector('#df-51bb0442-cd4a-4d20-944b-f356ff279ad6');\n",
              "          const dataTable =\n",
              "            await google.colab.kernel.invokeFunction('convertToInteractive',\n",
              "                                                     [key], {});\n",
              "          if (!dataTable) return;\n",
              "\n",
              "          const docLinkHtml = 'Like what you see? Visit the ' +\n",
              "            '<a target=\"_blank\" href=https://colab.research.google.com/notebooks/data_table.ipynb>data table notebook</a>'\n",
              "            + ' to learn more about interactive tables.';\n",
              "          element.innerHTML = '';\n",
              "          dataTable['output_type'] = 'display_data';\n",
              "          await google.colab.output.renderOutput(dataTable, element);\n",
              "          const docLink = document.createElement('div');\n",
              "          docLink.innerHTML = docLinkHtml;\n",
              "          element.appendChild(docLink);\n",
              "        }\n",
              "      </script>\n",
              "    </div>\n",
              "  </div>\n",
              "  "
            ],
            "text/plain": [
              "           index       buyers  topbuyers  topbuyerratio  femalebuyers  \\\n",
              "count  62.000000    62.000000  62.000000      62.000000     62.000000   \n",
              "mean   30.500000    87.403226   4.758065      11.003226     63.677419   \n",
              "std    18.041619   229.799161  10.166943      23.097938    163.356271   \n",
              "min     0.000000     1.000000   0.000000       0.000000      0.000000   \n",
              "25%    15.250000     2.000000   0.000000       0.000000      1.000000   \n",
              "50%    30.500000     6.000000   1.000000       3.300000      5.000000   \n",
              "75%    45.750000    30.500000   3.000000       9.850000     22.750000   \n",
              "max    61.000000  1251.000000  53.000000     100.000000    851.000000   \n",
              "\n",
              "       malebuyers  topfemalebuyers  topmalebuyers  femalebuyersratio  \\\n",
              "count   62.000000        62.000000      62.000000          62.000000   \n",
              "mean    23.725806         3.548387       1.209677          77.258065   \n",
              "std     67.275838         7.146425       3.254944          22.457308   \n",
              "min      0.000000         0.000000       0.000000           0.000000   \n",
              "25%      0.000000         0.000000       0.000000          69.200000   \n",
              "50%      1.000000         0.000000       0.000000          77.800000   \n",
              "75%      8.750000         2.750000       1.000000         100.000000   \n",
              "max    400.000000        33.000000      20.000000         100.000000   \n",
              "\n",
              "       topfemalebuyersratio  ...  meanproductsliked  topmeanproductsbought  \\\n",
              "count             33.000000  ...          62.000000              33.000000   \n",
              "mean              78.321212  ...          64.793548              26.690909   \n",
              "std               29.450517  ...         116.711571              17.214082   \n",
              "min                0.000000  ...           0.000000              11.000000   \n",
              "25%               66.700000  ...          10.625000              18.000000   \n",
              "50%               88.900000  ...          35.750000              21.200000   \n",
              "75%              100.000000  ...          67.175000              27.900000   \n",
              "max              100.000000  ...         792.000000              87.000000   \n",
              "\n",
              "       topmeanproductswished  topmeanproductsliked  meanofflinedays  \\\n",
              "count              33.000000             33.000000        62.000000   \n",
              "mean              174.345455            293.315152       211.259677   \n",
              "std               200.314512            367.217416       134.349379   \n",
              "min                 0.000000              2.000000        11.000000   \n",
              "25%                51.600000            106.000000       119.550000   \n",
              "50%               119.400000            193.700000       222.550000   \n",
              "75%               208.400000            388.800000       294.725000   \n",
              "max               803.000000           2021.000000       692.000000   \n",
              "\n",
              "       topmeanofflinedays  meanfollowers  meanfollowing  topmeanfollowers  \\\n",
              "count           33.000000      62.000000      62.000000         33.000000   \n",
              "mean            43.318182       7.145161      12.996774         14.478788   \n",
              "std             40.370499       8.195974      20.898011         11.463877   \n",
              "min             11.000000       3.000000       7.700000          4.000000   \n",
              "25%             14.000000       4.325000       8.225000          9.000000   \n",
              "50%             26.000000       5.550000       8.800000         11.200000   \n",
              "75%             68.200000       6.500000       9.500000         16.300000   \n",
              "max            189.000000      65.000000     157.000000         65.000000   \n",
              "\n",
              "       topmeanfollowing  \n",
              "count         33.000000  \n",
              "mean          19.503030  \n",
              "std           29.080196  \n",
              "min            8.000000  \n",
              "25%            9.000000  \n",
              "50%           10.600000  \n",
              "75%           12.200000  \n",
              "max          157.000000  \n",
              "\n",
              "[8 rows x 32 columns]"
            ]
          },
          "execution_count": 7,
          "metadata": {},
          "output_type": "execute_result"
        }
      ],
      "source": [
        "buyers.describe()"
      ]
    },
    {
      "cell_type": "code",
      "execution_count": null,
      "metadata": {
        "id": "LCLU8vtkXOuU"
      },
      "outputs": [],
      "source": [
        "buyers.info()"
      ]
    },
    {
      "cell_type": "code",
      "execution_count": null,
      "metadata": {
        "id": "MSp7sViY2YfA"
      },
      "outputs": [],
      "source": [
        "buyers[buyers['country'] == 'Brésil']"
      ]
    },
    {
      "cell_type": "code",
      "execution_count": null,
      "metadata": {
        "id": "McXbDvSykVjw"
      },
      "outputs": [],
      "source": [
        "buyers.head(15)"
      ]
    },
    {
      "cell_type": "markdown",
      "metadata": {
        "id": "MJGQnYvyvS0_"
      },
      "source": [
        "# **Analisando compradores por país**"
      ]
    },
    {
      "cell_type": "code",
      "execution_count": null,
      "metadata": {
        "id": "xJ0T0arxjx1R"
      },
      "outputs": [],
      "source": [
        "# import seaborn as sns\n",
        "# import matplotlib.pyplot as plt\n",
        "# #ordenando do maior para o menor pela variável boughtperwishlistratio\n",
        "# buyers.sort_values(by='boughtperwishlistratio', ascending=False)\n",
        "# for i in range(0,10,1):\n",
        "#   fig = sns.barplot(x = 'country', y = 'boughtperwishlistratio', data = buyers.iloc[i:i+10,:])\n",
        "#   plt.title(\"Produtos da lista de desejos que foram comprados\")\n",
        "#   fig.figure.set_size_inches(15, 15)\n",
        "#   plt.show()\n",
        "\n",
        "  # if(i == 60):\n",
        "  #   sns.barplot(x = 'buyers', y = 'boughtperwishlistratio', data = buyers.iloc[60:61,:])\n",
        "  #   plt.title(\"Produtos da lista de desejos que foram comprados\")\n",
        "  # plt.show()\n",
        "# sns.barplot(x = 'buyers', y = 'boughtperwishlistratio', data = buyers.head(15))\n",
        "# plt.title(\"Produtos da lista de desejos que foram comprados\")\n",
        "# plt.show()"
      ]
    },
    {
      "cell_type": "code",
      "execution_count": null,
      "metadata": {
        "colab": {
          "base_uri": "https://localhost:8080/",
          "height": 522
        },
        "id": "f8VLR93ZvfKd",
        "outputId": "2dd63ae2-4d7e-4f34-d618-d0a3f31e9e67"
      },
      "outputs": [
        {
          "data": {
            "text/html": [
              "\n",
              "  <div id=\"df-510ffab6-3ae0-427a-99bc-b0110bb49420\">\n",
              "    <div class=\"colab-df-container\">\n",
              "      <div>\n",
              "<style scoped>\n",
              "    .dataframe tbody tr th:only-of-type {\n",
              "        vertical-align: middle;\n",
              "    }\n",
              "\n",
              "    .dataframe tbody tr th {\n",
              "        vertical-align: top;\n",
              "    }\n",
              "\n",
              "    .dataframe thead th {\n",
              "        text-align: right;\n",
              "    }\n",
              "</style>\n",
              "<table border=\"1\" class=\"dataframe\">\n",
              "  <thead>\n",
              "    <tr style=\"text-align: right;\">\n",
              "      <th></th>\n",
              "      <th>index</th>\n",
              "      <th>country</th>\n",
              "      <th>buyers</th>\n",
              "      <th>topbuyers</th>\n",
              "      <th>topbuyerratio</th>\n",
              "      <th>femalebuyers</th>\n",
              "      <th>malebuyers</th>\n",
              "      <th>topfemalebuyers</th>\n",
              "      <th>topmalebuyers</th>\n",
              "      <th>femalebuyersratio</th>\n",
              "      <th>...</th>\n",
              "      <th>meanproductsliked</th>\n",
              "      <th>topmeanproductsbought</th>\n",
              "      <th>topmeanproductswished</th>\n",
              "      <th>topmeanproductsliked</th>\n",
              "      <th>meanofflinedays</th>\n",
              "      <th>topmeanofflinedays</th>\n",
              "      <th>meanfollowers</th>\n",
              "      <th>meanfollowing</th>\n",
              "      <th>topmeanfollowers</th>\n",
              "      <th>topmeanfollowing</th>\n",
              "    </tr>\n",
              "  </thead>\n",
              "  <tbody>\n",
              "    <tr>\n",
              "      <th>55</th>\n",
              "      <td>55</td>\n",
              "      <td>Bahreïn</td>\n",
              "      <td>1</td>\n",
              "      <td>0</td>\n",
              "      <td>0.0</td>\n",
              "      <td>1</td>\n",
              "      <td>0</td>\n",
              "      <td>0</td>\n",
              "      <td>0</td>\n",
              "      <td>100.0</td>\n",
              "      <td>...</td>\n",
              "      <td>2.0</td>\n",
              "      <td>NaN</td>\n",
              "      <td>NaN</td>\n",
              "      <td>NaN</td>\n",
              "      <td>21.0</td>\n",
              "      <td>NaN</td>\n",
              "      <td>4.0</td>\n",
              "      <td>8.0</td>\n",
              "      <td>NaN</td>\n",
              "      <td>NaN</td>\n",
              "    </tr>\n",
              "    <tr>\n",
              "      <th>56</th>\n",
              "      <td>56</td>\n",
              "      <td>Nouvelle Zélande</td>\n",
              "      <td>1</td>\n",
              "      <td>0</td>\n",
              "      <td>0.0</td>\n",
              "      <td>1</td>\n",
              "      <td>0</td>\n",
              "      <td>0</td>\n",
              "      <td>0</td>\n",
              "      <td>100.0</td>\n",
              "      <td>...</td>\n",
              "      <td>49.0</td>\n",
              "      <td>NaN</td>\n",
              "      <td>NaN</td>\n",
              "      <td>NaN</td>\n",
              "      <td>33.0</td>\n",
              "      <td>NaN</td>\n",
              "      <td>6.0</td>\n",
              "      <td>8.0</td>\n",
              "      <td>NaN</td>\n",
              "      <td>NaN</td>\n",
              "    </tr>\n",
              "    <tr>\n",
              "      <th>19</th>\n",
              "      <td>19</td>\n",
              "      <td>Chine</td>\n",
              "      <td>13</td>\n",
              "      <td>2</td>\n",
              "      <td>15.4</td>\n",
              "      <td>9</td>\n",
              "      <td>4</td>\n",
              "      <td>2</td>\n",
              "      <td>0</td>\n",
              "      <td>69.2</td>\n",
              "      <td>...</td>\n",
              "      <td>45.5</td>\n",
              "      <td>45.5</td>\n",
              "      <td>3.5</td>\n",
              "      <td>220.0</td>\n",
              "      <td>315.9</td>\n",
              "      <td>189.0</td>\n",
              "      <td>4.7</td>\n",
              "      <td>8.5</td>\n",
              "      <td>6.0</td>\n",
              "      <td>10.0</td>\n",
              "    </tr>\n",
              "    <tr>\n",
              "      <th>38</th>\n",
              "      <td>38</td>\n",
              "      <td>Russie</td>\n",
              "      <td>5</td>\n",
              "      <td>0</td>\n",
              "      <td>0.0</td>\n",
              "      <td>4</td>\n",
              "      <td>1</td>\n",
              "      <td>0</td>\n",
              "      <td>0</td>\n",
              "      <td>80.0</td>\n",
              "      <td>...</td>\n",
              "      <td>6.2</td>\n",
              "      <td>NaN</td>\n",
              "      <td>NaN</td>\n",
              "      <td>NaN</td>\n",
              "      <td>285.2</td>\n",
              "      <td>NaN</td>\n",
              "      <td>4.4</td>\n",
              "      <td>8.2</td>\n",
              "      <td>NaN</td>\n",
              "      <td>NaN</td>\n",
              "    </tr>\n",
              "    <tr>\n",
              "      <th>47</th>\n",
              "      <td>47</td>\n",
              "      <td>Arabie Saoudite</td>\n",
              "      <td>2</td>\n",
              "      <td>0</td>\n",
              "      <td>0.0</td>\n",
              "      <td>2</td>\n",
              "      <td>0</td>\n",
              "      <td>0</td>\n",
              "      <td>0</td>\n",
              "      <td>100.0</td>\n",
              "      <td>...</td>\n",
              "      <td>12.5</td>\n",
              "      <td>NaN</td>\n",
              "      <td>NaN</td>\n",
              "      <td>NaN</td>\n",
              "      <td>32.0</td>\n",
              "      <td>NaN</td>\n",
              "      <td>4.5</td>\n",
              "      <td>8.0</td>\n",
              "      <td>NaN</td>\n",
              "      <td>NaN</td>\n",
              "    </tr>\n",
              "    <tr>\n",
              "      <th>...</th>\n",
              "      <td>...</td>\n",
              "      <td>...</td>\n",
              "      <td>...</td>\n",
              "      <td>...</td>\n",
              "      <td>...</td>\n",
              "      <td>...</td>\n",
              "      <td>...</td>\n",
              "      <td>...</td>\n",
              "      <td>...</td>\n",
              "      <td>...</td>\n",
              "      <td>...</td>\n",
              "      <td>...</td>\n",
              "      <td>...</td>\n",
              "      <td>...</td>\n",
              "      <td>...</td>\n",
              "      <td>...</td>\n",
              "      <td>...</td>\n",
              "      <td>...</td>\n",
              "      <td>...</td>\n",
              "      <td>...</td>\n",
              "      <td>...</td>\n",
              "    </tr>\n",
              "    <tr>\n",
              "      <th>49</th>\n",
              "      <td>49</td>\n",
              "      <td>Indonésie</td>\n",
              "      <td>2</td>\n",
              "      <td>0</td>\n",
              "      <td>0.0</td>\n",
              "      <td>1</td>\n",
              "      <td>1</td>\n",
              "      <td>0</td>\n",
              "      <td>0</td>\n",
              "      <td>50.0</td>\n",
              "      <td>...</td>\n",
              "      <td>11.0</td>\n",
              "      <td>NaN</td>\n",
              "      <td>NaN</td>\n",
              "      <td>NaN</td>\n",
              "      <td>331.5</td>\n",
              "      <td>NaN</td>\n",
              "      <td>5.0</td>\n",
              "      <td>9.5</td>\n",
              "      <td>NaN</td>\n",
              "      <td>NaN</td>\n",
              "    </tr>\n",
              "    <tr>\n",
              "      <th>52</th>\n",
              "      <td>52</td>\n",
              "      <td>Slovaquie</td>\n",
              "      <td>2</td>\n",
              "      <td>0</td>\n",
              "      <td>0.0</td>\n",
              "      <td>2</td>\n",
              "      <td>0</td>\n",
              "      <td>0</td>\n",
              "      <td>0</td>\n",
              "      <td>100.0</td>\n",
              "      <td>...</td>\n",
              "      <td>0.0</td>\n",
              "      <td>NaN</td>\n",
              "      <td>NaN</td>\n",
              "      <td>NaN</td>\n",
              "      <td>459.0</td>\n",
              "      <td>NaN</td>\n",
              "      <td>6.5</td>\n",
              "      <td>9.0</td>\n",
              "      <td>NaN</td>\n",
              "      <td>NaN</td>\n",
              "    </tr>\n",
              "    <tr>\n",
              "      <th>57</th>\n",
              "      <td>57</td>\n",
              "      <td>Malte</td>\n",
              "      <td>1</td>\n",
              "      <td>0</td>\n",
              "      <td>0.0</td>\n",
              "      <td>1</td>\n",
              "      <td>0</td>\n",
              "      <td>0</td>\n",
              "      <td>0</td>\n",
              "      <td>100.0</td>\n",
              "      <td>...</td>\n",
              "      <td>2.0</td>\n",
              "      <td>NaN</td>\n",
              "      <td>NaN</td>\n",
              "      <td>NaN</td>\n",
              "      <td>366.0</td>\n",
              "      <td>NaN</td>\n",
              "      <td>3.0</td>\n",
              "      <td>8.0</td>\n",
              "      <td>NaN</td>\n",
              "      <td>NaN</td>\n",
              "    </tr>\n",
              "    <tr>\n",
              "      <th>58</th>\n",
              "      <td>58</td>\n",
              "      <td>Géorgie</td>\n",
              "      <td>1</td>\n",
              "      <td>0</td>\n",
              "      <td>0.0</td>\n",
              "      <td>1</td>\n",
              "      <td>0</td>\n",
              "      <td>0</td>\n",
              "      <td>0</td>\n",
              "      <td>100.0</td>\n",
              "      <td>...</td>\n",
              "      <td>2.0</td>\n",
              "      <td>NaN</td>\n",
              "      <td>NaN</td>\n",
              "      <td>NaN</td>\n",
              "      <td>37.0</td>\n",
              "      <td>NaN</td>\n",
              "      <td>3.0</td>\n",
              "      <td>8.0</td>\n",
              "      <td>NaN</td>\n",
              "      <td>NaN</td>\n",
              "    </tr>\n",
              "    <tr>\n",
              "      <th>61</th>\n",
              "      <td>61</td>\n",
              "      <td>Qatar</td>\n",
              "      <td>1</td>\n",
              "      <td>0</td>\n",
              "      <td>0.0</td>\n",
              "      <td>1</td>\n",
              "      <td>0</td>\n",
              "      <td>0</td>\n",
              "      <td>0</td>\n",
              "      <td>100.0</td>\n",
              "      <td>...</td>\n",
              "      <td>0.0</td>\n",
              "      <td>NaN</td>\n",
              "      <td>NaN</td>\n",
              "      <td>NaN</td>\n",
              "      <td>692.0</td>\n",
              "      <td>NaN</td>\n",
              "      <td>3.0</td>\n",
              "      <td>8.0</td>\n",
              "      <td>NaN</td>\n",
              "      <td>NaN</td>\n",
              "    </tr>\n",
              "  </tbody>\n",
              "</table>\n",
              "<p>62 rows × 33 columns</p>\n",
              "</div>\n",
              "      <button class=\"colab-df-convert\" onclick=\"convertToInteractive('df-510ffab6-3ae0-427a-99bc-b0110bb49420')\"\n",
              "              title=\"Convert this dataframe to an interactive table.\"\n",
              "              style=\"display:none;\">\n",
              "        \n",
              "  <svg xmlns=\"http://www.w3.org/2000/svg\" height=\"24px\"viewBox=\"0 0 24 24\"\n",
              "       width=\"24px\">\n",
              "    <path d=\"M0 0h24v24H0V0z\" fill=\"none\"/>\n",
              "    <path d=\"M18.56 5.44l.94 2.06.94-2.06 2.06-.94-2.06-.94-.94-2.06-.94 2.06-2.06.94zm-11 1L8.5 8.5l.94-2.06 2.06-.94-2.06-.94L8.5 2.5l-.94 2.06-2.06.94zm10 10l.94 2.06.94-2.06 2.06-.94-2.06-.94-.94-2.06-.94 2.06-2.06.94z\"/><path d=\"M17.41 7.96l-1.37-1.37c-.4-.4-.92-.59-1.43-.59-.52 0-1.04.2-1.43.59L10.3 9.45l-7.72 7.72c-.78.78-.78 2.05 0 2.83L4 21.41c.39.39.9.59 1.41.59.51 0 1.02-.2 1.41-.59l7.78-7.78 2.81-2.81c.8-.78.8-2.07 0-2.86zM5.41 20L4 18.59l7.72-7.72 1.47 1.35L5.41 20z\"/>\n",
              "  </svg>\n",
              "      </button>\n",
              "      \n",
              "  <style>\n",
              "    .colab-df-container {\n",
              "      display:flex;\n",
              "      flex-wrap:wrap;\n",
              "      gap: 12px;\n",
              "    }\n",
              "\n",
              "    .colab-df-convert {\n",
              "      background-color: #E8F0FE;\n",
              "      border: none;\n",
              "      border-radius: 50%;\n",
              "      cursor: pointer;\n",
              "      display: none;\n",
              "      fill: #1967D2;\n",
              "      height: 32px;\n",
              "      padding: 0 0 0 0;\n",
              "      width: 32px;\n",
              "    }\n",
              "\n",
              "    .colab-df-convert:hover {\n",
              "      background-color: #E2EBFA;\n",
              "      box-shadow: 0px 1px 2px rgba(60, 64, 67, 0.3), 0px 1px 3px 1px rgba(60, 64, 67, 0.15);\n",
              "      fill: #174EA6;\n",
              "    }\n",
              "\n",
              "    [theme=dark] .colab-df-convert {\n",
              "      background-color: #3B4455;\n",
              "      fill: #D2E3FC;\n",
              "    }\n",
              "\n",
              "    [theme=dark] .colab-df-convert:hover {\n",
              "      background-color: #434B5C;\n",
              "      box-shadow: 0px 1px 3px 1px rgba(0, 0, 0, 0.15);\n",
              "      filter: drop-shadow(0px 1px 2px rgba(0, 0, 0, 0.3));\n",
              "      fill: #FFFFFF;\n",
              "    }\n",
              "  </style>\n",
              "\n",
              "      <script>\n",
              "        const buttonEl =\n",
              "          document.querySelector('#df-510ffab6-3ae0-427a-99bc-b0110bb49420 button.colab-df-convert');\n",
              "        buttonEl.style.display =\n",
              "          google.colab.kernel.accessAllowed ? 'block' : 'none';\n",
              "\n",
              "        async function convertToInteractive(key) {\n",
              "          const element = document.querySelector('#df-510ffab6-3ae0-427a-99bc-b0110bb49420');\n",
              "          const dataTable =\n",
              "            await google.colab.kernel.invokeFunction('convertToInteractive',\n",
              "                                                     [key], {});\n",
              "          if (!dataTable) return;\n",
              "\n",
              "          const docLinkHtml = 'Like what you see? Visit the ' +\n",
              "            '<a target=\"_blank\" href=https://colab.research.google.com/notebooks/data_table.ipynb>data table notebook</a>'\n",
              "            + ' to learn more about interactive tables.';\n",
              "          element.innerHTML = '';\n",
              "          dataTable['output_type'] = 'display_data';\n",
              "          await google.colab.output.renderOutput(dataTable, element);\n",
              "          const docLink = document.createElement('div');\n",
              "          docLink.innerHTML = docLinkHtml;\n",
              "          element.appendChild(docLink);\n",
              "        }\n",
              "      </script>\n",
              "    </div>\n",
              "  </div>\n",
              "  "
            ],
            "text/plain": [
              "    index           country  buyers  topbuyers  topbuyerratio  femalebuyers  \\\n",
              "55     55           Bahreïn       1          0            0.0             1   \n",
              "56     56  Nouvelle Zélande       1          0            0.0             1   \n",
              "19     19             Chine      13          2           15.4             9   \n",
              "38     38            Russie       5          0            0.0             4   \n",
              "47     47   Arabie Saoudite       2          0            0.0             2   \n",
              "..    ...               ...     ...        ...            ...           ...   \n",
              "49     49         Indonésie       2          0            0.0             1   \n",
              "52     52         Slovaquie       2          0            0.0             2   \n",
              "57     57             Malte       1          0            0.0             1   \n",
              "58     58           Géorgie       1          0            0.0             1   \n",
              "61     61             Qatar       1          0            0.0             1   \n",
              "\n",
              "    malebuyers  topfemalebuyers  topmalebuyers  femalebuyersratio  ...  \\\n",
              "55           0                0              0              100.0  ...   \n",
              "56           0                0              0              100.0  ...   \n",
              "19           4                2              0               69.2  ...   \n",
              "38           1                0              0               80.0  ...   \n",
              "47           0                0              0              100.0  ...   \n",
              "..         ...              ...            ...                ...  ...   \n",
              "49           1                0              0               50.0  ...   \n",
              "52           0                0              0              100.0  ...   \n",
              "57           0                0              0              100.0  ...   \n",
              "58           0                0              0              100.0  ...   \n",
              "61           0                0              0              100.0  ...   \n",
              "\n",
              "    meanproductsliked  topmeanproductsbought  topmeanproductswished  \\\n",
              "55                2.0                    NaN                    NaN   \n",
              "56               49.0                    NaN                    NaN   \n",
              "19               45.5                   45.5                    3.5   \n",
              "38                6.2                    NaN                    NaN   \n",
              "47               12.5                    NaN                    NaN   \n",
              "..                ...                    ...                    ...   \n",
              "49               11.0                    NaN                    NaN   \n",
              "52                0.0                    NaN                    NaN   \n",
              "57                2.0                    NaN                    NaN   \n",
              "58                2.0                    NaN                    NaN   \n",
              "61                0.0                    NaN                    NaN   \n",
              "\n",
              "    topmeanproductsliked  meanofflinedays  topmeanofflinedays  meanfollowers  \\\n",
              "55                   NaN             21.0                 NaN            4.0   \n",
              "56                   NaN             33.0                 NaN            6.0   \n",
              "19                 220.0            315.9               189.0            4.7   \n",
              "38                   NaN            285.2                 NaN            4.4   \n",
              "47                   NaN             32.0                 NaN            4.5   \n",
              "..                   ...              ...                 ...            ...   \n",
              "49                   NaN            331.5                 NaN            5.0   \n",
              "52                   NaN            459.0                 NaN            6.5   \n",
              "57                   NaN            366.0                 NaN            3.0   \n",
              "58                   NaN             37.0                 NaN            3.0   \n",
              "61                   NaN            692.0                 NaN            3.0   \n",
              "\n",
              "    meanfollowing  topmeanfollowers  topmeanfollowing  \n",
              "55            8.0               NaN               NaN  \n",
              "56            8.0               NaN               NaN  \n",
              "19            8.5               6.0              10.0  \n",
              "38            8.2               NaN               NaN  \n",
              "47            8.0               NaN               NaN  \n",
              "..            ...               ...               ...  \n",
              "49            9.5               NaN               NaN  \n",
              "52            9.0               NaN               NaN  \n",
              "57            8.0               NaN               NaN  \n",
              "58            8.0               NaN               NaN  \n",
              "61            8.0               NaN               NaN  \n",
              "\n",
              "[62 rows x 33 columns]"
            ]
          },
          "execution_count": 8,
          "metadata": {},
          "output_type": "execute_result"
        }
      ],
      "source": [
        "buyers.sort_values(by='boughtperwishlistratio', ascending=False)"
      ]
    },
    {
      "cell_type": "code",
      "execution_count": null,
      "metadata": {
        "colab": {
          "base_uri": "https://localhost:8080/",
          "height": 364
        },
        "id": "iNH-6YsSBNMF",
        "outputId": "d725771a-3b57-47db-f607-33c6e1885387"
      },
      "outputs": [
        {
          "data": {
            "text/html": [
              "\n",
              "  <div id=\"df-01e90238-7d3e-4ead-8908-328f78e13734\">\n",
              "    <div class=\"colab-df-container\">\n",
              "      <div>\n",
              "<style scoped>\n",
              "    .dataframe tbody tr th:only-of-type {\n",
              "        vertical-align: middle;\n",
              "    }\n",
              "\n",
              "    .dataframe tbody tr th {\n",
              "        vertical-align: top;\n",
              "    }\n",
              "\n",
              "    .dataframe thead th {\n",
              "        text-align: right;\n",
              "    }\n",
              "</style>\n",
              "<table border=\"1\" class=\"dataframe\">\n",
              "  <thead>\n",
              "    <tr style=\"text-align: right;\">\n",
              "      <th></th>\n",
              "      <th>index</th>\n",
              "      <th>identifierHash</th>\n",
              "      <th>socialNbFollowers</th>\n",
              "      <th>socialNbFollows</th>\n",
              "      <th>socialProductsLiked</th>\n",
              "      <th>productsListed</th>\n",
              "      <th>productsSold</th>\n",
              "      <th>productsPassRate</th>\n",
              "      <th>productsWished</th>\n",
              "      <th>productsBought</th>\n",
              "      <th>civilityGenderId</th>\n",
              "      <th>daysSinceLastLogin</th>\n",
              "      <th>seniority</th>\n",
              "      <th>seniorityAsMonths</th>\n",
              "      <th>seniorityAsYears</th>\n",
              "    </tr>\n",
              "  </thead>\n",
              "  <tbody>\n",
              "    <tr>\n",
              "      <th>count</th>\n",
              "      <td>98913.000000</td>\n",
              "      <td>9.891300e+04</td>\n",
              "      <td>98913.000000</td>\n",
              "      <td>98913.000000</td>\n",
              "      <td>98913.000000</td>\n",
              "      <td>98913.000000</td>\n",
              "      <td>98913.000000</td>\n",
              "      <td>98913.000000</td>\n",
              "      <td>98913.000000</td>\n",
              "      <td>98913.000000</td>\n",
              "      <td>98913.000000</td>\n",
              "      <td>98913.000000</td>\n",
              "      <td>98913.000000</td>\n",
              "      <td>98913.000000</td>\n",
              "      <td>98913.000000</td>\n",
              "    </tr>\n",
              "    <tr>\n",
              "      <th>mean</th>\n",
              "      <td>49456.000000</td>\n",
              "      <td>-6.692039e+15</td>\n",
              "      <td>3.432269</td>\n",
              "      <td>8.425677</td>\n",
              "      <td>4.420743</td>\n",
              "      <td>0.093304</td>\n",
              "      <td>0.121592</td>\n",
              "      <td>0.812303</td>\n",
              "      <td>1.562595</td>\n",
              "      <td>0.171929</td>\n",
              "      <td>1.773993</td>\n",
              "      <td>655.732310</td>\n",
              "      <td>3063.771870</td>\n",
              "      <td>102.125583</td>\n",
              "      <td>8.510424</td>\n",
              "    </tr>\n",
              "    <tr>\n",
              "      <th>std</th>\n",
              "      <td>28553.867925</td>\n",
              "      <td>5.330807e+18</td>\n",
              "      <td>3.882383</td>\n",
              "      <td>52.839572</td>\n",
              "      <td>181.030569</td>\n",
              "      <td>2.050144</td>\n",
              "      <td>2.126895</td>\n",
              "      <td>8.500205</td>\n",
              "      <td>25.192793</td>\n",
              "      <td>2.332266</td>\n",
              "      <td>0.428679</td>\n",
              "      <td>7407.430369</td>\n",
              "      <td>168.298621</td>\n",
              "      <td>5.609735</td>\n",
              "      <td>0.467863</td>\n",
              "    </tr>\n",
              "    <tr>\n",
              "      <th>min</th>\n",
              "      <td>0.000000</td>\n",
              "      <td>-9.223101e+18</td>\n",
              "      <td>3.000000</td>\n",
              "      <td>0.000000</td>\n",
              "      <td>0.000000</td>\n",
              "      <td>0.000000</td>\n",
              "      <td>0.000000</td>\n",
              "      <td>0.000000</td>\n",
              "      <td>0.000000</td>\n",
              "      <td>0.000000</td>\n",
              "      <td>1.000000</td>\n",
              "      <td>11.000000</td>\n",
              "      <td>2852.000000</td>\n",
              "      <td>95.070000</td>\n",
              "      <td>7.920000</td>\n",
              "    </tr>\n",
              "    <tr>\n",
              "      <th>25%</th>\n",
              "      <td>24728.000000</td>\n",
              "      <td>-4.622895e+18</td>\n",
              "      <td>3.000000</td>\n",
              "      <td>8.000000</td>\n",
              "      <td>0.000000</td>\n",
              "      <td>0.000000</td>\n",
              "      <td>0.000000</td>\n",
              "      <td>0.000000</td>\n",
              "      <td>0.000000</td>\n",
              "      <td>0.000000</td>\n",
              "      <td>2.000000</td>\n",
              "      <td>572.000000</td>\n",
              "      <td>2857.000000</td>\n",
              "      <td>95.230000</td>\n",
              "      <td>7.940000</td>\n",
              "    </tr>\n",
              "    <tr>\n",
              "      <th>50%</th>\n",
              "      <td>49456.000000</td>\n",
              "      <td>-1.337989e+15</td>\n",
              "      <td>3.000000</td>\n",
              "      <td>8.000000</td>\n",
              "      <td>0.000000</td>\n",
              "      <td>0.000000</td>\n",
              "      <td>0.000000</td>\n",
              "      <td>0.000000</td>\n",
              "      <td>0.000000</td>\n",
              "      <td>0.000000</td>\n",
              "      <td>2.000000</td>\n",
              "      <td>694.000000</td>\n",
              "      <td>3196.000000</td>\n",
              "      <td>106.530000</td>\n",
              "      <td>8.880000</td>\n",
              "    </tr>\n",
              "    <tr>\n",
              "      <th>75%</th>\n",
              "      <td>74184.000000</td>\n",
              "      <td>4.616388e+18</td>\n",
              "      <td>3.000000</td>\n",
              "      <td>8.000000</td>\n",
              "      <td>0.000000</td>\n",
              "      <td>0.000000</td>\n",
              "      <td>0.000000</td>\n",
              "      <td>0.000000</td>\n",
              "      <td>0.000000</td>\n",
              "      <td>0.000000</td>\n",
              "      <td>2.000000</td>\n",
              "      <td>702.000000</td>\n",
              "      <td>3201.000000</td>\n",
              "      <td>106.700000</td>\n",
              "      <td>8.890000</td>\n",
              "    </tr>\n",
              "    <tr>\n",
              "      <th>max</th>\n",
              "      <td>98912.000000</td>\n",
              "      <td>9.223331e+18</td>\n",
              "      <td>744.000000</td>\n",
              "      <td>13764.000000</td>\n",
              "      <td>51671.000000</td>\n",
              "      <td>244.000000</td>\n",
              "      <td>174.000000</td>\n",
              "      <td>100.000000</td>\n",
              "      <td>2635.000000</td>\n",
              "      <td>405.000000</td>\n",
              "      <td>3.000000</td>\n",
              "      <td>737028.000000</td>\n",
              "      <td>3205.000000</td>\n",
              "      <td>106.830000</td>\n",
              "      <td>8.900000</td>\n",
              "    </tr>\n",
              "  </tbody>\n",
              "</table>\n",
              "</div>\n",
              "      <button class=\"colab-df-convert\" onclick=\"convertToInteractive('df-01e90238-7d3e-4ead-8908-328f78e13734')\"\n",
              "              title=\"Convert this dataframe to an interactive table.\"\n",
              "              style=\"display:none;\">\n",
              "        \n",
              "  <svg xmlns=\"http://www.w3.org/2000/svg\" height=\"24px\"viewBox=\"0 0 24 24\"\n",
              "       width=\"24px\">\n",
              "    <path d=\"M0 0h24v24H0V0z\" fill=\"none\"/>\n",
              "    <path d=\"M18.56 5.44l.94 2.06.94-2.06 2.06-.94-2.06-.94-.94-2.06-.94 2.06-2.06.94zm-11 1L8.5 8.5l.94-2.06 2.06-.94-2.06-.94L8.5 2.5l-.94 2.06-2.06.94zm10 10l.94 2.06.94-2.06 2.06-.94-2.06-.94-.94-2.06-.94 2.06-2.06.94z\"/><path d=\"M17.41 7.96l-1.37-1.37c-.4-.4-.92-.59-1.43-.59-.52 0-1.04.2-1.43.59L10.3 9.45l-7.72 7.72c-.78.78-.78 2.05 0 2.83L4 21.41c.39.39.9.59 1.41.59.51 0 1.02-.2 1.41-.59l7.78-7.78 2.81-2.81c.8-.78.8-2.07 0-2.86zM5.41 20L4 18.59l7.72-7.72 1.47 1.35L5.41 20z\"/>\n",
              "  </svg>\n",
              "      </button>\n",
              "      \n",
              "  <style>\n",
              "    .colab-df-container {\n",
              "      display:flex;\n",
              "      flex-wrap:wrap;\n",
              "      gap: 12px;\n",
              "    }\n",
              "\n",
              "    .colab-df-convert {\n",
              "      background-color: #E8F0FE;\n",
              "      border: none;\n",
              "      border-radius: 50%;\n",
              "      cursor: pointer;\n",
              "      display: none;\n",
              "      fill: #1967D2;\n",
              "      height: 32px;\n",
              "      padding: 0 0 0 0;\n",
              "      width: 32px;\n",
              "    }\n",
              "\n",
              "    .colab-df-convert:hover {\n",
              "      background-color: #E2EBFA;\n",
              "      box-shadow: 0px 1px 2px rgba(60, 64, 67, 0.3), 0px 1px 3px 1px rgba(60, 64, 67, 0.15);\n",
              "      fill: #174EA6;\n",
              "    }\n",
              "\n",
              "    [theme=dark] .colab-df-convert {\n",
              "      background-color: #3B4455;\n",
              "      fill: #D2E3FC;\n",
              "    }\n",
              "\n",
              "    [theme=dark] .colab-df-convert:hover {\n",
              "      background-color: #434B5C;\n",
              "      box-shadow: 0px 1px 3px 1px rgba(0, 0, 0, 0.15);\n",
              "      filter: drop-shadow(0px 1px 2px rgba(0, 0, 0, 0.3));\n",
              "      fill: #FFFFFF;\n",
              "    }\n",
              "  </style>\n",
              "\n",
              "      <script>\n",
              "        const buttonEl =\n",
              "          document.querySelector('#df-01e90238-7d3e-4ead-8908-328f78e13734 button.colab-df-convert');\n",
              "        buttonEl.style.display =\n",
              "          google.colab.kernel.accessAllowed ? 'block' : 'none';\n",
              "\n",
              "        async function convertToInteractive(key) {\n",
              "          const element = document.querySelector('#df-01e90238-7d3e-4ead-8908-328f78e13734');\n",
              "          const dataTable =\n",
              "            await google.colab.kernel.invokeFunction('convertToInteractive',\n",
              "                                                     [key], {});\n",
              "          if (!dataTable) return;\n",
              "\n",
              "          const docLinkHtml = 'Like what you see? Visit the ' +\n",
              "            '<a target=\"_blank\" href=https://colab.research.google.com/notebooks/data_table.ipynb>data table notebook</a>'\n",
              "            + ' to learn more about interactive tables.';\n",
              "          element.innerHTML = '';\n",
              "          dataTable['output_type'] = 'display_data';\n",
              "          await google.colab.output.renderOutput(dataTable, element);\n",
              "          const docLink = document.createElement('div');\n",
              "          docLink.innerHTML = docLinkHtml;\n",
              "          element.appendChild(docLink);\n",
              "        }\n",
              "      </script>\n",
              "    </div>\n",
              "  </div>\n",
              "  "
            ],
            "text/plain": [
              "              index  identifierHash  socialNbFollowers  socialNbFollows  \\\n",
              "count  98913.000000    9.891300e+04       98913.000000     98913.000000   \n",
              "mean   49456.000000   -6.692039e+15           3.432269         8.425677   \n",
              "std    28553.867925    5.330807e+18           3.882383        52.839572   \n",
              "min        0.000000   -9.223101e+18           3.000000         0.000000   \n",
              "25%    24728.000000   -4.622895e+18           3.000000         8.000000   \n",
              "50%    49456.000000   -1.337989e+15           3.000000         8.000000   \n",
              "75%    74184.000000    4.616388e+18           3.000000         8.000000   \n",
              "max    98912.000000    9.223331e+18         744.000000     13764.000000   \n",
              "\n",
              "       socialProductsLiked  productsListed  productsSold  productsPassRate  \\\n",
              "count         98913.000000    98913.000000  98913.000000      98913.000000   \n",
              "mean              4.420743        0.093304      0.121592          0.812303   \n",
              "std             181.030569        2.050144      2.126895          8.500205   \n",
              "min               0.000000        0.000000      0.000000          0.000000   \n",
              "25%               0.000000        0.000000      0.000000          0.000000   \n",
              "50%               0.000000        0.000000      0.000000          0.000000   \n",
              "75%               0.000000        0.000000      0.000000          0.000000   \n",
              "max           51671.000000      244.000000    174.000000        100.000000   \n",
              "\n",
              "       productsWished  productsBought  civilityGenderId  daysSinceLastLogin  \\\n",
              "count    98913.000000    98913.000000      98913.000000        98913.000000   \n",
              "mean         1.562595        0.171929          1.773993          655.732310   \n",
              "std         25.192793        2.332266          0.428679         7407.430369   \n",
              "min          0.000000        0.000000          1.000000           11.000000   \n",
              "25%          0.000000        0.000000          2.000000          572.000000   \n",
              "50%          0.000000        0.000000          2.000000          694.000000   \n",
              "75%          0.000000        0.000000          2.000000          702.000000   \n",
              "max       2635.000000      405.000000          3.000000       737028.000000   \n",
              "\n",
              "          seniority  seniorityAsMonths  seniorityAsYears  \n",
              "count  98913.000000       98913.000000      98913.000000  \n",
              "mean    3063.771870         102.125583          8.510424  \n",
              "std      168.298621           5.609735          0.467863  \n",
              "min     2852.000000          95.070000          7.920000  \n",
              "25%     2857.000000          95.230000          7.940000  \n",
              "50%     3196.000000         106.530000          8.880000  \n",
              "75%     3201.000000         106.700000          8.890000  \n",
              "max     3205.000000         106.830000          8.900000  "
            ]
          },
          "execution_count": 31,
          "metadata": {},
          "output_type": "execute_result"
        }
      ],
      "source": [
        "users.describe()"
      ]
    },
    {
      "cell_type": "code",
      "execution_count": null,
      "metadata": {
        "colab": {
          "base_uri": "https://localhost:8080/",
          "height": 1000
        },
        "id": "HczhJ_Fflx-b",
        "outputId": "f012d469-ea96-44fc-e685-66c9fa397554"
      },
      "outputs": [
        {
          "data": {
            "image/png": "[encoded data removed]",
            "text/plain": [
              "<Figure size 2160x2160 with 1 Axes>"
            ]
          },
          "metadata": {},
          "output_type": "display_data"
        }
      ],
      "source": [
        "import seaborn as sns\n",
        "import matplotlib.pyplot as plt\n",
        "\n",
        "fig = sns.barplot(x = 'country', y = 'boughtperlikeratio', data = buyers.head(20))\n",
        "plt.title(\"Produtos da lista de likes que foram comprados\")\n",
        "fig.figure.set_size_inches(30, 30)\n",
        "plt.show()"
      ]
    },
    {
      "cell_type": "code",
      "execution_count": null,
      "metadata": {
        "colab": {
          "base_uri": "https://localhost:8080/"
        },
        "id": "FUP-b4OOhJPb",
        "outputId": "23520a31-fbb1-4105-d490-95cff419a8a5"
      },
      "outputs": [
        {
          "data": {
            "text/plain": [
              "index                         0.00\n",
              "country                       0.00\n",
              "buyers                        0.00\n",
              "topbuyers                     0.00\n",
              "topbuyerratio                 0.00\n",
              "femalebuyers                  0.00\n",
              "malebuyers                    0.00\n",
              "topfemalebuyers               0.00\n",
              "topmalebuyers                 0.00\n",
              "femalebuyersratio             0.00\n",
              "topfemalebuyersratio         46.77\n",
              "boughtperwishlistratio        8.06\n",
              "boughtperlikeratio            3.23\n",
              "topboughtperwishlistratio    48.39\n",
              "topboughtperlikeratio        46.77\n",
              "totalproductsbought           0.00\n",
              "totalproductswished           0.00\n",
              "totalproductsliked            0.00\n",
              "toptotalproductsbought        0.00\n",
              "toptotalproductswished        0.00\n",
              "toptotalproductsliked         0.00\n",
              "meanproductsbought            0.00\n",
              "meanproductswished            0.00\n",
              "meanproductsliked             0.00\n",
              "topmeanproductsbought        46.77\n",
              "topmeanproductswished        46.77\n",
              "topmeanproductsliked         46.77\n",
              "meanofflinedays               0.00\n",
              "topmeanofflinedays           46.77\n",
              "meanfollowers                 0.00\n",
              "meanfollowing                 0.00\n",
              "topmeanfollowers             46.77\n",
              "topmeanfollowing             46.77\n",
              "dtype: float64"
            ]
          },
          "execution_count": 29,
          "metadata": {},
          "output_type": "execute_result"
        }
      ],
      "source": [
        "buyers.isnull().mean().round(4)*100"
      ]
    },
    {
      "cell_type": "markdown",
      "metadata": {
        "id": "dNCCYVCVxKsH"
      },
      "source": [
        "Analisando taxas de conversão por países\n",
        "\n",
        "Os países serão separados por faixas de quantidades de produtos vendidos para analisar as seguintes variáveis:\n",
        "\n",
        "- boughtperwishlistratio\tRatio of products bought to products wished for in the country. (Float)\n",
        "- boughtperlikeratio\tRatio of products bought to products liked in the country. (Float)"
      ]
    },
    {
      "cell_type": "markdown",
      "metadata": {
        "id": "KBs3UWBU3Fl1"
      },
      "source": [
        "Categorias:\n",
        "\n",
        "1000> : \n",
        "500>:\n",
        "100>: \n",
        "10>:\n",
        "1>:\n",
        "0"
      ]
    },
    {
      "cell_type": "code",
      "execution_count": null,
      "metadata": {
        "colab": {
          "base_uri": "https://localhost:8080/"
        },
        "id": "wq218gVJzgaN",
        "outputId": "97b89590-3b9c-4017-d213-658f8ffcaa90"
      },
      "outputs": [
        {
          "data": {
            "text/plain": [
              "0     3573\n",
              "1     2174\n",
              "2     2370\n",
              "3     1635\n",
              "4     1221\n",
              "      ... \n",
              "57       1\n",
              "58       3\n",
              "59       1\n",
              "60       4\n",
              "61       1\n",
              "Name: totalproductsbought, Length: 62, dtype: int64"
            ]
          },
          "execution_count": 30,
          "metadata": {},
          "output_type": "execute_result"
        }
      ],
      "source": [
        "buyers['totalproductsbought']"
      ]
    },
    {
      "cell_type": "code",
      "execution_count": null,
      "metadata": {
        "id": "NBWP9buh2Jcl"
      },
      "outputs": [],
      "source": [
        "buyers['categorias'] = pd.cut(buyers['totalproductsbought'], bins=[0,1,10,100,500,1000, 3574], labels=['1','1-10','10-100','100-500','500-1000','+1000'])\n"
      ]
    },
    {
      "cell_type": "code",
      "execution_count": null,
      "metadata": {
        "colab": {
          "base_uri": "https://localhost:8080/"
        },
        "id": "D0jfAHh6E6_r",
        "outputId": "2f68aa8f-d6c8-44ed-fbb7-8684ba88e4d0"
      },
      "outputs": [
        {
          "data": {
            "text/plain": [
              "0     +1000\n",
              "1     +1000\n",
              "2     +1000\n",
              "3     +1000\n",
              "4     +1000\n",
              "      ...  \n",
              "57        1\n",
              "58     1-10\n",
              "59        1\n",
              "60     1-10\n",
              "61        1\n",
              "Name: categorias, Length: 62, dtype: category\n",
              "Categories (6, object): ['1' < '1-10' < '10-100' < '100-500' < '500-1000' < '+1000']"
            ]
          },
          "execution_count": 90,
          "metadata": {},
          "output_type": "execute_result"
        }
      ],
      "source": [
        "buyers['categorias']"
      ]
    },
    {
      "cell_type": "code",
      "execution_count": null,
      "metadata": {
        "colab": {
          "base_uri": "https://localhost:8080/"
        },
        "id": "q4XlG0hAI_Lq",
        "outputId": "78e5694c-6cd5-4977-cb55-31b40c365e4b"
      },
      "outputs": [
        {
          "data": {
            "text/plain": [
              "categorias\n",
              "0       3\n",
              "1      19\n",
              "10     15\n",
              "100    11\n",
              "500     3\n",
              "Name: boughtperwishlistratio, dtype: int64"
            ]
          },
          "execution_count": 55,
          "metadata": {},
          "output_type": "execute_result"
        }
      ],
      "source": [
        "buyers.groupby('categorias').count()['boughtperwishlistratio']"
      ]
    },
    {
      "cell_type": "code",
      "execution_count": null,
      "metadata": {
        "colab": {
          "base_uri": "https://localhost:8080/",
          "height": 424
        },
        "id": "p1l23U6oJ9RY",
        "outputId": "e5b22926-8d3a-41cb-92c1-f933e00c2b70"
      },
      "outputs": [
        {
          "data": {
            "text/html": [
              "\n",
              "  <div id=\"df-d955bd56-767c-4d7d-a48c-40124e1d2d29\">\n",
              "    <div class=\"colab-df-container\">\n",
              "      <div>\n",
              "<style scoped>\n",
              "    .dataframe tbody tr th:only-of-type {\n",
              "        vertical-align: middle;\n",
              "    }\n",
              "\n",
              "    .dataframe tbody tr th {\n",
              "        vertical-align: top;\n",
              "    }\n",
              "\n",
              "    .dataframe thead th {\n",
              "        text-align: right;\n",
              "    }\n",
              "</style>\n",
              "<table border=\"1\" class=\"dataframe\">\n",
              "  <thead>\n",
              "    <tr style=\"text-align: right;\">\n",
              "      <th></th>\n",
              "      <th>country</th>\n",
              "      <th>categorias</th>\n",
              "    </tr>\n",
              "  </thead>\n",
              "  <tbody>\n",
              "    <tr>\n",
              "      <th>0</th>\n",
              "      <td>France</td>\n",
              "      <td>1000</td>\n",
              "    </tr>\n",
              "    <tr>\n",
              "      <th>1</th>\n",
              "      <td>Royaume-Uni</td>\n",
              "      <td>1000</td>\n",
              "    </tr>\n",
              "    <tr>\n",
              "      <th>2</th>\n",
              "      <td>Etats-Unis</td>\n",
              "      <td>1000</td>\n",
              "    </tr>\n",
              "    <tr>\n",
              "      <th>3</th>\n",
              "      <td>Allemagne</td>\n",
              "      <td>1000</td>\n",
              "    </tr>\n",
              "    <tr>\n",
              "      <th>4</th>\n",
              "      <td>Italie</td>\n",
              "      <td>1000</td>\n",
              "    </tr>\n",
              "    <tr>\n",
              "      <th>...</th>\n",
              "      <td>...</td>\n",
              "      <td>...</td>\n",
              "    </tr>\n",
              "    <tr>\n",
              "      <th>57</th>\n",
              "      <td>Malte</td>\n",
              "      <td>0</td>\n",
              "    </tr>\n",
              "    <tr>\n",
              "      <th>58</th>\n",
              "      <td>Géorgie</td>\n",
              "      <td>1</td>\n",
              "    </tr>\n",
              "    <tr>\n",
              "      <th>59</th>\n",
              "      <td>Pakistan</td>\n",
              "      <td>0</td>\n",
              "    </tr>\n",
              "    <tr>\n",
              "      <th>60</th>\n",
              "      <td>Mexique</td>\n",
              "      <td>1</td>\n",
              "    </tr>\n",
              "    <tr>\n",
              "      <th>61</th>\n",
              "      <td>Qatar</td>\n",
              "      <td>0</td>\n",
              "    </tr>\n",
              "  </tbody>\n",
              "</table>\n",
              "<p>62 rows × 2 columns</p>\n",
              "</div>\n",
              "      <button class=\"colab-df-convert\" onclick=\"convertToInteractive('df-d955bd56-767c-4d7d-a48c-40124e1d2d29')\"\n",
              "              title=\"Convert this dataframe to an interactive table.\"\n",
              "              style=\"display:none;\">\n",
              "        \n",
              "  <svg xmlns=\"http://www.w3.org/2000/svg\" height=\"24px\"viewBox=\"0 0 24 24\"\n",
              "       width=\"24px\">\n",
              "    <path d=\"M0 0h24v24H0V0z\" fill=\"none\"/>\n",
              "    <path d=\"M18.56 5.44l.94 2.06.94-2.06 2.06-.94-2.06-.94-.94-2.06-.94 2.06-2.06.94zm-11 1L8.5 8.5l.94-2.06 2.06-.94-2.06-.94L8.5 2.5l-.94 2.06-2.06.94zm10 10l.94 2.06.94-2.06 2.06-.94-2.06-.94-.94-2.06-.94 2.06-2.06.94z\"/><path d=\"M17.41 7.96l-1.37-1.37c-.4-.4-.92-.59-1.43-.59-.52 0-1.04.2-1.43.59L10.3 9.45l-7.72 7.72c-.78.78-.78 2.05 0 2.83L4 21.41c.39.39.9.59 1.41.59.51 0 1.02-.2 1.41-.59l7.78-7.78 2.81-2.81c.8-.78.8-2.07 0-2.86zM5.41 20L4 18.59l7.72-7.72 1.47 1.35L5.41 20z\"/>\n",
              "  </svg>\n",
              "      </button>\n",
              "      \n",
              "  <style>\n",
              "    .colab-df-container {\n",
              "      display:flex;\n",
              "      flex-wrap:wrap;\n",
              "      gap: 12px;\n",
              "    }\n",
              "\n",
              "    .colab-df-convert {\n",
              "      background-color: #E8F0FE;\n",
              "      border: none;\n",
              "      border-radius: 50%;\n",
              "      cursor: pointer;\n",
              "      display: none;\n",
              "      fill: #1967D2;\n",
              "      height: 32px;\n",
              "      padding: 0 0 0 0;\n",
              "      width: 32px;\n",
              "    }\n",
              "\n",
              "    .colab-df-convert:hover {\n",
              "      background-color: #E2EBFA;\n",
              "      box-shadow: 0px 1px 2px rgba(60, 64, 67, 0.3), 0px 1px 3px 1px rgba(60, 64, 67, 0.15);\n",
              "      fill: #174EA6;\n",
              "    }\n",
              "\n",
              "    [theme=dark] .colab-df-convert {\n",
              "      background-color: #3B4455;\n",
              "      fill: #D2E3FC;\n",
              "    }\n",
              "\n",
              "    [theme=dark] .colab-df-convert:hover {\n",
              "      background-color: #434B5C;\n",
              "      box-shadow: 0px 1px 3px 1px rgba(0, 0, 0, 0.15);\n",
              "      filter: drop-shadow(0px 1px 2px rgba(0, 0, 0, 0.3));\n",
              "      fill: #FFFFFF;\n",
              "    }\n",
              "  </style>\n",
              "\n",
              "      <script>\n",
              "        const buttonEl =\n",
              "          document.querySelector('#df-d955bd56-767c-4d7d-a48c-40124e1d2d29 button.colab-df-convert');\n",
              "        buttonEl.style.display =\n",
              "          google.colab.kernel.accessAllowed ? 'block' : 'none';\n",
              "\n",
              "        async function convertToInteractive(key) {\n",
              "          const element = document.querySelector('#df-d955bd56-767c-4d7d-a48c-40124e1d2d29');\n",
              "          const dataTable =\n",
              "            await google.colab.kernel.invokeFunction('convertToInteractive',\n",
              "                                                     [key], {});\n",
              "          if (!dataTable) return;\n",
              "\n",
              "          const docLinkHtml = 'Like what you see? Visit the ' +\n",
              "            '<a target=\"_blank\" href=https://colab.research.google.com/notebooks/data_table.ipynb>data table notebook</a>'\n",
              "            + ' to learn more about interactive tables.';\n",
              "          element.innerHTML = '';\n",
              "          dataTable['output_type'] = 'display_data';\n",
              "          await google.colab.output.renderOutput(dataTable, element);\n",
              "          const docLink = document.createElement('div');\n",
              "          docLink.innerHTML = docLinkHtml;\n",
              "          element.appendChild(docLink);\n",
              "        }\n",
              "      </script>\n",
              "    </div>\n",
              "  </div>\n",
              "  "
            ],
            "text/plain": [
              "        country categorias\n",
              "0        France       1000\n",
              "1   Royaume-Uni       1000\n",
              "2    Etats-Unis       1000\n",
              "3     Allemagne       1000\n",
              "4        Italie       1000\n",
              "..          ...        ...\n",
              "57        Malte          0\n",
              "58      Géorgie          1\n",
              "59     Pakistan          0\n",
              "60      Mexique          1\n",
              "61        Qatar          0\n",
              "\n",
              "[62 rows x 2 columns]"
            ]
          },
          "execution_count": 73,
          "metadata": {},
          "output_type": "execute_result"
        }
      ],
      "source": [
        "coisa = buyers[['country','categorias']]\n",
        "coisa"
      ]
    },
    {
      "cell_type": "code",
      "execution_count": null,
      "metadata": {
        "id": "hyhKlIuKFnyI"
      },
      "outputs": [],
      "source": [
        "# adm = notas[ notas['Curso']=='ADM'] \n",
        "med_adm = coisa.groupby('categorias').count()\n",
        "med_adm.plot(kind='bar')"
      ]
    },
    {
      "cell_type": "code",
      "execution_count": null,
      "metadata": {
        "colab": {
          "base_uri": "https://localhost:8080/"
        },
        "id": "MVdGw8HKpZiW",
        "outputId": "f1142041-97c2-4525-acd4-e4d64d8043e6"
      },
      "outputs": [
        {
          "data": {
            "text/plain": [
              "categorias\n",
              "0       5\n",
              "1      22\n",
              "10     15\n",
              "100    11\n",
              "500     3\n",
              "Name: country, dtype: int64"
            ]
          },
          "execution_count": 22,
          "metadata": {},
          "output_type": "execute_result"
        }
      ],
      "source": [
        "med_adm"
      ]
    },
    {
      "cell_type": "code",
      "execution_count": null,
      "metadata": {
        "colab": {
          "base_uri": "https://localhost:8080/",
          "height": 286
        },
        "id": "Q6VF8DEcqkmD",
        "outputId": "621a109a-99ce-4302-c64e-d4c925366b5b"
      },
      "outputs": [
        {
          "data": {
            "text/plain": [
              "<matplotlib.axes._subplots.AxesSubplot at 0x7f511b5350a0>"
            ]
          },
          "execution_count": 29,
          "metadata": {},
          "output_type": "execute_result"
        },
        {
          "data": {
            "image/png": "[encoded data removed]",
            "text/plain": [
              "<Figure size 432x288 with 1 Axes>"
            ]
          },
          "metadata": {},
          "output_type": "display_data"
        }
      ],
      "source": [
        "buyers[buyers['categorias'] == '1']['boughtperwishlistratio'].plot(kind='bar')"
      ]
    },
    {
      "cell_type": "code",
      "execution_count": null,
      "metadata": {
        "colab": {
          "base_uri": "https://localhost:8080/",
          "height": 1000
        },
        "id": "orEpxAa_sD9v",
        "outputId": "febf7ae6-fe40-4ea3-e56a-8c96845f9f9c"
      },
      "outputs": [
        {
          "data": {
            "image/png": "[encoded data removed]",
            "text/plain": [
              "<Figure size 4320x4320 with 1 Axes>"
            ]
          },
          "metadata": {},
          "output_type": "display_data"
        }
      ],
      "source": [
        "# import libraries\n",
        "import seaborn as sns\n",
        "import matplotlib.pyplot as plt\n",
        "\n",
        "# set plot style: grey grid in the background:\n",
        "sns.set(style=\"darkgrid\")\n",
        "\n",
        "# load dataset\n",
        "tips = sns.load_dataset(\"tips\")\n",
        "\n",
        "# Set the figure size\n",
        "plt.figure(figsize=(60, 60))\n",
        "\n",
        "# grouped barplot\n",
        "sns.barplot(x=\"country\", y=\"boughtperwishlistratio\", hue='categorias', data=buyers, ci=None);"
      ]
    },
    {
      "cell_type": "code",
      "execution_count": null,
      "metadata": {
        "colab": {
          "base_uri": "https://localhost:8080/",
          "height": 1000
        },
        "id": "BfTSyq2zBEn9",
        "outputId": "ee0ebc46-6096-4dd1-da41-6e37a92ae613"
      },
      "outputs": [
        {
          "data": {
            "image/png": "[encoded data removed]",
            "text/plain": [
              "<Figure size 4320x4320 with 1 Axes>"
            ]
          },
          "metadata": {},
          "output_type": "display_data"
        }
      ],
      "source": [
        "# Set the figure size\n",
        "plt.figure(figsize=(60, 60))\n",
        "\n",
        "# grouped barplot\n",
        "sns.barplot(x=\"country\", y=\"totalproductsbought\", hue='categorias', data=buyers, ci=None);"
      ]
    },
    {
      "cell_type": "code",
      "execution_count": null,
      "metadata": {
        "colab": {
          "base_uri": "https://localhost:8080/",
          "height": 720
        },
        "id": "dKtJY6NIuIAR",
        "outputId": "f81eeb8e-39e0-4430-e951-d83e81d25777"
      },
      "outputs": [
        {
          "data": {
            "image/png": "[encoded data removed]",
            "text/plain": [
              "<Figure size 864x864 with 1 Axes>"
            ]
          },
          "metadata": {},
          "output_type": "display_data"
        }
      ],
      "source": [
        "# import libraries\n",
        "import seaborn as sns\n",
        "import matplotlib.pyplot as plt\n",
        "\n",
        "# set plot style: grey grid in the background:\n",
        "sns.set(style=\"darkgrid\")\n",
        "\n",
        "# load dataset\n",
        "tips = sns.load_dataset(\"tips\")\n",
        "\n",
        "# Set the figure size\n",
        "plt.figure(figsize=(12, 12))\n",
        "\n",
        "# grouped barplot\n",
        "sns.barplot(x=\"country\", y=\"boughtperwishlistratio\", data=buyers[buyers['categorias'] == '100'], ci=None);"
      ]
    },
    {
      "cell_type": "code",
      "execution_count": null,
      "metadata": {
        "colab": {
          "base_uri": "https://localhost:8080/",
          "height": 285
        },
        "id": "sjyo5fkQudKV",
        "outputId": "944551d9-afc5-4ed2-dd68-113bb87ee97d"
      },
      "outputs": [
        {
          "data": {
            "image/png": "[encoded data removed]",
            "text/plain": [
              "<Figure size 432x288 with 1 Axes>"
            ]
          },
          "metadata": {},
          "output_type": "display_data"
        }
      ],
      "source": [
        "sns.barplot(x=\"country\", y=\"boughtperwishlistratio\", data=buyers[buyers['categorias'] == '500'], ci=None);"
      ]
    },
    {
      "cell_type": "code",
      "execution_count": null,
      "metadata": {
        "colab": {
          "base_uri": "https://localhost:8080/",
          "height": 285
        },
        "id": "Bdjh6S-Curpy",
        "outputId": "f8efed51-f17e-4b40-a44b-9c815d06d18e"
      },
      "outputs": [
        {
          "data": {
            "image/png": "[encoded data removed]",
            "text/plain": [
              "<Figure size 432x288 with 1 Axes>"
            ]
          },
          "metadata": {},
          "output_type": "display_data"
        }
      ],
      "source": [
        "sns.barplot(x=\"country\", y=\"boughtperwishlistratio\", data=buyers[buyers['categorias'] == '1'], ci=None);"
      ]
    },
    {
      "cell_type": "code",
      "execution_count": null,
      "metadata": {
        "colab": {
          "base_uri": "https://localhost:8080/",
          "height": 502
        },
        "id": "xC0h7PfT1QcA",
        "outputId": "bc52a089-60bf-45b1-c5e9-0db7ab356bd6"
      },
      "outputs": [
        {
          "data": {
            "image/png": "[encoded data removed]",
            "text/plain": [
              "<Figure size 576x576 with 1 Axes>"
            ]
          },
          "metadata": {},
          "output_type": "display_data"
        }
      ],
      "source": [
        "plt.figure(figsize=(8, 8))\n",
        "sns.barplot(x=\"country\", y=\"boughtperwishlistratio\", data=buyers[buyers['categorias'] == '+1000'], ci=None);"
      ]
    },
    {
      "cell_type": "code",
      "execution_count": null,
      "metadata": {
        "id": "u2gA6ykWuxDw"
      },
      "outputs": [],
      "source": [
        "buyers[buyers['categorias'] == '1']['totalproductsbought']"
      ]
    },
    {
      "cell_type": "code",
      "execution_count": null,
      "metadata": {
        "id": "3v_hiOgao-4r"
      },
      "outputs": [],
      "source": [
        "import numpy as np\n",
        "import matplotlib.pyplot as plt\n",
        "\n",
        "plt.xticks(med_adm, buyers['country'])"
      ]
    },
    {
      "cell_type": "code",
      "execution_count": null,
      "metadata": {
        "colab": {
          "base_uri": "https://localhost:8080/"
        },
        "id": "oezLFLzRE-_H",
        "outputId": "fb333b80-2c9d-4289-f8a3-20d18794f96d"
      },
      "outputs": [
        {
          "data": {
            "text/plain": [
              "index                           57\n",
              "country                      Malte\n",
              "buyers                           1\n",
              "topbuyers                        0\n",
              "topbuyerratio                  0.0\n",
              "femalebuyers                     1\n",
              "malebuyers                       0\n",
              "topfemalebuyers                  0\n",
              "topmalebuyers                    0\n",
              "femalebuyersratio            100.0\n",
              "topfemalebuyersratio           NaN\n",
              "boughtperwishlistratio         NaN\n",
              "boughtperlikeratio            50.0\n",
              "topboughtperwishlistratio      NaN\n",
              "topboughtperlikeratio          NaN\n",
              "totalproductsbought              1\n",
              "totalproductswished              0\n",
              "totalproductsliked               2\n",
              "toptotalproductsbought           0\n",
              "toptotalproductswished           0\n",
              "toptotalproductsliked            0\n",
              "meanproductsbought             1.0\n",
              "meanproductswished             0.0\n",
              "meanproductsliked              2.0\n",
              "topmeanproductsbought          NaN\n",
              "topmeanproductswished          NaN\n",
              "topmeanproductsliked           NaN\n",
              "meanofflinedays              366.0\n",
              "topmeanofflinedays             NaN\n",
              "meanfollowers                  3.0\n",
              "meanfollowing                  8.0\n",
              "topmeanfollowers               NaN\n",
              "topmeanfollowing               NaN\n",
              "categorias                       1\n",
              "Name: 57, dtype: object"
            ]
          },
          "execution_count": 91,
          "metadata": {},
          "output_type": "execute_result"
        }
      ],
      "source": [
        "buyers.iloc[57, :]"
      ]
    },
    {
      "cell_type": "markdown",
      "metadata": {
        "id": "xlULAnDn1Asc"
      },
      "source": [
        "# **Analisando perfis de consumidores**"
      ]
    },
    {
      "cell_type": "markdown",
      "metadata": {
        "id": "_Mv7RD9UyjmQ"
      },
      "source": [
        "O Global C2C disponibiliza um dataset com usuários ao redor do mundo, e um estudo interessante seria entender o comportamento dos compradores que compram algum produto"
      ]
    },
    {
      "cell_type": "code",
      "execution_count": null,
      "metadata": {
        "id": "nQA6-2SIyGM0"
      },
      "outputs": [],
      "source": [
        "users.groupby('productsBought').count()"
      ]
    },
    {
      "cell_type": "markdown",
      "metadata": {
        "id": "pPszBmjn4Mdt"
      },
      "source": [
        "# **Visualizando a taxa de conversão**\n",
        "\n",
        "A taxa de conversão em vendas é uma métrica que indica a porcentagem de pessoas que completaram uma determinada ação desejada, neste estudo clientes que realizaram alguma compra."
      ]
    },
    {
      "cell_type": "code",
      "execution_count": null,
      "metadata": {
        "colab": {
          "base_uri": "https://localhost:8080/"
        },
        "id": "RHo-cAss2H3q",
        "outputId": "f8873029-8cff-4959-fe6e-6a2b80ea8b54"
      },
      "outputs": [
        {
          "name": "stdout",
          "output_type": "stream",
          "text": [
            "taxa de conversão: 5.4785518587041135 %\n"
          ]
        }
      ],
      "source": [
        "users_that_bought_something = len(users[users['productsBought'] > 0])\n",
        "users_that_didnt_buy_anything = len(users[users['productsBought'] == 0])\n",
        "\n",
        "print(\"taxa de conversão: {} %\".format((users_that_bought_something/(users_that_bought_something+users_that_didnt_buy_anything)*100)))"
      ]
    },
    {
      "cell_type": "code",
      "execution_count": null,
      "metadata": {
        "colab": {
          "base_uri": "https://localhost:8080/",
          "height": 353
        },
        "id": "fw5GPOTmz2VJ",
        "outputId": "c373c4a3-bb3b-402f-ac12-d263f0e73433"
      },
      "outputs": [
        {
          "name": "stderr",
          "output_type": "stream",
          "text": [
            "/usr/local/lib/python3.8/dist-packages/seaborn/distributions.py:2619: FutureWarning: `distplot` is a deprecated function and will be removed in a future version. Please adapt your code to use either `displot` (a figure-level function with similar flexibility) or `histplot` (an axes-level function for histograms).\n",
            "  warnings.warn(msg, FutureWarning)\n"
          ]
        },
        {
          "data": {
            "text/plain": [
              "<matplotlib.axes._subplots.AxesSubplot at 0x7fcaeb4b8d60>"
            ]
          },
          "execution_count": 8,
          "metadata": {},
          "output_type": "execute_result"
        },
        {
          "data": {
            "image/png": "[encoded data removed]",
            "text/plain": [
              "<Figure size 432x288 with 1 Axes>"
            ]
          },
          "metadata": {},
          "output_type": "display_data"
        }
      ],
      "source": [
        "import seaborn as sns\n",
        "sns.distplot(users['productsBought'])"
      ]
    },
    {
      "cell_type": "code",
      "execution_count": null,
      "metadata": {
        "colab": {
          "base_uri": "https://localhost:8080/",
          "height": 353
        },
        "id": "K0LkWEz-BYcI",
        "outputId": "bb3b3873-002b-43f7-c5af-5faba366e708"
      },
      "outputs": [
        {
          "name": "stderr",
          "output_type": "stream",
          "text": [
            "/usr/local/lib/python3.8/dist-packages/seaborn/_decorators.py:36: FutureWarning: Pass the following variable as a keyword arg: x. From version 0.12, the only valid positional argument will be `data`, and passing other arguments without an explicit keyword will result in an error or misinterpretation.\n",
            "  warnings.warn(\n"
          ]
        },
        {
          "data": {
            "text/plain": [
              "<AxesSubplot:xlabel='productsBought'>"
            ]
          },
          "execution_count": 32,
          "metadata": {},
          "output_type": "execute_result"
        },
        {
          "data": {
            "image/png": "[encoded data removed]",
            "text/plain": [
              "<Figure size 432x288 with 1 Axes>"
            ]
          },
          "metadata": {},
          "output_type": "display_data"
        }
      ],
      "source": [
        "import seaborn as sns\n",
        "sns.boxplot(users['productsBought'], palette=\"Pastel1\")"
      ]
    },
    {
      "cell_type": "code",
      "execution_count": null,
      "metadata": {
        "colab": {
          "base_uri": "https://localhost:8080/",
          "height": 359
        },
        "id": "Irp0Ux39BmBq",
        "outputId": "a9c2204e-5d95-41c5-bd45-c35025fa78d3"
      },
      "outputs": [
        {
          "name": "stderr",
          "output_type": "stream",
          "text": [
            "/usr/local/lib/python3.8/dist-packages/seaborn/_decorators.py:36: FutureWarning: Pass the following variable as a keyword arg: x. From version 0.12, the only valid positional argument will be `data`, and passing other arguments without an explicit keyword will result in an error or misinterpretation.\n",
            "  warnings.warn(\n"
          ]
        },
        {
          "data": {
            "text/plain": [
              "<AxesSubplot:xlabel='productsBought'>"
            ]
          },
          "execution_count": 14,
          "metadata": {},
          "output_type": "execute_result"
        },
        {
          "data": {
            "image/png": "[encoded data removed]",
            "text/plain": [
              "<Figure size 432x288 with 1 Axes>"
            ]
          },
          "metadata": {},
          "output_type": "display_data"
        }
      ],
      "source": [
        "sns.boxplot(users[users['productsBought'] > 0]['productsBought'], palette=\"Pastel1\")"
      ]
    },
    {
      "cell_type": "code",
      "execution_count": null,
      "metadata": {
        "colab": {
          "base_uri": "https://localhost:8080/",
          "height": 266
        },
        "id": "-buJUBAo0QcN",
        "outputId": "ab746c8b-bfc7-4371-8970-d9a6683cd9cc"
      },
      "outputs": [
        {
          "data": {
            "text/plain": [
              "<matplotlib.axes._subplots.AxesSubplot at 0x7fcae17dd190>"
            ]
          },
          "execution_count": 19,
          "metadata": {},
          "output_type": "execute_result"
        },
        {
          "data": {
            "image/png": "[encoded data removed]",
            "text/plain": [
              "<Figure size 432x288 with 1 Axes>"
            ]
          },
          "metadata": {},
          "output_type": "display_data"
        }
      ],
      "source": [
        "buyers = users.groupby('productsBought').count()['type']\n",
        "buyers.plot(kind='pie')"
      ]
    },
    {
      "cell_type": "markdown",
      "metadata": {
        "id": "TJ2CmCakJ51O"
      },
      "source": [
        "Como podemos observar a quantidade de usuários que não fizeram nenhuma compra é muito maior do que os usuários que fizeram alguma compra, então é interessante analisar esses usuários separadamente. "
      ]
    },
    {
      "cell_type": "code",
      "execution_count": null,
      "metadata": {
        "id": "LQWNxqrWOdnC"
      },
      "outputs": [],
      "source": [
        "# separando as notas por intervalos e conceitos\n",
        "\n",
        "users['categorias'] = pd.cut(users['productsBought'], bins=[0,1,2,3,4,5,6,9,10,20,40], labels=['1','2','3','4','5','6','7','10','20','40'])\n"
      ]
    },
    {
      "cell_type": "code",
      "execution_count": null,
      "metadata": {
        "colab": {
          "base_uri": "https://localhost:8080/",
          "height": 353
        },
        "id": "mL6LdZuVSKfZ",
        "outputId": "b8439be6-a8ca-44df-cceb-0c3635e1f4cf"
      },
      "outputs": [
        {
          "name": "stderr",
          "output_type": "stream",
          "text": [
            "/usr/local/lib/python3.8/dist-packages/seaborn/distributions.py:2619: FutureWarning: `distplot` is a deprecated function and will be removed in a future version. Please adapt your code to use either `displot` (a figure-level function with similar flexibility) or `histplot` (an axes-level function for histograms).\n",
            "  warnings.warn(msg, FutureWarning)\n"
          ]
        },
        {
          "data": {
            "text/plain": [
              "<matplotlib.axes._subplots.AxesSubplot at 0x7fd0995c0340>"
            ]
          },
          "execution_count": 22,
          "metadata": {},
          "output_type": "execute_result"
        },
        {
          "data": {
            "image/png": "[encoded data removed]",
            "text/plain": [
              "<Figure size 432x288 with 1 Axes>"
            ]
          },
          "metadata": {},
          "output_type": "display_data"
        }
      ],
      "source": [
        "import seaborn as sns\n",
        "sns.distplot(users[users['productsBought'] > 0]['productsBought'])"
      ]
    },
    {
      "cell_type": "code",
      "execution_count": null,
      "metadata": {
        "colab": {
          "base_uri": "https://localhost:8080/",
          "height": 488
        },
        "id": "1VS2USQwWU3r",
        "outputId": "7bf1d0a3-2403-4915-d754-f681cbba1f3d"
      },
      "outputs": [
        {
          "data": {
            "text/html": [
              "\n",
              "  <div id=\"df-960327ed-b1bf-428a-8715-4b06fbcca6fb\">\n",
              "    <div class=\"colab-df-container\">\n",
              "      <div>\n",
              "<style scoped>\n",
              "    .dataframe tbody tr th:only-of-type {\n",
              "        vertical-align: middle;\n",
              "    }\n",
              "\n",
              "    .dataframe tbody tr th {\n",
              "        vertical-align: top;\n",
              "    }\n",
              "\n",
              "    .dataframe thead th {\n",
              "        text-align: right;\n",
              "    }\n",
              "</style>\n",
              "<table border=\"1\" class=\"dataframe\">\n",
              "  <thead>\n",
              "    <tr style=\"text-align: right;\">\n",
              "      <th></th>\n",
              "      <th>index</th>\n",
              "      <th>identifierHash</th>\n",
              "      <th>type</th>\n",
              "      <th>country</th>\n",
              "      <th>language</th>\n",
              "      <th>socialNbFollowers</th>\n",
              "      <th>socialNbFollows</th>\n",
              "      <th>socialProductsLiked</th>\n",
              "      <th>productsListed</th>\n",
              "      <th>productsSold</th>\n",
              "      <th>...</th>\n",
              "      <th>civilityTitle</th>\n",
              "      <th>hasAnyApp</th>\n",
              "      <th>hasAndroidApp</th>\n",
              "      <th>hasIosApp</th>\n",
              "      <th>hasProfilePicture</th>\n",
              "      <th>daysSinceLastLogin</th>\n",
              "      <th>seniority</th>\n",
              "      <th>seniorityAsMonths</th>\n",
              "      <th>seniorityAsYears</th>\n",
              "      <th>countryCode</th>\n",
              "    </tr>\n",
              "    <tr>\n",
              "      <th>categorias</th>\n",
              "      <th></th>\n",
              "      <th></th>\n",
              "      <th></th>\n",
              "      <th></th>\n",
              "      <th></th>\n",
              "      <th></th>\n",
              "      <th></th>\n",
              "      <th></th>\n",
              "      <th></th>\n",
              "      <th></th>\n",
              "      <th></th>\n",
              "      <th></th>\n",
              "      <th></th>\n",
              "      <th></th>\n",
              "      <th></th>\n",
              "      <th></th>\n",
              "      <th></th>\n",
              "      <th></th>\n",
              "      <th></th>\n",
              "      <th></th>\n",
              "      <th></th>\n",
              "    </tr>\n",
              "  </thead>\n",
              "  <tbody>\n",
              "    <tr>\n",
              "      <th>1</th>\n",
              "      <td>3297</td>\n",
              "      <td>3297</td>\n",
              "      <td>3297</td>\n",
              "      <td>3297</td>\n",
              "      <td>3297</td>\n",
              "      <td>3297</td>\n",
              "      <td>3297</td>\n",
              "      <td>3297</td>\n",
              "      <td>3297</td>\n",
              "      <td>3297</td>\n",
              "      <td>...</td>\n",
              "      <td>3297</td>\n",
              "      <td>3297</td>\n",
              "      <td>3297</td>\n",
              "      <td>3297</td>\n",
              "      <td>3297</td>\n",
              "      <td>3297</td>\n",
              "      <td>3297</td>\n",
              "      <td>3297</td>\n",
              "      <td>3297</td>\n",
              "      <td>3297</td>\n",
              "    </tr>\n",
              "    <tr>\n",
              "      <th>2</th>\n",
              "      <td>845</td>\n",
              "      <td>845</td>\n",
              "      <td>845</td>\n",
              "      <td>845</td>\n",
              "      <td>845</td>\n",
              "      <td>845</td>\n",
              "      <td>845</td>\n",
              "      <td>845</td>\n",
              "      <td>845</td>\n",
              "      <td>845</td>\n",
              "      <td>...</td>\n",
              "      <td>845</td>\n",
              "      <td>845</td>\n",
              "      <td>845</td>\n",
              "      <td>845</td>\n",
              "      <td>845</td>\n",
              "      <td>845</td>\n",
              "      <td>845</td>\n",
              "      <td>845</td>\n",
              "      <td>845</td>\n",
              "      <td>845</td>\n",
              "    </tr>\n",
              "    <tr>\n",
              "      <th>3</th>\n",
              "      <td>364</td>\n",
              "      <td>364</td>\n",
              "      <td>364</td>\n",
              "      <td>364</td>\n",
              "      <td>364</td>\n",
              "      <td>364</td>\n",
              "      <td>364</td>\n",
              "      <td>364</td>\n",
              "      <td>364</td>\n",
              "      <td>364</td>\n",
              "      <td>...</td>\n",
              "      <td>364</td>\n",
              "      <td>364</td>\n",
              "      <td>364</td>\n",
              "      <td>364</td>\n",
              "      <td>364</td>\n",
              "      <td>364</td>\n",
              "      <td>364</td>\n",
              "      <td>364</td>\n",
              "      <td>364</td>\n",
              "      <td>364</td>\n",
              "    </tr>\n",
              "    <tr>\n",
              "      <th>4</th>\n",
              "      <td>214</td>\n",
              "      <td>214</td>\n",
              "      <td>214</td>\n",
              "      <td>214</td>\n",
              "      <td>214</td>\n",
              "      <td>214</td>\n",
              "      <td>214</td>\n",
              "      <td>214</td>\n",
              "      <td>214</td>\n",
              "      <td>214</td>\n",
              "      <td>...</td>\n",
              "      <td>214</td>\n",
              "      <td>214</td>\n",
              "      <td>214</td>\n",
              "      <td>214</td>\n",
              "      <td>214</td>\n",
              "      <td>214</td>\n",
              "      <td>214</td>\n",
              "      <td>214</td>\n",
              "      <td>214</td>\n",
              "      <td>214</td>\n",
              "    </tr>\n",
              "    <tr>\n",
              "      <th>5</th>\n",
              "      <td>139</td>\n",
              "      <td>139</td>\n",
              "      <td>139</td>\n",
              "      <td>139</td>\n",
              "      <td>139</td>\n",
              "      <td>139</td>\n",
              "      <td>139</td>\n",
              "      <td>139</td>\n",
              "      <td>139</td>\n",
              "      <td>139</td>\n",
              "      <td>...</td>\n",
              "      <td>139</td>\n",
              "      <td>139</td>\n",
              "      <td>139</td>\n",
              "      <td>139</td>\n",
              "      <td>139</td>\n",
              "      <td>139</td>\n",
              "      <td>139</td>\n",
              "      <td>139</td>\n",
              "      <td>139</td>\n",
              "      <td>139</td>\n",
              "    </tr>\n",
              "    <tr>\n",
              "      <th>6</th>\n",
              "      <td>108</td>\n",
              "      <td>108</td>\n",
              "      <td>108</td>\n",
              "      <td>108</td>\n",
              "      <td>108</td>\n",
              "      <td>108</td>\n",
              "      <td>108</td>\n",
              "      <td>108</td>\n",
              "      <td>108</td>\n",
              "      <td>108</td>\n",
              "      <td>...</td>\n",
              "      <td>108</td>\n",
              "      <td>108</td>\n",
              "      <td>108</td>\n",
              "      <td>108</td>\n",
              "      <td>108</td>\n",
              "      <td>108</td>\n",
              "      <td>108</td>\n",
              "      <td>108</td>\n",
              "      <td>108</td>\n",
              "      <td>108</td>\n",
              "    </tr>\n",
              "    <tr>\n",
              "      <th>7</th>\n",
              "      <td>157</td>\n",
              "      <td>157</td>\n",
              "      <td>157</td>\n",
              "      <td>157</td>\n",
              "      <td>157</td>\n",
              "      <td>157</td>\n",
              "      <td>157</td>\n",
              "      <td>157</td>\n",
              "      <td>157</td>\n",
              "      <td>157</td>\n",
              "      <td>...</td>\n",
              "      <td>157</td>\n",
              "      <td>157</td>\n",
              "      <td>157</td>\n",
              "      <td>157</td>\n",
              "      <td>157</td>\n",
              "      <td>157</td>\n",
              "      <td>157</td>\n",
              "      <td>157</td>\n",
              "      <td>157</td>\n",
              "      <td>157</td>\n",
              "    </tr>\n",
              "    <tr>\n",
              "      <th>10</th>\n",
              "      <td>37</td>\n",
              "      <td>37</td>\n",
              "      <td>37</td>\n",
              "      <td>37</td>\n",
              "      <td>37</td>\n",
              "      <td>37</td>\n",
              "      <td>37</td>\n",
              "      <td>37</td>\n",
              "      <td>37</td>\n",
              "      <td>37</td>\n",
              "      <td>...</td>\n",
              "      <td>37</td>\n",
              "      <td>37</td>\n",
              "      <td>37</td>\n",
              "      <td>37</td>\n",
              "      <td>37</td>\n",
              "      <td>37</td>\n",
              "      <td>37</td>\n",
              "      <td>37</td>\n",
              "      <td>37</td>\n",
              "      <td>37</td>\n",
              "    </tr>\n",
              "    <tr>\n",
              "      <th>20</th>\n",
              "      <td>150</td>\n",
              "      <td>150</td>\n",
              "      <td>150</td>\n",
              "      <td>150</td>\n",
              "      <td>150</td>\n",
              "      <td>150</td>\n",
              "      <td>150</td>\n",
              "      <td>150</td>\n",
              "      <td>150</td>\n",
              "      <td>150</td>\n",
              "      <td>...</td>\n",
              "      <td>150</td>\n",
              "      <td>150</td>\n",
              "      <td>150</td>\n",
              "      <td>150</td>\n",
              "      <td>150</td>\n",
              "      <td>150</td>\n",
              "      <td>150</td>\n",
              "      <td>150</td>\n",
              "      <td>150</td>\n",
              "      <td>150</td>\n",
              "    </tr>\n",
              "    <tr>\n",
              "      <th>40</th>\n",
              "      <td>74</td>\n",
              "      <td>74</td>\n",
              "      <td>74</td>\n",
              "      <td>74</td>\n",
              "      <td>74</td>\n",
              "      <td>74</td>\n",
              "      <td>74</td>\n",
              "      <td>74</td>\n",
              "      <td>74</td>\n",
              "      <td>74</td>\n",
              "      <td>...</td>\n",
              "      <td>74</td>\n",
              "      <td>74</td>\n",
              "      <td>74</td>\n",
              "      <td>74</td>\n",
              "      <td>74</td>\n",
              "      <td>74</td>\n",
              "      <td>74</td>\n",
              "      <td>74</td>\n",
              "      <td>74</td>\n",
              "      <td>74</td>\n",
              "    </tr>\n",
              "  </tbody>\n",
              "</table>\n",
              "<p>10 rows × 25 columns</p>\n",
              "</div>\n",
              "      <button class=\"colab-df-convert\" onclick=\"convertToInteractive('df-960327ed-b1bf-428a-8715-4b06fbcca6fb')\"\n",
              "              title=\"Convert this dataframe to an interactive table.\"\n",
              "              style=\"display:none;\">\n",
              "        \n",
              "  <svg xmlns=\"http://www.w3.org/2000/svg\" height=\"24px\"viewBox=\"0 0 24 24\"\n",
              "       width=\"24px\">\n",
              "    <path d=\"M0 0h24v24H0V0z\" fill=\"none\"/>\n",
              "    <path d=\"M18.56 5.44l.94 2.06.94-2.06 2.06-.94-2.06-.94-.94-2.06-.94 2.06-2.06.94zm-11 1L8.5 8.5l.94-2.06 2.06-.94-2.06-.94L8.5 2.5l-.94 2.06-2.06.94zm10 10l.94 2.06.94-2.06 2.06-.94-2.06-.94-.94-2.06-.94 2.06-2.06.94z\"/><path d=\"M17.41 7.96l-1.37-1.37c-.4-.4-.92-.59-1.43-.59-.52 0-1.04.2-1.43.59L10.3 9.45l-7.72 7.72c-.78.78-.78 2.05 0 2.83L4 21.41c.39.39.9.59 1.41.59.51 0 1.02-.2 1.41-.59l7.78-7.78 2.81-2.81c.8-.78.8-2.07 0-2.86zM5.41 20L4 18.59l7.72-7.72 1.47 1.35L5.41 20z\"/>\n",
              "  </svg>\n",
              "      </button>\n",
              "      \n",
              "  <style>\n",
              "    .colab-df-container {\n",
              "      display:flex;\n",
              "      flex-wrap:wrap;\n",
              "      gap: 12px;\n",
              "    }\n",
              "\n",
              "    .colab-df-convert {\n",
              "      background-color: #E8F0FE;\n",
              "      border: none;\n",
              "      border-radius: 50%;\n",
              "      cursor: pointer;\n",
              "      display: none;\n",
              "      fill: #1967D2;\n",
              "      height: 32px;\n",
              "      padding: 0 0 0 0;\n",
              "      width: 32px;\n",
              "    }\n",
              "\n",
              "    .colab-df-convert:hover {\n",
              "      background-color: #E2EBFA;\n",
              "      box-shadow: 0px 1px 2px rgba(60, 64, 67, 0.3), 0px 1px 3px 1px rgba(60, 64, 67, 0.15);\n",
              "      fill: #174EA6;\n",
              "    }\n",
              "\n",
              "    [theme=dark] .colab-df-convert {\n",
              "      background-color: #3B4455;\n",
              "      fill: #D2E3FC;\n",
              "    }\n",
              "\n",
              "    [theme=dark] .colab-df-convert:hover {\n",
              "      background-color: #434B5C;\n",
              "      box-shadow: 0px 1px 3px 1px rgba(0, 0, 0, 0.15);\n",
              "      filter: drop-shadow(0px 1px 2px rgba(0, 0, 0, 0.3));\n",
              "      fill: #FFFFFF;\n",
              "    }\n",
              "  </style>\n",
              "\n",
              "      <script>\n",
              "        const buttonEl =\n",
              "          document.querySelector('#df-960327ed-b1bf-428a-8715-4b06fbcca6fb button.colab-df-convert');\n",
              "        buttonEl.style.display =\n",
              "          google.colab.kernel.accessAllowed ? 'block' : 'none';\n",
              "\n",
              "        async function convertToInteractive(key) {\n",
              "          const element = document.querySelector('#df-960327ed-b1bf-428a-8715-4b06fbcca6fb');\n",
              "          const dataTable =\n",
              "            await google.colab.kernel.invokeFunction('convertToInteractive',\n",
              "                                                     [key], {});\n",
              "          if (!dataTable) return;\n",
              "\n",
              "          const docLinkHtml = 'Like what you see? Visit the ' +\n",
              "            '<a target=\"_blank\" href=https://colab.research.google.com/notebooks/data_table.ipynb>data table notebook</a>'\n",
              "            + ' to learn more about interactive tables.';\n",
              "          element.innerHTML = '';\n",
              "          dataTable['output_type'] = 'display_data';\n",
              "          await google.colab.output.renderOutput(dataTable, element);\n",
              "          const docLink = document.createElement('div');\n",
              "          docLink.innerHTML = docLinkHtml;\n",
              "          element.appendChild(docLink);\n",
              "        }\n",
              "      </script>\n",
              "    </div>\n",
              "  </div>\n",
              "  "
            ],
            "text/plain": [
              "            index  identifierHash  type  country  language  socialNbFollowers  \\\n",
              "categorias                                                                      \n",
              "1            3297            3297  3297     3297      3297               3297   \n",
              "2             845             845   845      845       845                845   \n",
              "3             364             364   364      364       364                364   \n",
              "4             214             214   214      214       214                214   \n",
              "5             139             139   139      139       139                139   \n",
              "6             108             108   108      108       108                108   \n",
              "7             157             157   157      157       157                157   \n",
              "10             37              37    37       37        37                 37   \n",
              "20            150             150   150      150       150                150   \n",
              "40             74              74    74       74        74                 74   \n",
              "\n",
              "            socialNbFollows  socialProductsLiked  productsListed  \\\n",
              "categorias                                                         \n",
              "1                      3297                 3297            3297   \n",
              "2                       845                  845             845   \n",
              "3                       364                  364             364   \n",
              "4                       214                  214             214   \n",
              "5                       139                  139             139   \n",
              "6                       108                  108             108   \n",
              "7                       157                  157             157   \n",
              "10                       37                   37              37   \n",
              "20                      150                  150             150   \n",
              "40                       74                   74              74   \n",
              "\n",
              "            productsSold  ...  civilityTitle  hasAnyApp  hasAndroidApp  \\\n",
              "categorias                ...                                            \n",
              "1                   3297  ...           3297       3297           3297   \n",
              "2                    845  ...            845        845            845   \n",
              "3                    364  ...            364        364            364   \n",
              "4                    214  ...            214        214            214   \n",
              "5                    139  ...            139        139            139   \n",
              "6                    108  ...            108        108            108   \n",
              "7                    157  ...            157        157            157   \n",
              "10                    37  ...             37         37             37   \n",
              "20                   150  ...            150        150            150   \n",
              "40                    74  ...             74         74             74   \n",
              "\n",
              "            hasIosApp  hasProfilePicture  daysSinceLastLogin  seniority  \\\n",
              "categorias                                                                \n",
              "1                3297               3297                3297       3297   \n",
              "2                 845                845                 845        845   \n",
              "3                 364                364                 364        364   \n",
              "4                 214                214                 214        214   \n",
              "5                 139                139                 139        139   \n",
              "6                 108                108                 108        108   \n",
              "7                 157                157                 157        157   \n",
              "10                 37                 37                  37         37   \n",
              "20                150                150                 150        150   \n",
              "40                 74                 74                  74         74   \n",
              "\n",
              "            seniorityAsMonths  seniorityAsYears  countryCode  \n",
              "categorias                                                    \n",
              "1                        3297              3297         3297  \n",
              "2                         845               845          845  \n",
              "3                         364               364          364  \n",
              "4                         214               214          214  \n",
              "5                         139               139          139  \n",
              "6                         108               108          108  \n",
              "7                         157               157          157  \n",
              "10                         37                37           37  \n",
              "20                        150               150          150  \n",
              "40                         74                74           74  \n",
              "\n",
              "[10 rows x 25 columns]"
            ]
          },
          "execution_count": 18,
          "metadata": {},
          "output_type": "execute_result"
        }
      ],
      "source": [
        "users.groupby('categorias').count()"
      ]
    },
    {
      "cell_type": "code",
      "execution_count": null,
      "metadata": {
        "colab": {
          "base_uri": "https://localhost:8080/",
          "height": 353
        },
        "id": "1-U3UB_TWM8j",
        "outputId": "e485edce-6bc7-4b69-ff04-0d224b9e774a"
      },
      "outputs": [
        {
          "name": "stderr",
          "output_type": "stream",
          "text": [
            "/usr/local/lib/python3.8/dist-packages/seaborn/distributions.py:2619: FutureWarning: `distplot` is a deprecated function and will be removed in a future version. Please adapt your code to use either `displot` (a figure-level function with similar flexibility) or `histplot` (an axes-level function for histograms).\n",
            "  warnings.warn(msg, FutureWarning)\n"
          ]
        },
        {
          "data": {
            "text/plain": [
              "<matplotlib.axes._subplots.AxesSubplot at 0x7fbca0a122b0>"
            ]
          },
          "execution_count": 19,
          "metadata": {},
          "output_type": "execute_result"
        },
        {
          "data": {
            "image/png": "[encoded data removed]",
            "text/plain": [
              "<Figure size 432x288 with 1 Axes>"
            ]
          },
          "metadata": {},
          "output_type": "display_data"
        }
      ],
      "source": [
        "import seaborn as sns\n",
        "sns.distplot(users['categorias'])"
      ]
    },
    {
      "cell_type": "code",
      "execution_count": null,
      "metadata": {
        "colab": {
          "base_uri": "https://localhost:8080/"
        },
        "id": "1M21jr9WPdqZ",
        "outputId": "31d7c064-bb90-42e7-d2c3-19797ffaf29f"
      },
      "outputs": [
        {
          "data": {
            "text/plain": [
              "0        0\n",
              "1        0\n",
              "2        0\n",
              "3        0\n",
              "4        0\n",
              "        ..\n",
              "98908    0\n",
              "98909    0\n",
              "98910    0\n",
              "98911    0\n",
              "98912    0\n",
              "Name: productsBought, Length: 98913, dtype: int64"
            ]
          },
          "execution_count": 11,
          "metadata": {},
          "output_type": "execute_result"
        }
      ],
      "source": [
        "users['productsBought']"
      ]
    },
    {
      "cell_type": "markdown",
      "metadata": {
        "id": "bcidGc3o6ug8"
      },
      "source": [
        "# Visualizando a taxa de conversão de países com mais vendas e boa taxa de produtos comprados/ likes"
      ]
    },
    {
      "cell_type": "code",
      "execution_count": null,
      "metadata": {
        "colab": {
          "base_uri": "https://localhost:8080/"
        },
        "id": "xIWpFmd_64s6",
        "outputId": "2e42c237-fefb-47d0-a25e-5e9603c2d453"
      },
      "outputs": [
        {
          "name": "stdout",
          "output_type": "stream",
          "text": [
            "taxa de conversão francesa: 4.97712353292222 %\n"
          ]
        }
      ],
      "source": [
        "frenchs = users[users['country'] == 'France']\n",
        "french_users_that_bought_something = len(frenchs[frenchs['productsBought'] > 0])\n",
        "french_users_that_didnt_buy_anything = len(frenchs[frenchs['productsBought'] == 0])\n",
        "print(\"taxa de conversão francesa: {} %\".format((french_users_that_bought_something/(french_users_that_bought_something+french_users_that_didnt_buy_anything)*100)))"
      ]
    },
    {
      "cell_type": "code",
      "execution_count": null,
      "metadata": {
        "colab": {
          "base_uri": "https://localhost:8080/"
        },
        "id": "reRM_4u28ZHG",
        "outputId": "92d995b1-2c67-4680-f431-63a2ff1eb96e"
      },
      "outputs": [
        {
          "name": "stdout",
          "output_type": "stream",
          "text": [
            "taxa de conversão chinesa: 3.0373831775700935 %\n"
          ]
        }
      ],
      "source": [
        "chinese = users[users['country'] == 'Chine']\n",
        "chinese_users_that_bought_something = len(chinese[chinese['productsBought'] > 0])\n",
        "chinese_users_that_didnt_buy_anything = len(chinese[chinese['productsBought'] == 0])\n",
        "print(\"taxa de conversão chinesa: {} %\".format((chinese_users_that_bought_something/(chinese_users_that_bought_something+chinese_users_that_didnt_buy_anything)*100)))"
      ]
    },
    {
      "cell_type": "code",
      "execution_count": null,
      "metadata": {
        "colab": {
          "base_uri": "https://localhost:8080/",
          "height": 488
        },
        "id": "2YX4kDWa8l_0",
        "outputId": "5327df05-a737-48a8-ff68-88c17b8e8fbb"
      },
      "outputs": [
        {
          "data": {
            "text/html": [
              "\n",
              "  <div id=\"df-7f07dd6a-043a-44ef-b84c-933c3f97dead\">\n",
              "    <div class=\"colab-df-container\">\n",
              "      <div>\n",
              "<style scoped>\n",
              "    .dataframe tbody tr th:only-of-type {\n",
              "        vertical-align: middle;\n",
              "    }\n",
              "\n",
              "    .dataframe tbody tr th {\n",
              "        vertical-align: top;\n",
              "    }\n",
              "\n",
              "    .dataframe thead th {\n",
              "        text-align: right;\n",
              "    }\n",
              "</style>\n",
              "<table border=\"1\" class=\"dataframe\">\n",
              "  <thead>\n",
              "    <tr style=\"text-align: right;\">\n",
              "      <th></th>\n",
              "      <th>index</th>\n",
              "      <th>identifierHash</th>\n",
              "      <th>type</th>\n",
              "      <th>country</th>\n",
              "      <th>language</th>\n",
              "      <th>socialNbFollowers</th>\n",
              "      <th>socialNbFollows</th>\n",
              "      <th>socialProductsLiked</th>\n",
              "      <th>productsListed</th>\n",
              "      <th>productsSold</th>\n",
              "      <th>...</th>\n",
              "      <th>civilityTitle</th>\n",
              "      <th>hasAnyApp</th>\n",
              "      <th>hasAndroidApp</th>\n",
              "      <th>hasIosApp</th>\n",
              "      <th>hasProfilePicture</th>\n",
              "      <th>daysSinceLastLogin</th>\n",
              "      <th>seniority</th>\n",
              "      <th>seniorityAsMonths</th>\n",
              "      <th>seniorityAsYears</th>\n",
              "      <th>countryCode</th>\n",
              "    </tr>\n",
              "  </thead>\n",
              "  <tbody>\n",
              "    <tr>\n",
              "      <th>135</th>\n",
              "      <td>135</td>\n",
              "      <td>-5096141708998208738</td>\n",
              "      <td>user</td>\n",
              "      <td>Chine</td>\n",
              "      <td>en</td>\n",
              "      <td>3</td>\n",
              "      <td>8</td>\n",
              "      <td>3</td>\n",
              "      <td>0</td>\n",
              "      <td>0</td>\n",
              "      <td>...</td>\n",
              "      <td>mrs</td>\n",
              "      <td>True</td>\n",
              "      <td>False</td>\n",
              "      <td>True</td>\n",
              "      <td>True</td>\n",
              "      <td>700</td>\n",
              "      <td>3205</td>\n",
              "      <td>106.83</td>\n",
              "      <td>8.9</td>\n",
              "      <td>cn</td>\n",
              "    </tr>\n",
              "    <tr>\n",
              "      <th>212</th>\n",
              "      <td>212</td>\n",
              "      <td>-5019591860696866147</td>\n",
              "      <td>user</td>\n",
              "      <td>Chine</td>\n",
              "      <td>en</td>\n",
              "      <td>3</td>\n",
              "      <td>8</td>\n",
              "      <td>0</td>\n",
              "      <td>0</td>\n",
              "      <td>0</td>\n",
              "      <td>...</td>\n",
              "      <td>mrs</td>\n",
              "      <td>True</td>\n",
              "      <td>False</td>\n",
              "      <td>True</td>\n",
              "      <td>True</td>\n",
              "      <td>429</td>\n",
              "      <td>3205</td>\n",
              "      <td>106.83</td>\n",
              "      <td>8.9</td>\n",
              "      <td>cn</td>\n",
              "    </tr>\n",
              "    <tr>\n",
              "      <th>285</th>\n",
              "      <td>285</td>\n",
              "      <td>2000735234778143663</td>\n",
              "      <td>user</td>\n",
              "      <td>Chine</td>\n",
              "      <td>en</td>\n",
              "      <td>3</td>\n",
              "      <td>8</td>\n",
              "      <td>0</td>\n",
              "      <td>0</td>\n",
              "      <td>0</td>\n",
              "      <td>...</td>\n",
              "      <td>mrs</td>\n",
              "      <td>True</td>\n",
              "      <td>False</td>\n",
              "      <td>True</td>\n",
              "      <td>True</td>\n",
              "      <td>467</td>\n",
              "      <td>3205</td>\n",
              "      <td>106.83</td>\n",
              "      <td>8.9</td>\n",
              "      <td>cn</td>\n",
              "    </tr>\n",
              "    <tr>\n",
              "      <th>565</th>\n",
              "      <td>565</td>\n",
              "      <td>2375548637536689372</td>\n",
              "      <td>user</td>\n",
              "      <td>Chine</td>\n",
              "      <td>en</td>\n",
              "      <td>3</td>\n",
              "      <td>8</td>\n",
              "      <td>0</td>\n",
              "      <td>0</td>\n",
              "      <td>0</td>\n",
              "      <td>...</td>\n",
              "      <td>mrs</td>\n",
              "      <td>False</td>\n",
              "      <td>False</td>\n",
              "      <td>False</td>\n",
              "      <td>True</td>\n",
              "      <td>195</td>\n",
              "      <td>3205</td>\n",
              "      <td>106.83</td>\n",
              "      <td>8.9</td>\n",
              "      <td>cn</td>\n",
              "    </tr>\n",
              "    <tr>\n",
              "      <th>791</th>\n",
              "      <td>791</td>\n",
              "      <td>-6158736243928639054</td>\n",
              "      <td>user</td>\n",
              "      <td>Chine</td>\n",
              "      <td>en</td>\n",
              "      <td>3</td>\n",
              "      <td>8</td>\n",
              "      <td>0</td>\n",
              "      <td>0</td>\n",
              "      <td>0</td>\n",
              "      <td>...</td>\n",
              "      <td>mrs</td>\n",
              "      <td>True</td>\n",
              "      <td>False</td>\n",
              "      <td>True</td>\n",
              "      <td>True</td>\n",
              "      <td>709</td>\n",
              "      <td>3205</td>\n",
              "      <td>106.83</td>\n",
              "      <td>8.9</td>\n",
              "      <td>cn</td>\n",
              "    </tr>\n",
              "    <tr>\n",
              "      <th>...</th>\n",
              "      <td>...</td>\n",
              "      <td>...</td>\n",
              "      <td>...</td>\n",
              "      <td>...</td>\n",
              "      <td>...</td>\n",
              "      <td>...</td>\n",
              "      <td>...</td>\n",
              "      <td>...</td>\n",
              "      <td>...</td>\n",
              "      <td>...</td>\n",
              "      <td>...</td>\n",
              "      <td>...</td>\n",
              "      <td>...</td>\n",
              "      <td>...</td>\n",
              "      <td>...</td>\n",
              "      <td>...</td>\n",
              "      <td>...</td>\n",
              "      <td>...</td>\n",
              "      <td>...</td>\n",
              "      <td>...</td>\n",
              "      <td>...</td>\n",
              "    </tr>\n",
              "    <tr>\n",
              "      <th>96972</th>\n",
              "      <td>96972</td>\n",
              "      <td>-6847565337499162262</td>\n",
              "      <td>user</td>\n",
              "      <td>Chine</td>\n",
              "      <td>en</td>\n",
              "      <td>3</td>\n",
              "      <td>8</td>\n",
              "      <td>0</td>\n",
              "      <td>0</td>\n",
              "      <td>0</td>\n",
              "      <td>...</td>\n",
              "      <td>mrs</td>\n",
              "      <td>False</td>\n",
              "      <td>False</td>\n",
              "      <td>False</td>\n",
              "      <td>True</td>\n",
              "      <td>708</td>\n",
              "      <td>3204</td>\n",
              "      <td>106.80</td>\n",
              "      <td>8.9</td>\n",
              "      <td>cn</td>\n",
              "    </tr>\n",
              "    <tr>\n",
              "      <th>97666</th>\n",
              "      <td>97666</td>\n",
              "      <td>-5682670462817861230</td>\n",
              "      <td>user</td>\n",
              "      <td>Chine</td>\n",
              "      <td>en</td>\n",
              "      <td>3</td>\n",
              "      <td>8</td>\n",
              "      <td>0</td>\n",
              "      <td>0</td>\n",
              "      <td>0</td>\n",
              "      <td>...</td>\n",
              "      <td>mrs</td>\n",
              "      <td>True</td>\n",
              "      <td>False</td>\n",
              "      <td>True</td>\n",
              "      <td>True</td>\n",
              "      <td>708</td>\n",
              "      <td>3204</td>\n",
              "      <td>106.80</td>\n",
              "      <td>8.9</td>\n",
              "      <td>cn</td>\n",
              "    </tr>\n",
              "    <tr>\n",
              "      <th>97923</th>\n",
              "      <td>97923</td>\n",
              "      <td>-2197843685845240927</td>\n",
              "      <td>user</td>\n",
              "      <td>Chine</td>\n",
              "      <td>en</td>\n",
              "      <td>3</td>\n",
              "      <td>8</td>\n",
              "      <td>1</td>\n",
              "      <td>0</td>\n",
              "      <td>0</td>\n",
              "      <td>...</td>\n",
              "      <td>mrs</td>\n",
              "      <td>False</td>\n",
              "      <td>False</td>\n",
              "      <td>False</td>\n",
              "      <td>True</td>\n",
              "      <td>708</td>\n",
              "      <td>3204</td>\n",
              "      <td>106.80</td>\n",
              "      <td>8.9</td>\n",
              "      <td>cn</td>\n",
              "    </tr>\n",
              "    <tr>\n",
              "      <th>98479</th>\n",
              "      <td>98479</td>\n",
              "      <td>1990867031582547682</td>\n",
              "      <td>user</td>\n",
              "      <td>Chine</td>\n",
              "      <td>en</td>\n",
              "      <td>3</td>\n",
              "      <td>8</td>\n",
              "      <td>0</td>\n",
              "      <td>0</td>\n",
              "      <td>0</td>\n",
              "      <td>...</td>\n",
              "      <td>mrs</td>\n",
              "      <td>True</td>\n",
              "      <td>False</td>\n",
              "      <td>True</td>\n",
              "      <td>True</td>\n",
              "      <td>694</td>\n",
              "      <td>3204</td>\n",
              "      <td>106.80</td>\n",
              "      <td>8.9</td>\n",
              "      <td>cn</td>\n",
              "    </tr>\n",
              "    <tr>\n",
              "      <th>98852</th>\n",
              "      <td>98852</td>\n",
              "      <td>7371833367348962922</td>\n",
              "      <td>user</td>\n",
              "      <td>Chine</td>\n",
              "      <td>en</td>\n",
              "      <td>3</td>\n",
              "      <td>8</td>\n",
              "      <td>0</td>\n",
              "      <td>0</td>\n",
              "      <td>0</td>\n",
              "      <td>...</td>\n",
              "      <td>mrs</td>\n",
              "      <td>True</td>\n",
              "      <td>False</td>\n",
              "      <td>True</td>\n",
              "      <td>True</td>\n",
              "      <td>708</td>\n",
              "      <td>3204</td>\n",
              "      <td>106.80</td>\n",
              "      <td>8.9</td>\n",
              "      <td>cn</td>\n",
              "    </tr>\n",
              "  </tbody>\n",
              "</table>\n",
              "<p>428 rows × 25 columns</p>\n",
              "</div>\n",
              "      <button class=\"colab-df-convert\" onclick=\"convertToInteractive('df-7f07dd6a-043a-44ef-b84c-933c3f97dead')\"\n",
              "              title=\"Convert this dataframe to an interactive table.\"\n",
              "              style=\"display:none;\">\n",
              "        \n",
              "  <svg xmlns=\"http://www.w3.org/2000/svg\" height=\"24px\"viewBox=\"0 0 24 24\"\n",
              "       width=\"24px\">\n",
              "    <path d=\"M0 0h24v24H0V0z\" fill=\"none\"/>\n",
              "    <path d=\"M18.56 5.44l.94 2.06.94-2.06 2.06-.94-2.06-.94-.94-2.06-.94 2.06-2.06.94zm-11 1L8.5 8.5l.94-2.06 2.06-.94-2.06-.94L8.5 2.5l-.94 2.06-2.06.94zm10 10l.94 2.06.94-2.06 2.06-.94-2.06-.94-.94-2.06-.94 2.06-2.06.94z\"/><path d=\"M17.41 7.96l-1.37-1.37c-.4-.4-.92-.59-1.43-.59-.52 0-1.04.2-1.43.59L10.3 9.45l-7.72 7.72c-.78.78-.78 2.05 0 2.83L4 21.41c.39.39.9.59 1.41.59.51 0 1.02-.2 1.41-.59l7.78-7.78 2.81-2.81c.8-.78.8-2.07 0-2.86zM5.41 20L4 18.59l7.72-7.72 1.47 1.35L5.41 20z\"/>\n",
              "  </svg>\n",
              "      </button>\n",
              "      \n",
              "  <style>\n",
              "    .colab-df-container {\n",
              "      display:flex;\n",
              "      flex-wrap:wrap;\n",
              "      gap: 12px;\n",
              "    }\n",
              "\n",
              "    .colab-df-convert {\n",
              "      background-color: #E8F0FE;\n",
              "      border: none;\n",
              "      border-radius: 50%;\n",
              "      cursor: pointer;\n",
              "      display: none;\n",
              "      fill: #1967D2;\n",
              "      height: 32px;\n",
              "      padding: 0 0 0 0;\n",
              "      width: 32px;\n",
              "    }\n",
              "\n",
              "    .colab-df-convert:hover {\n",
              "      background-color: #E2EBFA;\n",
              "      box-shadow: 0px 1px 2px rgba(60, 64, 67, 0.3), 0px 1px 3px 1px rgba(60, 64, 67, 0.15);\n",
              "      fill: #174EA6;\n",
              "    }\n",
              "\n",
              "    [theme=dark] .colab-df-convert {\n",
              "      background-color: #3B4455;\n",
              "      fill: #D2E3FC;\n",
              "    }\n",
              "\n",
              "    [theme=dark] .colab-df-convert:hover {\n",
              "      background-color: #434B5C;\n",
              "      box-shadow: 0px 1px 3px 1px rgba(0, 0, 0, 0.15);\n",
              "      filter: drop-shadow(0px 1px 2px rgba(0, 0, 0, 0.3));\n",
              "      fill: #FFFFFF;\n",
              "    }\n",
              "  </style>\n",
              "\n",
              "      <script>\n",
              "        const buttonEl =\n",
              "          document.querySelector('#df-7f07dd6a-043a-44ef-b84c-933c3f97dead button.colab-df-convert');\n",
              "        buttonEl.style.display =\n",
              "          google.colab.kernel.accessAllowed ? 'block' : 'none';\n",
              "\n",
              "        async function convertToInteractive(key) {\n",
              "          const element = document.querySelector('#df-7f07dd6a-043a-44ef-b84c-933c3f97dead');\n",
              "          const dataTable =\n",
              "            await google.colab.kernel.invokeFunction('convertToInteractive',\n",
              "                                                     [key], {});\n",
              "          if (!dataTable) return;\n",
              "\n",
              "          const docLinkHtml = 'Like what you see? Visit the ' +\n",
              "            '<a target=\"_blank\" href=https://colab.research.google.com/notebooks/data_table.ipynb>data table notebook</a>'\n",
              "            + ' to learn more about interactive tables.';\n",
              "          element.innerHTML = '';\n",
              "          dataTable['output_type'] = 'display_data';\n",
              "          await google.colab.output.renderOutput(dataTable, element);\n",
              "          const docLink = document.createElement('div');\n",
              "          docLink.innerHTML = docLinkHtml;\n",
              "          element.appendChild(docLink);\n",
              "        }\n",
              "      </script>\n",
              "    </div>\n",
              "  </div>\n",
              "  "
            ],
            "text/plain": [
              "       index       identifierHash  type country language  socialNbFollowers  \\\n",
              "135      135 -5096141708998208738  user   Chine       en                  3   \n",
              "212      212 -5019591860696866147  user   Chine       en                  3   \n",
              "285      285  2000735234778143663  user   Chine       en                  3   \n",
              "565      565  2375548637536689372  user   Chine       en                  3   \n",
              "791      791 -6158736243928639054  user   Chine       en                  3   \n",
              "...      ...                  ...   ...     ...      ...                ...   \n",
              "96972  96972 -6847565337499162262  user   Chine       en                  3   \n",
              "97666  97666 -5682670462817861230  user   Chine       en                  3   \n",
              "97923  97923 -2197843685845240927  user   Chine       en                  3   \n",
              "98479  98479  1990867031582547682  user   Chine       en                  3   \n",
              "98852  98852  7371833367348962922  user   Chine       en                  3   \n",
              "\n",
              "       socialNbFollows  socialProductsLiked  productsListed  productsSold  \\\n",
              "135                  8                    3               0             0   \n",
              "212                  8                    0               0             0   \n",
              "285                  8                    0               0             0   \n",
              "565                  8                    0               0             0   \n",
              "791                  8                    0               0             0   \n",
              "...                ...                  ...             ...           ...   \n",
              "96972                8                    0               0             0   \n",
              "97666                8                    0               0             0   \n",
              "97923                8                    1               0             0   \n",
              "98479                8                    0               0             0   \n",
              "98852                8                    0               0             0   \n",
              "\n",
              "       ...  civilityTitle  hasAnyApp  hasAndroidApp hasIosApp  \\\n",
              "135    ...            mrs       True          False      True   \n",
              "212    ...            mrs       True          False      True   \n",
              "285    ...            mrs       True          False      True   \n",
              "565    ...            mrs      False          False     False   \n",
              "791    ...            mrs       True          False      True   \n",
              "...    ...            ...        ...            ...       ...   \n",
              "96972  ...            mrs      False          False     False   \n",
              "97666  ...            mrs       True          False      True   \n",
              "97923  ...            mrs      False          False     False   \n",
              "98479  ...            mrs       True          False      True   \n",
              "98852  ...            mrs       True          False      True   \n",
              "\n",
              "       hasProfilePicture daysSinceLastLogin  seniority  seniorityAsMonths  \\\n",
              "135                 True                700       3205             106.83   \n",
              "212                 True                429       3205             106.83   \n",
              "285                 True                467       3205             106.83   \n",
              "565                 True                195       3205             106.83   \n",
              "791                 True                709       3205             106.83   \n",
              "...                  ...                ...        ...                ...   \n",
              "96972               True                708       3204             106.80   \n",
              "97666               True                708       3204             106.80   \n",
              "97923               True                708       3204             106.80   \n",
              "98479               True                694       3204             106.80   \n",
              "98852               True                708       3204             106.80   \n",
              "\n",
              "       seniorityAsYears  countryCode  \n",
              "135                 8.9           cn  \n",
              "212                 8.9           cn  \n",
              "285                 8.9           cn  \n",
              "565                 8.9           cn  \n",
              "791                 8.9           cn  \n",
              "...                 ...          ...  \n",
              "96972               8.9           cn  \n",
              "97666               8.9           cn  \n",
              "97923               8.9           cn  \n",
              "98479               8.9           cn  \n",
              "98852               8.9           cn  \n",
              "\n",
              "[428 rows x 25 columns]"
            ]
          },
          "execution_count": 96,
          "metadata": {},
          "output_type": "execute_result"
        }
      ],
      "source": [
        "chinese"
      ]
    },
    {
      "cell_type": "markdown",
      "metadata": {
        "id": "lC4VUHiIJy1r"
      },
      "source": [
        "# Tratamento de dados"
      ]
    },
    {
      "cell_type": "markdown",
      "metadata": {
        "id": "LYr5Isif7A8u"
      },
      "source": [
        "Selecionando colunas interessantes e tratando dados categóricos"
      ]
    },
    {
      "cell_type": "code",
      "execution_count": null,
      "metadata": {
        "id": "wnYdTV8U1vom"
      },
      "outputs": [],
      "source": [
        "users_1 = users\n",
        "# coluna redundante, equivalente ao countryCode\n",
        "users_1 = users_1.drop(['country'], axis=1)\n",
        "# coluna que eu considero irrelevante, a língua é parte da cultura de um país, logo saber de onde o usuário vem é uma informação mais relevante que engloba a lígua\n",
        "users_1 = users_1.drop(['language'], axis=1)\n",
        "users_1 = users_1.drop(['identifierHash'], axis=1)\n",
        "users_1 = users_1.drop(['index'], axis=1)\n",
        "# todos os valores dessa coluna são iguais\n",
        "users_1 = users_1.drop(['type'], axis=1)\n",
        "users_1 = users_1.drop(['civilityTitle'], axis=1)\n",
        "# variáveis redundante por dizer a mesma coisa que seniority\n",
        "users_1 = users_1.drop(['seniorityAsYears'], axis=1)\n",
        "users_1 = users_1.drop(['seniorityAsMonths'], axis=1)\n",
        "# informação redundante por civilityGenderId\n",
        "users_1 = users_1.drop(['gender'], axis=1)\n",
        "# por ser muito custoso aplicar o one hot encoder nessa coluna ela será removida\n",
        "users_1 = users_1.drop(['countryCode'], axis=1)"
      ]
    },
    {
      "cell_type": "code",
      "execution_count": null,
      "metadata": {
        "id": "JRDIzEMWVXtP"
      },
      "outputs": [],
      "source": [
        "users_1['civilityGenderId']"
      ]
    },
    {
      "cell_type": "code",
      "execution_count": null,
      "metadata": {
        "colab": {
          "base_uri": "https://localhost:8080/"
        },
        "id": "iRu1sGfCJVt6",
        "outputId": "05f176e8-d554-4bdb-8a3c-8b4d6335391c"
      },
      "outputs": [
        {
          "name": "stdout",
          "output_type": "stream",
          "text": [
            "<class 'pandas.core.frame.DataFrame'>\n",
            "RangeIndex: 98913 entries, 0 to 98912\n",
            "Data columns (total 15 columns):\n",
            " #   Column               Non-Null Count  Dtype  \n",
            "---  ------               --------------  -----  \n",
            " 0   socialNbFollowers    98913 non-null  int64  \n",
            " 1   socialNbFollows      98913 non-null  int64  \n",
            " 2   socialProductsLiked  98913 non-null  int64  \n",
            " 3   productsListed       98913 non-null  int64  \n",
            " 4   productsSold         98913 non-null  int64  \n",
            " 5   productsPassRate     98913 non-null  float64\n",
            " 6   productsWished       98913 non-null  int64  \n",
            " 7   civilityGenderId     98913 non-null  int64  \n",
            " 8   hasAnyApp            98913 non-null  bool   \n",
            " 9   hasAndroidApp        98913 non-null  bool   \n",
            " 10  hasIosApp            98913 non-null  bool   \n",
            " 11  hasProfilePicture    98913 non-null  bool   \n",
            " 12  daysSinceLastLogin   98913 non-null  int64  \n",
            " 13  seniority            98913 non-null  int64  \n",
            " 14  classe               98913 non-null  int64  \n",
            "dtypes: bool(4), float64(1), int64(10)\n",
            "memory usage: 8.7 MB\n"
          ]
        }
      ],
      "source": [
        "users_1.info()"
      ]
    },
    {
      "cell_type": "code",
      "execution_count": null,
      "metadata": {
        "colab": {
          "base_uri": "https://localhost:8080/",
          "height": 542
        },
        "id": "SBDiem8S1lv2",
        "outputId": "2e2ad3a2-b3c5-486e-9c97-aa297da0ae36"
      },
      "outputs": [
        {
          "data": {
            "text/html": [
              "<html>\n",
              "<head><meta charset=\"utf-8\" /></head>\n",
              "<body>\n",
              "    <div>            <script src=\"https://cdnjs.cloudflare.com/ajax/libs/mathjax/2.7.5/MathJax.js?config=TeX-AMS-MML_SVG\"></script><script type=\"text/javascript\">if (window.MathJax) {MathJax.Hub.Config({SVG: {font: \"STIX-Web\"}});}</script>                <script type=\"text/javascript\">window.PlotlyConfig = {MathJaxConfig: 'local'};</script>\n",
              "        <script src=\"https://cdn.plot.ly/plotly-2.8.3.min.js\"></script>                <div id=\"0cb5ccda-7278-4546-8c8c-eaad930a3838\" class=\"plotly-graph-div\" style=\"height:525px; width:100%;\"></div>            <script type=\"text/javascript\">                                    window.PLOTLYENV=window.PLOTLYENV || {};                                    if (document.getElementById(\"0cb5ccda-7278-4546-8c8c-eaad930a3838\")) {                    Plotly.newPlot(                        \"0cb5ccda-7278-4546-8c8c-eaad930a3838\",                        [{\"coloraxis\":\"coloraxis\",\"name\":\"0\",\"x\":[\"socialNbFollowers\",\"socialNbFollows\",\"socialProductsLiked\",\"productsListed\",\"productsSold\",\"productsPassRate\",\"productsWished\",\"productsBought\",\"civilityGenderId\",\"hasAnyApp\",\"hasAndroidApp\",\"hasIosApp\",\"hasProfilePicture\",\"daysSinceLastLogin\",\"seniority\"],\"y\":[\"socialNbFollowers\",\"socialNbFollows\",\"socialProductsLiked\",\"productsListed\",\"productsSold\",\"productsPassRate\",\"productsWished\",\"productsBought\",\"civilityGenderId\",\"hasAnyApp\",\"hasAndroidApp\",\"hasIosApp\",\"hasProfilePicture\",\"daysSinceLastLogin\",\"seniority\"],\"z\":[[1.0,0.3799205123375666,0.27133457828406404,0.35273461606553375,0.6927657429713735,0.42419863718919343,0.31937629136101536,0.27636382092236494,0.07371943166751468,0.22246513019798184,0.05778686469098484,0.20827837704361696,-0.3821444766625942,-0.1996043120162998,0.02678120002042124],[0.3799205123375666,1.0,0.15846650193431025,0.15631847966360085,0.11652451087128647,0.11325465503152418,0.33534443048267193,0.11333815147968222,0.032186863829435246,0.07326379659817867,0.0236788962412117,0.07526598407381607,-0.13426413630228617,-0.08835685404955024,-0.009366668653368663],[0.27133457828406404,0.15846650193431025,1.0,0.0431615855548206,0.0669272107544863,0.061833100909846304,0.3014285301033443,0.14074974694512088,0.029990911648203254,0.10006853261518742,0.02416208001486162,0.09338035724593512,-0.10623169482520996,-0.12398140433113873,-0.031377057483172384],[0.35273461606553375,0.15631847966360085,0.0431615855548206,1.0,0.5222770882741937,0.32395818596411863,0.06452382212678497,0.08204649095238849,0.0474447071546289,0.04727374481887231,0.0008416556506232088,0.04721549070252614,-0.09789878299504859,-0.09492679917735405,-0.019953384829756053],[0.6927657429713735,0.11652451087128647,0.0669272107544863,0.5222770882741937,1.0,0.4892492422872587,0.12425326301663982,0.16724517323299506,0.04373647763202187,0.10004103063959971,0.00852405347734616,0.09918878199533347,-0.17836734020312825,-0.1223991766382511,0.0026975030466501724],[0.42419863718919343,0.11325465503152418,0.061833100909846304,0.32395818596411863,0.4892492422872587,1.0,0.11467207813477272,0.18387940639882894,0.05751712746758787,0.15051494226441656,0.03393769438210183,0.14773291490971677,-0.2560391447401148,-0.20437915779104823,0.0014582800272294797],[0.31937629136101536,0.33534443048267193,0.3014285301033443,0.06452382212678497,0.12425326301663982,0.11467207813477272,1.0,0.39452283419718664,0.04775704311067577,0.09482155278359311,0.05548698250892366,0.07922524319114192,-0.1169300362029266,-0.1634765054941326,-0.019132575735106953],[0.27636382092236494,0.11333815147968222,0.14074974694512088,0.08204649095238849,0.16724517323299506,0.18387940639882894,0.39452283419718664,1.0,0.01844418448028202,0.07797207248919522,0.03399493384728011,0.07116951013077533,-0.10765263143593588,-0.1740536869201657,-0.01426912468076493],[0.07371943166751468,0.032186863829435246,0.029990911648203254,0.0474447071546289,0.04373647763202187,0.05751712746758787,0.04775704311067577,0.01844418448028202,1.0,-0.036076040554446034,-0.026007154547879826,-0.027339785256763387,-0.033346052777234056,-0.12812730734910693,0.006059889907237349],[0.22246513019798184,0.07326379659817867,0.10006853261518742,0.04727374481887231,0.10004103063959971,0.15051494226441656,0.09482155278359311,0.07797207248919522,-0.036076040554446034,1.0,0.34258600289505614,0.8664869724474463,-0.20436040219043128,-0.2869437355662209,-0.0007431152414006949],[0.05778686469098484,0.0236788962412117,0.02416208001486162,0.0008416556506232088,0.00852405347734616,0.03393769438210183,0.05548698250892366,0.03399493384728011,-0.026007154547879826,0.34258600289505614,1.0,-0.13591913978124354,-0.058908238573934915,-0.05796740753661589,-0.010343936619248078],[0.20827837704361696,0.07526598407381607,0.09338035724593512,0.04721549070252614,0.09918878199533347,0.14773291490971677,0.07922524319114192,0.07116951013077533,-0.027339785256763387,0.8664869724474463,-0.13591913978124354,1.0,-0.18667839445187906,-0.2776090517228262,0.009758487519164838],[-0.3821444766625942,-0.13426413630228617,-0.10623169482520996,-0.09789878299504859,-0.17836734020312825,-0.2560391447401148,-0.1169300362029266,-0.10765263143593588,-0.033346052777234056,-0.20436040219043128,-0.058908238573934915,-0.18667839445187906,1.0,0.20868665973164707,0.0005475254066956771],[-0.1996043120162998,-0.08835685404955024,-0.12398140433113873,-0.09492679917735405,-0.1223991766382511,-0.20437915779104823,-0.1634765054941326,-0.1740536869201657,-0.12812730734910693,-0.2869437355662209,-0.05796740753661589,-0.2776090517228262,0.20868665973164707,1.0,0.005675631063726992],[0.02678120002042124,-0.009366668653368663,-0.031377057483172384,-0.019953384829756053,0.0026975030466501724,0.0014582800272294797,-0.019132575735106953,-0.01426912468076493,0.006059889907237349,-0.0007431152414006949,-0.010343936619248078,0.009758487519164838,0.0005475254066956771,0.005675631063726992,1.0]],\"type\":\"heatmap\",\"xaxis\":\"x\",\"yaxis\":\"y\",\"hovertemplate\":\"x: %{x}<br>y: %{y}<br>color: %{z}<extra></extra>\"}],                        {\"template\":{\"data\":{\"bar\":[{\"error_x\":{\"color\":\"#2a3f5f\"},\"error_y\":{\"color\":\"#2a3f5f\"},\"marker\":{\"line\":{\"color\":\"#E5ECF6\",\"width\":0.5},\"pattern\":{\"fillmode\":\"overlay\",\"size\":10,\"solidity\":0.2}},\"type\":\"bar\"}],\"barpolar\":[{\"marker\":{\"line\":{\"color\":\"#E5ECF6\",\"width\":0.5},\"pattern\":{\"fillmode\":\"overlay\",\"size\":10,\"solidity\":0.2}},\"type\":\"barpolar\"}],\"carpet\":[{\"aaxis\":{\"endlinecolor\":\"#2a3f5f\",\"gridcolor\":\"white\",\"linecolor\":\"white\",\"minorgridcolor\":\"white\",\"startlinecolor\":\"#2a3f5f\"},\"baxis\":{\"endlinecolor\":\"#2a3f5f\",\"gridcolor\":\"white\",\"linecolor\":\"white\",\"minorgridcolor\":\"white\",\"startlinecolor\":\"#2a3f5f\"},\"type\":\"carpet\"}],\"choropleth\":[{\"colorbar\":{\"outlinewidth\":0,\"ticks\":\"\"},\"type\":\"choropleth\"}],\"contour\":[{\"colorbar\":{\"outlinewidth\":0,\"ticks\":\"\"},\"colorscale\":[[0.0,\"#0d0887\"],[0.1111111111111111,\"#46039f\"],[0.2222222222222222,\"#7201a8\"],[0.3333333333333333,\"#9c179e\"],[0.4444444444444444,\"#bd3786\"],[0.5555555555555556,\"#d8576b\"],[0.6666666666666666,\"#ed7953\"],[0.7777777777777778,\"#fb9f3a\"],[0.8888888888888888,\"#fdca26\"],[1.0,\"#f0f921\"]],\"type\":\"contour\"}],\"contourcarpet\":[{\"colorbar\":{\"outlinewidth\":0,\"ticks\":\"\"},\"type\":\"contourcarpet\"}],\"heatmap\":[{\"colorbar\":{\"outlinewidth\":0,\"ticks\":\"\"},\"colorscale\":[[0.0,\"#0d0887\"],[0.1111111111111111,\"#46039f\"],[0.2222222222222222,\"#7201a8\"],[0.3333333333333333,\"#9c179e\"],[0.4444444444444444,\"#bd3786\"],[0.5555555555555556,\"#d8576b\"],[0.6666666666666666,\"#ed7953\"],[0.7777777777777778,\"#fb9f3a\"],[0.8888888888888888,\"#fdca26\"],[1.0,\"#f0f921\"]],\"type\":\"heatmap\"}],\"heatmapgl\":[{\"colorbar\":{\"outlinewidth\":0,\"ticks\":\"\"},\"colorscale\":[[0.0,\"#0d0887\"],[0.1111111111111111,\"#46039f\"],[0.2222222222222222,\"#7201a8\"],[0.3333333333333333,\"#9c179e\"],[0.4444444444444444,\"#bd3786\"],[0.5555555555555556,\"#d8576b\"],[0.6666666666666666,\"#ed7953\"],[0.7777777777777778,\"#fb9f3a\"],[0.8888888888888888,\"#fdca26\"],[1.0,\"#f0f921\"]],\"type\":\"heatmapgl\"}],\"histogram\":[{\"marker\":{\"pattern\":{\"fillmode\":\"overlay\",\"size\":10,\"solidity\":0.2}},\"type\":\"histogram\"}],\"histogram2d\":[{\"colorbar\":{\"outlinewidth\":0,\"ticks\":\"\"},\"colorscale\":[[0.0,\"#0d0887\"],[0.1111111111111111,\"#46039f\"],[0.2222222222222222,\"#7201a8\"],[0.3333333333333333,\"#9c179e\"],[0.4444444444444444,\"#bd3786\"],[0.5555555555555556,\"#d8576b\"],[0.6666666666666666,\"#ed7953\"],[0.7777777777777778,\"#fb9f3a\"],[0.8888888888888888,\"#fdca26\"],[1.0,\"#f0f921\"]],\"type\":\"histogram2d\"}],\"histogram2dcontour\":[{\"colorbar\":{\"outlinewidth\":0,\"ticks\":\"\"},\"colorscale\":[[0.0,\"#0d0887\"],[0.1111111111111111,\"#46039f\"],[0.2222222222222222,\"#7201a8\"],[0.3333333333333333,\"#9c179e\"],[0.4444444444444444,\"#bd3786\"],[0.5555555555555556,\"#d8576b\"],[0.6666666666666666,\"#ed7953\"],[0.7777777777777778,\"#fb9f3a\"],[0.8888888888888888,\"#fdca26\"],[1.0,\"#f0f921\"]],\"type\":\"histogram2dcontour\"}],\"mesh3d\":[{\"colorbar\":{\"outlinewidth\":0,\"ticks\":\"\"},\"type\":\"mesh3d\"}],\"parcoords\":[{\"line\":{\"colorbar\":{\"outlinewidth\":0,\"ticks\":\"\"}},\"type\":\"parcoords\"}],\"pie\":[{\"automargin\":true,\"type\":\"pie\"}],\"scatter\":[{\"marker\":{\"colorbar\":{\"outlinewidth\":0,\"ticks\":\"\"}},\"type\":\"scatter\"}],\"scatter3d\":[{\"line\":{\"colorbar\":{\"outlinewidth\":0,\"ticks\":\"\"}},\"marker\":{\"colorbar\":{\"outlinewidth\":0,\"ticks\":\"\"}},\"type\":\"scatter3d\"}],\"scattercarpet\":[{\"marker\":{\"colorbar\":{\"outlinewidth\":0,\"ticks\":\"\"}},\"type\":\"scattercarpet\"}],\"scattergeo\":[{\"marker\":{\"colorbar\":{\"outlinewidth\":0,\"ticks\":\"\"}},\"type\":\"scattergeo\"}],\"scattergl\":[{\"marker\":{\"colorbar\":{\"outlinewidth\":0,\"ticks\":\"\"}},\"type\":\"scattergl\"}],\"scattermapbox\":[{\"marker\":{\"colorbar\":{\"outlinewidth\":0,\"ticks\":\"\"}},\"type\":\"scattermapbox\"}],\"scatterpolar\":[{\"marker\":{\"colorbar\":{\"outlinewidth\":0,\"ticks\":\"\"}},\"type\":\"scatterpolar\"}],\"scatterpolargl\":[{\"marker\":{\"colorbar\":{\"outlinewidth\":0,\"ticks\":\"\"}},\"type\":\"scatterpolargl\"}],\"scatterternary\":[{\"marker\":{\"colorbar\":{\"outlinewidth\":0,\"ticks\":\"\"}},\"type\":\"scatterternary\"}],\"surface\":[{\"colorbar\":{\"outlinewidth\":0,\"ticks\":\"\"},\"colorscale\":[[0.0,\"#0d0887\"],[0.1111111111111111,\"#46039f\"],[0.2222222222222222,\"#7201a8\"],[0.3333333333333333,\"#9c179e\"],[0.4444444444444444,\"#bd3786\"],[0.5555555555555556,\"#d8576b\"],[0.6666666666666666,\"#ed7953\"],[0.7777777777777778,\"#fb9f3a\"],[0.8888888888888888,\"#fdca26\"],[1.0,\"#f0f921\"]],\"type\":\"surface\"}],\"table\":[{\"cells\":{\"fill\":{\"color\":\"#EBF0F8\"},\"line\":{\"color\":\"white\"}},\"header\":{\"fill\":{\"color\":\"#C8D4E3\"},\"line\":{\"color\":\"white\"}},\"type\":\"table\"}]},\"layout\":{\"annotationdefaults\":{\"arrowcolor\":\"#2a3f5f\",\"arrowhead\":0,\"arrowwidth\":1},\"autotypenumbers\":\"strict\",\"coloraxis\":{\"colorbar\":{\"outlinewidth\":0,\"ticks\":\"\"}},\"colorscale\":{\"diverging\":[[0,\"#8e0152\"],[0.1,\"#c51b7d\"],[0.2,\"#de77ae\"],[0.3,\"#f1b6da\"],[0.4,\"#fde0ef\"],[0.5,\"#f7f7f7\"],[0.6,\"#e6f5d0\"],[0.7,\"#b8e186\"],[0.8,\"#7fbc41\"],[0.9,\"#4d9221\"],[1,\"#276419\"]],\"sequential\":[[0.0,\"#0d0887\"],[0.1111111111111111,\"#46039f\"],[0.2222222222222222,\"#7201a8\"],[0.3333333333333333,\"#9c179e\"],[0.4444444444444444,\"#bd3786\"],[0.5555555555555556,\"#d8576b\"],[0.6666666666666666,\"#ed7953\"],[0.7777777777777778,\"#fb9f3a\"],[0.8888888888888888,\"#fdca26\"],[1.0,\"#f0f921\"]],\"sequentialminus\":[[0.0,\"#0d0887\"],[0.1111111111111111,\"#46039f\"],[0.2222222222222222,\"#7201a8\"],[0.3333333333333333,\"#9c179e\"],[0.4444444444444444,\"#bd3786\"],[0.5555555555555556,\"#d8576b\"],[0.6666666666666666,\"#ed7953\"],[0.7777777777777778,\"#fb9f3a\"],[0.8888888888888888,\"#fdca26\"],[1.0,\"#f0f921\"]]},\"colorway\":[\"#636efa\",\"#EF553B\",\"#00cc96\",\"#ab63fa\",\"#FFA15A\",\"#19d3f3\",\"#FF6692\",\"#B6E880\",\"#FF97FF\",\"#FECB52\"],\"font\":{\"color\":\"#2a3f5f\"},\"geo\":{\"bgcolor\":\"white\",\"lakecolor\":\"white\",\"landcolor\":\"#E5ECF6\",\"showlakes\":true,\"showland\":true,\"subunitcolor\":\"white\"},\"hoverlabel\":{\"align\":\"left\"},\"hovermode\":\"closest\",\"mapbox\":{\"style\":\"light\"},\"paper_bgcolor\":\"white\",\"plot_bgcolor\":\"#E5ECF6\",\"polar\":{\"angularaxis\":{\"gridcolor\":\"white\",\"linecolor\":\"white\",\"ticks\":\"\"},\"bgcolor\":\"#E5ECF6\",\"radialaxis\":{\"gridcolor\":\"white\",\"linecolor\":\"white\",\"ticks\":\"\"}},\"scene\":{\"xaxis\":{\"backgroundcolor\":\"#E5ECF6\",\"gridcolor\":\"white\",\"gridwidth\":2,\"linecolor\":\"white\",\"showbackground\":true,\"ticks\":\"\",\"zerolinecolor\":\"white\"},\"yaxis\":{\"backgroundcolor\":\"#E5ECF6\",\"gridcolor\":\"white\",\"gridwidth\":2,\"linecolor\":\"white\",\"showbackground\":true,\"ticks\":\"\",\"zerolinecolor\":\"white\"},\"zaxis\":{\"backgroundcolor\":\"#E5ECF6\",\"gridcolor\":\"white\",\"gridwidth\":2,\"linecolor\":\"white\",\"showbackground\":true,\"ticks\":\"\",\"zerolinecolor\":\"white\"}},\"shapedefaults\":{\"line\":{\"color\":\"#2a3f5f\"}},\"ternary\":{\"aaxis\":{\"gridcolor\":\"white\",\"linecolor\":\"white\",\"ticks\":\"\"},\"baxis\":{\"gridcolor\":\"white\",\"linecolor\":\"white\",\"ticks\":\"\"},\"bgcolor\":\"#E5ECF6\",\"caxis\":{\"gridcolor\":\"white\",\"linecolor\":\"white\",\"ticks\":\"\"}},\"title\":{\"x\":0.05},\"xaxis\":{\"automargin\":true,\"gridcolor\":\"white\",\"linecolor\":\"white\",\"ticks\":\"\",\"title\":{\"standoff\":15},\"zerolinecolor\":\"white\",\"zerolinewidth\":2},\"yaxis\":{\"automargin\":true,\"gridcolor\":\"white\",\"linecolor\":\"white\",\"ticks\":\"\",\"title\":{\"standoff\":15},\"zerolinecolor\":\"white\",\"zerolinewidth\":2}}},\"xaxis\":{\"anchor\":\"y\",\"domain\":[0.0,1.0],\"scaleanchor\":\"y\",\"constrain\":\"domain\"},\"yaxis\":{\"anchor\":\"x\",\"domain\":[0.0,1.0],\"autorange\":\"reversed\",\"constrain\":\"domain\"},\"coloraxis\":{\"colorscale\":[[0.0,\"#0d0887\"],[0.1111111111111111,\"#46039f\"],[0.2222222222222222,\"#7201a8\"],[0.3333333333333333,\"#9c179e\"],[0.4444444444444444,\"#bd3786\"],[0.5555555555555556,\"#d8576b\"],[0.6666666666666666,\"#ed7953\"],[0.7777777777777778,\"#fb9f3a\"],[0.8888888888888888,\"#fdca26\"],[1.0,\"#f0f921\"]]},\"margin\":{\"t\":60}},                        {\"responsive\": true}                    ).then(function(){\n",
              "                            \n",
              "var gd = document.getElementById('0cb5ccda-7278-4546-8c8c-eaad930a3838');\n",
              "var x = new MutationObserver(function (mutations, observer) {{\n",
              "        var display = window.getComputedStyle(gd).display;\n",
              "        if (!display || display === 'none') {{\n",
              "            console.log([gd, 'removed!']);\n",
              "            Plotly.purge(gd);\n",
              "            observer.disconnect();\n",
              "        }}\n",
              "}});\n",
              "\n",
              "// Listen for the removal of the full notebook cells\n",
              "var notebookContainer = gd.closest('#notebook-container');\n",
              "if (notebookContainer) {{\n",
              "    x.observe(notebookContainer, {childList: true});\n",
              "}}\n",
              "\n",
              "// Listen for the clearing of the current output cell\n",
              "var outputEl = gd.closest('.output');\n",
              "if (outputEl) {{\n",
              "    x.observe(outputEl, {childList: true});\n",
              "}}\n",
              "\n",
              "                        })                };                            </script>        </div>\n",
              "</body>\n",
              "</html>"
            ]
          },
          "metadata": {},
          "output_type": "display_data"
        }
      ],
      "source": [
        "# Vendo a matriz de correlação das variáveis para usuários que fizeram alguma compra\n",
        "import plotly.express as px\n",
        "fig = px.imshow(users_1[users_1['productsBought'] > 0].corr())\n",
        "fig.show()"
      ]
    },
    {
      "cell_type": "code",
      "execution_count": null,
      "metadata": {
        "colab": {
          "base_uri": "https://localhost:8080/"
        },
        "id": "nLkFzZAK49qj",
        "outputId": "80bcbad7-a1a1-4e37-9fe9-a4222de90d61"
      },
      "outputs": [
        {
          "data": {
            "text/plain": [
              "socialNbFollowers      0.0\n",
              "socialNbFollows        0.0\n",
              "socialProductsLiked    0.0\n",
              "productsListed         0.0\n",
              "productsSold           0.0\n",
              "productsPassRate       0.0\n",
              "productsWished         0.0\n",
              "productsBought         0.0\n",
              "civilityGenderId       0.0\n",
              "hasAnyApp              0.0\n",
              "hasAndroidApp          0.0\n",
              "hasIosApp              0.0\n",
              "hasProfilePicture      0.0\n",
              "daysSinceLastLogin     0.0\n",
              "seniority              0.0\n",
              "dtype: float64"
            ]
          },
          "execution_count": 17,
          "metadata": {},
          "output_type": "execute_result"
        }
      ],
      "source": [
        "# Verificando dados faltantes\n",
        "users_1.isnull().mean().round(4)*100"
      ]
    },
    {
      "cell_type": "markdown",
      "metadata": {
        "id": "TVkmcR87b08V"
      },
      "source": [
        "# **Prevendo se clientes vão realizar alguma compra ou não**\n",
        "\n"
      ]
    },
    {
      "cell_type": "markdown",
      "metadata": {
        "id": "LbMf6ACQsxWq"
      },
      "source": [
        "Para prever se os usuários vão fazer uma compra ou não será criada uma variável para servir de classe.\n",
        "(0 se sim e 1 caso não)"
      ]
    },
    {
      "cell_type": "code",
      "execution_count": null,
      "metadata": {
        "id": "VTg-Oh-OAK1t"
      },
      "outputs": [],
      "source": [
        "users_1 = users\n",
        "# coluna redundante, equivalente ao countryCode\n",
        "users_1 = users_1.drop(['country'], axis=1)\n",
        "# coluna que eu considero irrelevante, a língua é parte da cultura de um país, logo saber de onde o usuário vem é uma informação mais relevante que engloba a lígua\n",
        "users_1 = users_1.drop(['language'], axis=1)\n",
        "users_1 = users_1.drop(['identifierHash'], axis=1)\n",
        "users_1 = users_1.drop(['index'], axis=1)\n",
        "# todos os valores dessa coluna são iguais\n",
        "users_1 = users_1.drop(['type'], axis=1)\n",
        "users_1 = users_1.drop(['civilityTitle'], axis=1)\n",
        "# variáveis redundante por dizer a mesma coisa que seniority\n",
        "users_1 = users_1.drop(['seniorityAsYears'], axis=1)\n",
        "users_1 = users_1.drop(['seniorityAsMonths'], axis=1)\n",
        "# informação redundante por civilityGenderId\n",
        "users_1 = users_1.drop(['gender'], axis=1)\n",
        "# por ser muito custoso aplicar o one hot encoder nessa coluna ela será removida\n",
        "users_1 = users_1.drop(['countryCode'], axis=1)\n",
        "# pela matriz de correlação não tem muita correlação\n",
        "users_1 = users_1.drop(['seniority'], axis=1)"
      ]
    },
    {
      "cell_type": "code",
      "execution_count": null,
      "metadata": {
        "id": "NaSJiHqoi639"
      },
      "outputs": [],
      "source": [
        "array=[]\n",
        "# criando uma coluna de classe que indica se usuário fez alguma compra ou não\n",
        "for x in users['productsBought']:\n",
        "  variable = 0 if x>0 else 1\n",
        "  array.append(variable)\n",
        "\n",
        "users_1['classe'] = array"
      ]
    },
    {
      "cell_type": "code",
      "execution_count": null,
      "metadata": {
        "id": "6LrZzFZiyRAa"
      },
      "outputs": [],
      "source": [
        "from sklearn.model_selection import train_test_split\n",
        "\n",
        "# spliting data \n",
        "\n",
        "X_treino, X_teste, y_treino, y_teste = train_test_split(users_1[['socialNbFollowers','socialNbFollows', 'socialProductsLiked',\n",
        "       'productsListed', 'productsSold', 'productsPassRate', 'productsWished', 'civilityGenderId', 'hasAnyApp','hasProfilePicture', 'daysSinceLastLogin']], users_1['classe'], test_size=0.2)"
      ]
    },
    {
      "cell_type": "markdown",
      "metadata": {
        "id": "Vf-W1Sw7z3Pj"
      },
      "source": [
        "# **Regressão Logística**"
      ]
    },
    {
      "cell_type": "code",
      "execution_count": null,
      "metadata": {
        "colab": {
          "base_uri": "https://localhost:8080/"
        },
        "id": "RGFrXmQU2WFT",
        "outputId": "2e9a7eef-6928-4049-b9df-d3226023a135"
      },
      "outputs": [
        {
          "data": {
            "text/plain": [
              "94.8970049285985"
            ]
          },
          "execution_count": 23,
          "metadata": {},
          "output_type": "execute_result"
        }
      ],
      "source": [
        "import sklearn.linear_model as lm\n",
        "\n",
        "rlog = lm.LogisticRegression()\n",
        "rlog.fit(X_treino,y_treino)\n",
        "acc_treino = rlog.score(X_treino, y_treino)\n",
        "acc_treino*100"
      ]
    },
    {
      "cell_type": "code",
      "execution_count": null,
      "metadata": {
        "id": "2gxuv_Hf2q1b"
      },
      "outputs": [],
      "source": [
        "prev_teste = rlog.predict(X_teste)"
      ]
    },
    {
      "cell_type": "code",
      "execution_count": null,
      "metadata": {
        "colab": {
          "base_uri": "https://localhost:8080/"
        },
        "id": "i7qW6pps6n5G",
        "outputId": "421c1d0c-fd6d-455b-e542-cc40498ab4af"
      },
      "outputs": [
        {
          "data": {
            "text/plain": [
              "94.8288934944144"
            ]
          },
          "execution_count": 27,
          "metadata": {},
          "output_type": "execute_result"
        }
      ],
      "source": [
        "from sklearn.metrics import accuracy_score\n",
        "\n",
        "accuracy_score(y_teste, prev_teste)*100"
      ]
    },
    {
      "cell_type": "code",
      "execution_count": null,
      "metadata": {
        "colab": {
          "base_uri": "https://localhost:8080/",
          "height": 301
        },
        "id": "hAU-jR106vV6",
        "outputId": "a23aa2f4-259a-49f2-f7f7-f88f78c3ce91"
      },
      "outputs": [
        {
          "data": {
            "text/plain": [
              "array([[  130,   976],\n",
              "       [   47, 18630]])"
            ]
          },
          "execution_count": 28,
          "metadata": {},
          "output_type": "execute_result"
        },
        {
          "data": {
            "image/png": "[encoded data removed]",
            "text/plain": [
              "<Figure size 432x288 with 2 Axes>"
            ]
          },
          "metadata": {},
          "output_type": "display_data"
        }
      ],
      "source": [
        "from sklearn.metrics import confusion_matrix\n",
        "import seaborn as sns \n",
        "cm = confusion_matrix(y_teste, prev_teste)\n",
        "sns.heatmap(cm,annot=True)\n",
        "cm"
      ]
    },
    {
      "cell_type": "markdown",
      "metadata": {
        "id": "qmcHO0FRy4yN"
      },
      "source": [
        "Apesar da quantidade de classes estar desbalanceada a acurácia do modelo ficou bastante boa, creio que separar em classes foi uma decisão melhor do que utilizar a quantidade de produtos vendidos para regressão."
      ]
    },
    {
      "cell_type": "markdown",
      "metadata": {
        "id": "djr8sxd3uDvR"
      },
      "source": [
        "# **Árvore de Decisão**"
      ]
    },
    {
      "cell_type": "code",
      "execution_count": null,
      "metadata": {
        "id": "dR8nsmcJ18yV"
      },
      "outputs": [],
      "source": [
        "from sklearn.tree import DecisionTreeClassifier\n",
        "\n",
        "arv = DecisionTreeClassifier(max_depth = 3)"
      ]
    },
    {
      "cell_type": "code",
      "execution_count": null,
      "metadata": {
        "colab": {
          "base_uri": "https://localhost:8080/",
          "height": 75
        },
        "id": "2N6qTurqzau5",
        "outputId": "a95931d5-bb0e-4838-c42e-bb699a711b65"
      },
      "outputs": [
        {
          "data": {
            "text/html": [
              "<style>#sk-container-id-1 {color: black;background-color: white;}#sk-container-id-1 pre{padding: 0;}#sk-container-id-1 div.sk-toggleable {background-color: white;}#sk-container-id-1 label.sk-toggleable__label {cursor: pointer;display: block;width: 100%;margin-bottom: 0;padding: 0.3em;box-sizing: border-box;text-align: center;}#sk-container-id-1 label.sk-toggleable__label-arrow:before {content: \"▸\";float: left;margin-right: 0.25em;color: #696969;}#sk-container-id-1 label.sk-toggleable__label-arrow:hover:before {color: black;}#sk-container-id-1 div.sk-estimator:hover label.sk-toggleable__label-arrow:before {color: black;}#sk-container-id-1 div.sk-toggleable__content {max-height: 0;max-width: 0;overflow: hidden;text-align: left;background-color: #f0f8ff;}#sk-container-id-1 div.sk-toggleable__content pre {margin: 0.2em;color: black;border-radius: 0.25em;background-color: #f0f8ff;}#sk-container-id-1 input.sk-toggleable__control:checked~div.sk-toggleable__content {max-height: 200px;max-width: 100%;overflow: auto;}#sk-container-id-1 input.sk-toggleable__control:checked~label.sk-toggleable__label-arrow:before {content: \"▾\";}#sk-container-id-1 div.sk-estimator input.sk-toggleable__control:checked~label.sk-toggleable__label {background-color: #d4ebff;}#sk-container-id-1 div.sk-label input.sk-toggleable__control:checked~label.sk-toggleable__label {background-color: #d4ebff;}#sk-container-id-1 input.sk-hidden--visually {border: 0;clip: rect(1px 1px 1px 1px);clip: rect(1px, 1px, 1px, 1px);height: 1px;margin: -1px;overflow: hidden;padding: 0;position: absolute;width: 1px;}#sk-container-id-1 div.sk-estimator {font-family: monospace;background-color: #f0f8ff;border: 1px dotted black;border-radius: 0.25em;box-sizing: border-box;margin-bottom: 0.5em;}#sk-container-id-1 div.sk-estimator:hover {background-color: #d4ebff;}#sk-container-id-1 div.sk-parallel-item::after {content: \"\";width: 100%;border-bottom: 1px solid gray;flex-grow: 1;}#sk-container-id-1 div.sk-label:hover label.sk-toggleable__label {background-color: #d4ebff;}#sk-container-id-1 div.sk-serial::before {content: \"\";position: absolute;border-left: 1px solid gray;box-sizing: border-box;top: 0;bottom: 0;left: 50%;z-index: 0;}#sk-container-id-1 div.sk-serial {display: flex;flex-direction: column;align-items: center;background-color: white;padding-right: 0.2em;padding-left: 0.2em;position: relative;}#sk-container-id-1 div.sk-item {position: relative;z-index: 1;}#sk-container-id-1 div.sk-parallel {display: flex;align-items: stretch;justify-content: center;background-color: white;position: relative;}#sk-container-id-1 div.sk-item::before, #sk-container-id-1 div.sk-parallel-item::before {content: \"\";position: absolute;border-left: 1px solid gray;box-sizing: border-box;top: 0;bottom: 0;left: 50%;z-index: -1;}#sk-container-id-1 div.sk-parallel-item {display: flex;flex-direction: column;z-index: 1;position: relative;background-color: white;}#sk-container-id-1 div.sk-parallel-item:first-child::after {align-self: flex-end;width: 50%;}#sk-container-id-1 div.sk-parallel-item:last-child::after {align-self: flex-start;width: 50%;}#sk-container-id-1 div.sk-parallel-item:only-child::after {width: 0;}#sk-container-id-1 div.sk-dashed-wrapped {border: 1px dashed gray;margin: 0 0.4em 0.5em 0.4em;box-sizing: border-box;padding-bottom: 0.4em;background-color: white;}#sk-container-id-1 div.sk-label label {font-family: monospace;font-weight: bold;display: inline-block;line-height: 1.2em;}#sk-container-id-1 div.sk-label-container {text-align: center;}#sk-container-id-1 div.sk-container {/* jupyter's `normalize.less` sets `[hidden] { display: none; }` but bootstrap.min.css set `[hidden] { display: none !important; }` so we also need the `!important` here to be able to override the default hidden behavior on the sphinx rendered scikit-learn.org. See: https://github.com/scikit-learn/scikit-learn/issues/21755 */display: inline-block !important;position: relative;}#sk-container-id-1 div.sk-text-repr-fallback {display: none;}</style><div id=\"sk-container-id-1\" class=\"sk-top-container\"><div class=\"sk-text-repr-fallback\"><pre>DecisionTreeClassifier(max_depth=3)</pre><b>In a Jupyter environment, please rerun this cell to show the HTML representation or trust the notebook. <br />On GitHub, the HTML representation is unable to render, please try loading this page with nbviewer.org.</b></div><div class=\"sk-container\" hidden><div class=\"sk-item\"><div class=\"sk-estimator sk-toggleable\"><input class=\"sk-toggleable__control sk-hidden--visually\" id=\"sk-estimator-id-1\" type=\"checkbox\" checked><label for=\"sk-estimator-id-1\" class=\"sk-toggleable__label sk-toggleable__label-arrow\">DecisionTreeClassifier</label><div class=\"sk-toggleable__content\"><pre>DecisionTreeClassifier(max_depth=3)</pre></div></div></div></div></div>"
            ],
            "text/plain": [
              "DecisionTreeClassifier(max_depth=3)"
            ]
          },
          "execution_count": 22,
          "metadata": {},
          "output_type": "execute_result"
        }
      ],
      "source": [
        "arv.fit(X_treino,y_treino)"
      ]
    },
    {
      "cell_type": "code",
      "execution_count": null,
      "metadata": {
        "colab": {
          "base_uri": "https://localhost:8080/"
        },
        "id": "kbLIWRtFxA7Z",
        "outputId": "953131c3-2843-41e3-b42a-ed9bc3db4d7a"
      },
      "outputs": [
        {
          "data": {
            "text/plain": [
              "95.05750031593581"
            ]
          },
          "execution_count": 23,
          "metadata": {},
          "output_type": "execute_result"
        }
      ],
      "source": [
        "#acuracia\n",
        "acuracia_de_treino = arv.score(X_treino,y_treino)\n",
        "acuracia_de_treino*100"
      ]
    },
    {
      "cell_type": "code",
      "execution_count": null,
      "metadata": {
        "colab": {
          "base_uri": "https://localhost:8080/",
          "height": 618
        },
        "id": "CUbPzvfjxFyV",
        "outputId": "c6247d76-afc0-4384-8037-e18960e52959"
      },
      "outputs": [
        {
          "data": {
            "image/svg+xml": "<?xml version=\"1.0\" encoding=\"UTF-8\" standalone=\"no\"?>\n<!DOCTYPE svg PUBLIC \"-//W3C//DTD SVG 1.1//EN\"\n \"http://www.w3.org/Graphics/SVG/1.1/DTD/svg11.dtd\">\n<!-- Generated by graphviz version 2.43.0 (0)\n -->\n<!-- Title: Tree Pages: 1 -->\n<svg width=\"1260pt\" height=\"433pt\"\n viewBox=\"0.00 0.00 1260.00 433.00\" xmlns=\"http://www.w3.org/2000/svg\" xmlns:xlink=\"http://www.w3.org/1999/xlink\">\n<g id=\"graph0\" class=\"graph\" transform=\"scale(1 1) rotate(0) translate(4 429)\">\n<title>Tree</title>\n<polygon fill=\"white\" stroke=\"transparent\" points=\"-4,4 -4,-429 1256,-429 1256,4 -4,4\"/>\n<!-- 0 -->\n<g id=\"node1\" class=\"node\">\n<title>0</title>\n<polygon fill=\"#45a3e7\" stroke=\"black\" points=\"699,-425 542,-425 542,-342 699,-342 699,-425\"/>\n<text text-anchor=\"middle\" x=\"620.5\" y=\"-409.8\" font-family=\"Helvetica,sans-Serif\" font-size=\"14.00\">productsWished &lt;= 1.5</text>\n<text text-anchor=\"middle\" x=\"620.5\" y=\"-394.8\" font-family=\"Helvetica,sans-Serif\" font-size=\"14.00\">gini = 0.104</text>\n<text text-anchor=\"middle\" x=\"620.5\" y=\"-379.8\" font-family=\"Helvetica,sans-Serif\" font-size=\"14.00\">samples = 79130</text>\n<text text-anchor=\"middle\" x=\"620.5\" y=\"-364.8\" font-family=\"Helvetica,sans-Serif\" font-size=\"14.00\">value = [4357, 74773]</text>\n<text text-anchor=\"middle\" x=\"620.5\" y=\"-349.8\" font-family=\"Helvetica,sans-Serif\" font-size=\"14.00\">class = não comprou</text>\n</g>\n<!-- 1 -->\n<g id=\"node2\" class=\"node\">\n<title>1</title>\n<polygon fill=\"#40a1e6\" stroke=\"black\" points=\"599,-306 430,-306 430,-223 599,-223 599,-306\"/>\n<text text-anchor=\"middle\" x=\"514.5\" y=\"-290.8\" font-family=\"Helvetica,sans-Serif\" font-size=\"14.00\">socialNbFollowers &lt;= 3.5</text>\n<text text-anchor=\"middle\" x=\"514.5\" y=\"-275.8\" font-family=\"Helvetica,sans-Serif\" font-size=\"14.00\">gini = 0.067</text>\n<text text-anchor=\"middle\" x=\"514.5\" y=\"-260.8\" font-family=\"Helvetica,sans-Serif\" font-size=\"14.00\">samples = 74350</text>\n<text text-anchor=\"middle\" x=\"514.5\" y=\"-245.8\" font-family=\"Helvetica,sans-Serif\" font-size=\"14.00\">value = [2580, 71770]</text>\n<text text-anchor=\"middle\" x=\"514.5\" y=\"-230.8\" font-family=\"Helvetica,sans-Serif\" font-size=\"14.00\">class = não comprou</text>\n</g>\n<!-- 0&#45;&gt;1 -->\n<g id=\"edge1\" class=\"edge\">\n<title>0&#45;&gt;1</title>\n<path fill=\"none\" stroke=\"black\" d=\"M583.72,-341.91C575.42,-332.74 566.53,-322.93 557.98,-313.49\"/>\n<polygon fill=\"black\" stroke=\"black\" points=\"560.52,-311.08 551.21,-306.02 555.33,-315.78 560.52,-311.08\"/>\n<text text-anchor=\"middle\" x=\"549.98\" y=\"-327.29\" font-family=\"Helvetica,sans-Serif\" font-size=\"14.00\">True</text>\n</g>\n<!-- 8 -->\n<g id=\"node9\" class=\"node\">\n<title>8</title>\n<polygon fill=\"#aed7f4\" stroke=\"black\" points=\"840,-306 671,-306 671,-223 840,-223 840,-306\"/>\n<text text-anchor=\"middle\" x=\"755.5\" y=\"-290.8\" font-family=\"Helvetica,sans-Serif\" font-size=\"14.00\">socialNbFollowers &lt;= 3.5</text>\n<text text-anchor=\"middle\" x=\"755.5\" y=\"-275.8\" font-family=\"Helvetica,sans-Serif\" font-size=\"14.00\">gini = 0.467</text>\n<text text-anchor=\"middle\" x=\"755.5\" y=\"-260.8\" font-family=\"Helvetica,sans-Serif\" font-size=\"14.00\">samples = 4780</text>\n<text text-anchor=\"middle\" x=\"755.5\" y=\"-245.8\" font-family=\"Helvetica,sans-Serif\" font-size=\"14.00\">value = [1777, 3003]</text>\n<text text-anchor=\"middle\" x=\"755.5\" y=\"-230.8\" font-family=\"Helvetica,sans-Serif\" font-size=\"14.00\">class = não comprou</text>\n</g>\n<!-- 0&#45;&gt;8 -->\n<g id=\"edge8\" class=\"edge\">\n<title>0&#45;&gt;8</title>\n<path fill=\"none\" stroke=\"black\" d=\"M667.34,-341.91C678.23,-332.47 689.91,-322.34 701.1,-312.65\"/>\n<polygon fill=\"black\" stroke=\"black\" points=\"703.48,-315.22 708.75,-306.02 698.9,-309.93 703.48,-315.22\"/>\n<text text-anchor=\"middle\" x=\"706.96\" y=\"-327.26\" font-family=\"Helvetica,sans-Serif\" font-size=\"14.00\">False</text>\n</g>\n<!-- 2 -->\n<g id=\"node3\" class=\"node\">\n<title>2</title>\n<polygon fill=\"#3d9fe6\" stroke=\"black\" points=\"330,-187 135,-187 135,-104 330,-104 330,-187\"/>\n<text text-anchor=\"middle\" x=\"232.5\" y=\"-171.8\" font-family=\"Helvetica,sans-Serif\" font-size=\"14.00\">daysSinceLastLogin &lt;= 182.5</text>\n<text text-anchor=\"middle\" x=\"232.5\" y=\"-156.8\" font-family=\"Helvetica,sans-Serif\" font-size=\"14.00\">gini = 0.041</text>\n<text text-anchor=\"middle\" x=\"232.5\" y=\"-141.8\" font-family=\"Helvetica,sans-Serif\" font-size=\"14.00\">samples = 65172</text>\n<text text-anchor=\"middle\" x=\"232.5\" y=\"-126.8\" font-family=\"Helvetica,sans-Serif\" font-size=\"14.00\">value = [1354, 63818]</text>\n<text text-anchor=\"middle\" x=\"232.5\" y=\"-111.8\" font-family=\"Helvetica,sans-Serif\" font-size=\"14.00\">class = não comprou</text>\n</g>\n<!-- 1&#45;&gt;2 -->\n<g id=\"edge2\" class=\"edge\">\n<title>1&#45;&gt;2</title>\n<path fill=\"none\" stroke=\"black\" d=\"M429.89,-228.4C401.56,-216.64 369.6,-203.38 339.78,-191.01\"/>\n<polygon fill=\"black\" stroke=\"black\" points=\"340.75,-187.62 330.18,-187.03 338.07,-194.09 340.75,-187.62\"/>\n</g>\n<!-- 5 -->\n<g id=\"node6\" class=\"node\">\n<title>5</title>\n<polygon fill=\"#58ace9\" stroke=\"black\" points=\"612,-187 417,-187 417,-104 612,-104 612,-187\"/>\n<text text-anchor=\"middle\" x=\"514.5\" y=\"-171.8\" font-family=\"Helvetica,sans-Serif\" font-size=\"14.00\">daysSinceLastLogin &lt;= 690.5</text>\n<text text-anchor=\"middle\" x=\"514.5\" y=\"-156.8\" font-family=\"Helvetica,sans-Serif\" font-size=\"14.00\">gini = 0.231</text>\n<text text-anchor=\"middle\" x=\"514.5\" y=\"-141.8\" font-family=\"Helvetica,sans-Serif\" font-size=\"14.00\">samples = 9178</text>\n<text text-anchor=\"middle\" x=\"514.5\" y=\"-126.8\" font-family=\"Helvetica,sans-Serif\" font-size=\"14.00\">value = [1226, 7952]</text>\n<text text-anchor=\"middle\" x=\"514.5\" y=\"-111.8\" font-family=\"Helvetica,sans-Serif\" font-size=\"14.00\">class = não comprou</text>\n</g>\n<!-- 1&#45;&gt;5 -->\n<g id=\"edge5\" class=\"edge\">\n<title>1&#45;&gt;5</title>\n<path fill=\"none\" stroke=\"black\" d=\"M514.5,-222.91C514.5,-214.65 514.5,-205.86 514.5,-197.3\"/>\n<polygon fill=\"black\" stroke=\"black\" points=\"518,-197.02 514.5,-187.02 511,-197.02 518,-197.02\"/>\n</g>\n<!-- 3 -->\n<g id=\"node4\" class=\"node\">\n<title>3</title>\n<polygon fill=\"#52a9e8\" stroke=\"black\" points=\"143,-68 0,-68 0,0 143,0 143,-68\"/>\n<text text-anchor=\"middle\" x=\"71.5\" y=\"-52.8\" font-family=\"Helvetica,sans-Serif\" font-size=\"14.00\">gini = 0.197</text>\n<text text-anchor=\"middle\" x=\"71.5\" y=\"-37.8\" font-family=\"Helvetica,sans-Serif\" font-size=\"14.00\">samples = 3833</text>\n<text text-anchor=\"middle\" x=\"71.5\" y=\"-22.8\" font-family=\"Helvetica,sans-Serif\" font-size=\"14.00\">value = [424, 3409]</text>\n<text text-anchor=\"middle\" x=\"71.5\" y=\"-7.8\" font-family=\"Helvetica,sans-Serif\" font-size=\"14.00\">class = não comprou</text>\n</g>\n<!-- 2&#45;&gt;3 -->\n<g id=\"edge3\" class=\"edge\">\n<title>2&#45;&gt;3</title>\n<path fill=\"none\" stroke=\"black\" d=\"M172.55,-103.73C158.13,-93.92 142.76,-83.46 128.47,-73.75\"/>\n<polygon fill=\"black\" stroke=\"black\" points=\"130.44,-70.85 120.2,-68.13 126.51,-76.64 130.44,-70.85\"/>\n</g>\n<!-- 4 -->\n<g id=\"node5\" class=\"node\">\n<title>4</title>\n<polygon fill=\"#3c9fe5\" stroke=\"black\" points=\"304,-68 161,-68 161,0 304,0 304,-68\"/>\n<text text-anchor=\"middle\" x=\"232.5\" y=\"-52.8\" font-family=\"Helvetica,sans-Serif\" font-size=\"14.00\">gini = 0.03</text>\n<text text-anchor=\"middle\" x=\"232.5\" y=\"-37.8\" font-family=\"Helvetica,sans-Serif\" font-size=\"14.00\">samples = 61339</text>\n<text text-anchor=\"middle\" x=\"232.5\" y=\"-22.8\" font-family=\"Helvetica,sans-Serif\" font-size=\"14.00\">value = [930, 60409]</text>\n<text text-anchor=\"middle\" x=\"232.5\" y=\"-7.8\" font-family=\"Helvetica,sans-Serif\" font-size=\"14.00\">class = não comprou</text>\n</g>\n<!-- 2&#45;&gt;4 -->\n<g id=\"edge4\" class=\"edge\">\n<title>2&#45;&gt;4</title>\n<path fill=\"none\" stroke=\"black\" d=\"M232.5,-103.73C232.5,-95.52 232.5,-86.86 232.5,-78.56\"/>\n<polygon fill=\"black\" stroke=\"black\" points=\"236,-78.3 232.5,-68.3 229,-78.3 236,-78.3\"/>\n</g>\n<!-- 6 -->\n<g id=\"node7\" class=\"node\">\n<title>6</title>\n<polygon fill=\"#6fb8ec\" stroke=\"black\" points=\"465,-68 322,-68 322,0 465,0 465,-68\"/>\n<text text-anchor=\"middle\" x=\"393.5\" y=\"-52.8\" font-family=\"Helvetica,sans-Serif\" font-size=\"14.00\">gini = 0.336</text>\n<text text-anchor=\"middle\" x=\"393.5\" y=\"-37.8\" font-family=\"Helvetica,sans-Serif\" font-size=\"14.00\">samples = 4859</text>\n<text text-anchor=\"middle\" x=\"393.5\" y=\"-22.8\" font-family=\"Helvetica,sans-Serif\" font-size=\"14.00\">value = [1039, 3820]</text>\n<text text-anchor=\"middle\" x=\"393.5\" y=\"-7.8\" font-family=\"Helvetica,sans-Serif\" font-size=\"14.00\">class = não comprou</text>\n</g>\n<!-- 5&#45;&gt;6 -->\n<g id=\"edge6\" class=\"edge\">\n<title>5&#45;&gt;6</title>\n<path fill=\"none\" stroke=\"black\" d=\"M469.44,-103.73C459.16,-94.42 448.25,-84.54 437.99,-75.26\"/>\n<polygon fill=\"black\" stroke=\"black\" points=\"440.06,-72.41 430.3,-68.3 435.36,-77.6 440.06,-72.41\"/>\n</g>\n<!-- 7 -->\n<g id=\"node8\" class=\"node\">\n<title>7</title>\n<polygon fill=\"#42a1e6\" stroke=\"black\" points=\"626,-68 483,-68 483,0 626,0 626,-68\"/>\n<text text-anchor=\"middle\" x=\"554.5\" y=\"-52.8\" font-family=\"Helvetica,sans-Serif\" font-size=\"14.00\">gini = 0.083</text>\n<text text-anchor=\"middle\" x=\"554.5\" y=\"-37.8\" font-family=\"Helvetica,sans-Serif\" font-size=\"14.00\">samples = 4319</text>\n<text text-anchor=\"middle\" x=\"554.5\" y=\"-22.8\" font-family=\"Helvetica,sans-Serif\" font-size=\"14.00\">value = [187, 4132]</text>\n<text text-anchor=\"middle\" x=\"554.5\" y=\"-7.8\" font-family=\"Helvetica,sans-Serif\" font-size=\"14.00\">class = não comprou</text>\n</g>\n<!-- 5&#45;&gt;7 -->\n<g id=\"edge7\" class=\"edge\">\n<title>5&#45;&gt;7</title>\n<path fill=\"none\" stroke=\"black\" d=\"M529.39,-103.73C532.49,-95.24 535.77,-86.28 538.89,-77.73\"/>\n<polygon fill=\"black\" stroke=\"black\" points=\"542.19,-78.89 542.34,-68.3 535.62,-76.49 542.19,-78.89\"/>\n</g>\n<!-- 9 -->\n<g id=\"node10\" class=\"node\">\n<title>9</title>\n<polygon fill=\"#6db7ec\" stroke=\"black\" points=\"853,-187 658,-187 658,-104 853,-104 853,-187\"/>\n<text text-anchor=\"middle\" x=\"755.5\" y=\"-171.8\" font-family=\"Helvetica,sans-Serif\" font-size=\"14.00\">daysSinceLastLogin &lt;= 196.5</text>\n<text text-anchor=\"middle\" x=\"755.5\" y=\"-156.8\" font-family=\"Helvetica,sans-Serif\" font-size=\"14.00\">gini = 0.328</text>\n<text text-anchor=\"middle\" x=\"755.5\" y=\"-141.8\" font-family=\"Helvetica,sans-Serif\" font-size=\"14.00\">samples = 2718</text>\n<text text-anchor=\"middle\" x=\"755.5\" y=\"-126.8\" font-family=\"Helvetica,sans-Serif\" font-size=\"14.00\">value = [563, 2155]</text>\n<text text-anchor=\"middle\" x=\"755.5\" y=\"-111.8\" font-family=\"Helvetica,sans-Serif\" font-size=\"14.00\">class = não comprou</text>\n</g>\n<!-- 8&#45;&gt;9 -->\n<g id=\"edge9\" class=\"edge\">\n<title>8&#45;&gt;9</title>\n<path fill=\"none\" stroke=\"black\" d=\"M755.5,-222.91C755.5,-214.65 755.5,-205.86 755.5,-197.3\"/>\n<polygon fill=\"black\" stroke=\"black\" points=\"759,-197.02 755.5,-187.02 752,-197.02 759,-197.02\"/>\n</g>\n<!-- 12 -->\n<g id=\"node13\" class=\"node\">\n<title>12</title>\n<polygon fill=\"#f7d9c3\" stroke=\"black\" points=\"1122.5,-187 934.5,-187 934.5,-104 1122.5,-104 1122.5,-187\"/>\n<text text-anchor=\"middle\" x=\"1028.5\" y=\"-171.8\" font-family=\"Helvetica,sans-Serif\" font-size=\"14.00\">daysSinceLastLogin &lt;= 44.5</text>\n<text text-anchor=\"middle\" x=\"1028.5\" y=\"-156.8\" font-family=\"Helvetica,sans-Serif\" font-size=\"14.00\">gini = 0.484</text>\n<text text-anchor=\"middle\" x=\"1028.5\" y=\"-141.8\" font-family=\"Helvetica,sans-Serif\" font-size=\"14.00\">samples = 2062</text>\n<text text-anchor=\"middle\" x=\"1028.5\" y=\"-126.8\" font-family=\"Helvetica,sans-Serif\" font-size=\"14.00\">value = [1214, 848]</text>\n<text text-anchor=\"middle\" x=\"1028.5\" y=\"-111.8\" font-family=\"Helvetica,sans-Serif\" font-size=\"14.00\">class = comprou</text>\n</g>\n<!-- 8&#45;&gt;12 -->\n<g id=\"edge12\" class=\"edge\">\n<title>8&#45;&gt;12</title>\n<path fill=\"none\" stroke=\"black\" d=\"M840.01,-227.28C866.88,-215.77 896.91,-202.89 924.97,-190.87\"/>\n<polygon fill=\"black\" stroke=\"black\" points=\"926.59,-193.98 934.4,-186.83 923.83,-187.55 926.59,-193.98\"/>\n</g>\n<!-- 10 -->\n<g id=\"node11\" class=\"node\">\n<title>10</title>\n<polygon fill=\"#a3d2f3\" stroke=\"black\" points=\"787,-68 644,-68 644,0 787,0 787,-68\"/>\n<text text-anchor=\"middle\" x=\"715.5\" y=\"-52.8\" font-family=\"Helvetica,sans-Serif\" font-size=\"14.00\">gini = 0.455</text>\n<text text-anchor=\"middle\" x=\"715.5\" y=\"-37.8\" font-family=\"Helvetica,sans-Serif\" font-size=\"14.00\">samples = 1124</text>\n<text text-anchor=\"middle\" x=\"715.5\" y=\"-22.8\" font-family=\"Helvetica,sans-Serif\" font-size=\"14.00\">value = [393, 731]</text>\n<text text-anchor=\"middle\" x=\"715.5\" y=\"-7.8\" font-family=\"Helvetica,sans-Serif\" font-size=\"14.00\">class = não comprou</text>\n</g>\n<!-- 9&#45;&gt;10 -->\n<g id=\"edge10\" class=\"edge\">\n<title>9&#45;&gt;10</title>\n<path fill=\"none\" stroke=\"black\" d=\"M740.61,-103.73C737.51,-95.24 734.23,-86.28 731.11,-77.73\"/>\n<polygon fill=\"black\" stroke=\"black\" points=\"734.38,-76.49 727.66,-68.3 727.81,-78.89 734.38,-76.49\"/>\n</g>\n<!-- 11 -->\n<g id=\"node12\" class=\"node\">\n<title>11</title>\n<polygon fill=\"#51a9e8\" stroke=\"black\" points=\"948,-68 805,-68 805,0 948,0 948,-68\"/>\n<text text-anchor=\"middle\" x=\"876.5\" y=\"-52.8\" font-family=\"Helvetica,sans-Serif\" font-size=\"14.00\">gini = 0.191</text>\n<text text-anchor=\"middle\" x=\"876.5\" y=\"-37.8\" font-family=\"Helvetica,sans-Serif\" font-size=\"14.00\">samples = 1594</text>\n<text text-anchor=\"middle\" x=\"876.5\" y=\"-22.8\" font-family=\"Helvetica,sans-Serif\" font-size=\"14.00\">value = [170, 1424]</text>\n<text text-anchor=\"middle\" x=\"876.5\" y=\"-7.8\" font-family=\"Helvetica,sans-Serif\" font-size=\"14.00\">class = não comprou</text>\n</g>\n<!-- 9&#45;&gt;11 -->\n<g id=\"edge11\" class=\"edge\">\n<title>9&#45;&gt;11</title>\n<path fill=\"none\" stroke=\"black\" d=\"M800.56,-103.73C810.84,-94.42 821.75,-84.54 832.01,-75.26\"/>\n<polygon fill=\"black\" stroke=\"black\" points=\"834.64,-77.6 839.7,-68.3 829.94,-72.41 834.64,-77.6\"/>\n</g>\n<!-- 13 -->\n<g id=\"node14\" class=\"node\">\n<title>13</title>\n<polygon fill=\"#eead7f\" stroke=\"black\" points=\"1091,-68 966,-68 966,0 1091,0 1091,-68\"/>\n<text text-anchor=\"middle\" x=\"1028.5\" y=\"-52.8\" font-family=\"Helvetica,sans-Serif\" font-size=\"14.00\">gini = 0.385</text>\n<text text-anchor=\"middle\" x=\"1028.5\" y=\"-37.8\" font-family=\"Helvetica,sans-Serif\" font-size=\"14.00\">samples = 932</text>\n<text text-anchor=\"middle\" x=\"1028.5\" y=\"-22.8\" font-family=\"Helvetica,sans-Serif\" font-size=\"14.00\">value = [689, 243]</text>\n<text text-anchor=\"middle\" x=\"1028.5\" y=\"-7.8\" font-family=\"Helvetica,sans-Serif\" font-size=\"14.00\">class = comprou</text>\n</g>\n<!-- 12&#45;&gt;13 -->\n<g id=\"edge13\" class=\"edge\">\n<title>12&#45;&gt;13</title>\n<path fill=\"none\" stroke=\"black\" d=\"M1028.5,-103.73C1028.5,-95.52 1028.5,-86.86 1028.5,-78.56\"/>\n<polygon fill=\"black\" stroke=\"black\" points=\"1032,-78.3 1028.5,-68.3 1025,-78.3 1032,-78.3\"/>\n</g>\n<!-- 14 -->\n<g id=\"node15\" class=\"node\">\n<title>14</title>\n<polygon fill=\"#e5f2fc\" stroke=\"black\" points=\"1252,-68 1109,-68 1109,0 1252,0 1252,-68\"/>\n<text text-anchor=\"middle\" x=\"1180.5\" y=\"-52.8\" font-family=\"Helvetica,sans-Serif\" font-size=\"14.00\">gini = 0.497</text>\n<text text-anchor=\"middle\" x=\"1180.5\" y=\"-37.8\" font-family=\"Helvetica,sans-Serif\" font-size=\"14.00\">samples = 1130</text>\n<text text-anchor=\"middle\" x=\"1180.5\" y=\"-22.8\" font-family=\"Helvetica,sans-Serif\" font-size=\"14.00\">value = [525, 605]</text>\n<text text-anchor=\"middle\" x=\"1180.5\" y=\"-7.8\" font-family=\"Helvetica,sans-Serif\" font-size=\"14.00\">class = não comprou</text>\n</g>\n<!-- 12&#45;&gt;14 -->\n<g id=\"edge14\" class=\"edge\">\n<title>12&#45;&gt;14</title>\n<path fill=\"none\" stroke=\"black\" d=\"M1085.1,-103.73C1098.52,-94.06 1112.81,-83.77 1126.12,-74.17\"/>\n<polygon fill=\"black\" stroke=\"black\" points=\"1128.21,-76.98 1134.28,-68.3 1124.12,-71.3 1128.21,-76.98\"/>\n</g>\n</g>\n</svg>\n",
            "text/plain": [
              "<graphviz.files.Source at 0x7fbb0b8a5760>"
            ]
          },
          "execution_count": 24,
          "metadata": {},
          "output_type": "execute_result"
        }
      ],
      "source": [
        "from sklearn.tree import export_graphviz\n",
        "from graphviz import Source\n",
        "dot_data = export_graphviz(arv, filled=True, feature_names = ['socialNbFollowers','socialNbFollows', 'socialProductsLiked',\n",
        "       'productsListed', 'productsSold', 'productsPassRate', 'productsWished',\n",
        "        'civilityGenderId', 'hasAnyApp','hasProfilePicture', 'daysSinceLastLogin'], class_names=['comprou','não comprou'])\n",
        "Source(dot_data)"
      ]
    },
    {
      "cell_type": "markdown",
      "metadata": {
        "id": "oKbKLccLxU6L"
      },
      "source": [
        "Aqui iremos aplicar a árvore de regressão para poder comparar com o autoML posteriormente"
      ]
    },
    {
      "cell_type": "code",
      "execution_count": null,
      "metadata": {
        "id": "9cbfme6Cv68K"
      },
      "outputs": [],
      "source": [
        "from sklearn.tree import DecisionTreeRegressor\n",
        "\n",
        "arv = DecisionTreeRegressor(max_depth = 3)"
      ]
    },
    {
      "cell_type": "code",
      "execution_count": null,
      "metadata": {
        "id": "pKhy3aHZwiZD"
      },
      "outputs": [],
      "source": [
        "from sklearn.model_selection import train_test_split\n",
        "\n",
        "# spliting data \n",
        "\n",
        "X_treino, X_teste, y_treino, y_teste = train_test_split(users_1[['socialNbFollowers','socialNbFollows', 'socialProductsLiked',\n",
        "       'productsListed', 'productsSold', 'productsPassRate', 'productsWished', 'civilityGenderId', 'hasAnyApp','hasProfilePicture', 'daysSinceLastLogin']], users_1['productsBought'], test_size=0.2)"
      ]
    },
    {
      "cell_type": "code",
      "execution_count": null,
      "metadata": {
        "colab": {
          "base_uri": "https://localhost:8080/",
          "height": 75
        },
        "id": "lbWkaxaFwSiP",
        "outputId": "25dba334-e7b4-4703-b16b-ceabca401e12"
      },
      "outputs": [
        {
          "data": {
            "text/html": [
              "<style>#sk-container-id-1 {color: black;background-color: white;}#sk-container-id-1 pre{padding: 0;}#sk-container-id-1 div.sk-toggleable {background-color: white;}#sk-container-id-1 label.sk-toggleable__label {cursor: pointer;display: block;width: 100%;margin-bottom: 0;padding: 0.3em;box-sizing: border-box;text-align: center;}#sk-container-id-1 label.sk-toggleable__label-arrow:before {content: \"▸\";float: left;margin-right: 0.25em;color: #696969;}#sk-container-id-1 label.sk-toggleable__label-arrow:hover:before {color: black;}#sk-container-id-1 div.sk-estimator:hover label.sk-toggleable__label-arrow:before {color: black;}#sk-container-id-1 div.sk-toggleable__content {max-height: 0;max-width: 0;overflow: hidden;text-align: left;background-color: #f0f8ff;}#sk-container-id-1 div.sk-toggleable__content pre {margin: 0.2em;color: black;border-radius: 0.25em;background-color: #f0f8ff;}#sk-container-id-1 input.sk-toggleable__control:checked~div.sk-toggleable__content {max-height: 200px;max-width: 100%;overflow: auto;}#sk-container-id-1 input.sk-toggleable__control:checked~label.sk-toggleable__label-arrow:before {content: \"▾\";}#sk-container-id-1 div.sk-estimator input.sk-toggleable__control:checked~label.sk-toggleable__label {background-color: #d4ebff;}#sk-container-id-1 div.sk-label input.sk-toggleable__control:checked~label.sk-toggleable__label {background-color: #d4ebff;}#sk-container-id-1 input.sk-hidden--visually {border: 0;clip: rect(1px 1px 1px 1px);clip: rect(1px, 1px, 1px, 1px);height: 1px;margin: -1px;overflow: hidden;padding: 0;position: absolute;width: 1px;}#sk-container-id-1 div.sk-estimator {font-family: monospace;background-color: #f0f8ff;border: 1px dotted black;border-radius: 0.25em;box-sizing: border-box;margin-bottom: 0.5em;}#sk-container-id-1 div.sk-estimator:hover {background-color: #d4ebff;}#sk-container-id-1 div.sk-parallel-item::after {content: \"\";width: 100%;border-bottom: 1px solid gray;flex-grow: 1;}#sk-container-id-1 div.sk-label:hover label.sk-toggleable__label {background-color: #d4ebff;}#sk-container-id-1 div.sk-serial::before {content: \"\";position: absolute;border-left: 1px solid gray;box-sizing: border-box;top: 0;bottom: 0;left: 50%;z-index: 0;}#sk-container-id-1 div.sk-serial {display: flex;flex-direction: column;align-items: center;background-color: white;padding-right: 0.2em;padding-left: 0.2em;position: relative;}#sk-container-id-1 div.sk-item {position: relative;z-index: 1;}#sk-container-id-1 div.sk-parallel {display: flex;align-items: stretch;justify-content: center;background-color: white;position: relative;}#sk-container-id-1 div.sk-item::before, #sk-container-id-1 div.sk-parallel-item::before {content: \"\";position: absolute;border-left: 1px solid gray;box-sizing: border-box;top: 0;bottom: 0;left: 50%;z-index: -1;}#sk-container-id-1 div.sk-parallel-item {display: flex;flex-direction: column;z-index: 1;position: relative;background-color: white;}#sk-container-id-1 div.sk-parallel-item:first-child::after {align-self: flex-end;width: 50%;}#sk-container-id-1 div.sk-parallel-item:last-child::after {align-self: flex-start;width: 50%;}#sk-container-id-1 div.sk-parallel-item:only-child::after {width: 0;}#sk-container-id-1 div.sk-dashed-wrapped {border: 1px dashed gray;margin: 0 0.4em 0.5em 0.4em;box-sizing: border-box;padding-bottom: 0.4em;background-color: white;}#sk-container-id-1 div.sk-label label {font-family: monospace;font-weight: bold;display: inline-block;line-height: 1.2em;}#sk-container-id-1 div.sk-label-container {text-align: center;}#sk-container-id-1 div.sk-container {/* jupyter's `normalize.less` sets `[hidden] { display: none; }` but bootstrap.min.css set `[hidden] { display: none !important; }` so we also need the `!important` here to be able to override the default hidden behavior on the sphinx rendered scikit-learn.org. See: https://github.com/scikit-learn/scikit-learn/issues/21755 */display: inline-block !important;position: relative;}#sk-container-id-1 div.sk-text-repr-fallback {display: none;}</style><div id=\"sk-container-id-1\" class=\"sk-top-container\"><div class=\"sk-text-repr-fallback\"><pre>DecisionTreeRegressor(max_depth=3)</pre><b>In a Jupyter environment, please rerun this cell to show the HTML representation or trust the notebook. <br />On GitHub, the HTML representation is unable to render, please try loading this page with nbviewer.org.</b></div><div class=\"sk-container\" hidden><div class=\"sk-item\"><div class=\"sk-estimator sk-toggleable\"><input class=\"sk-toggleable__control sk-hidden--visually\" id=\"sk-estimator-id-1\" type=\"checkbox\" checked><label for=\"sk-estimator-id-1\" class=\"sk-toggleable__label sk-toggleable__label-arrow\">DecisionTreeRegressor</label><div class=\"sk-toggleable__content\"><pre>DecisionTreeRegressor(max_depth=3)</pre></div></div></div></div></div>"
            ],
            "text/plain": [
              "DecisionTreeRegressor(max_depth=3)"
            ]
          },
          "execution_count": 12,
          "metadata": {},
          "output_type": "execute_result"
        }
      ],
      "source": [
        "arv.fit(X_treino,y_treino)"
      ]
    },
    {
      "cell_type": "markdown",
      "metadata": {
        "id": "eazdi1G6UEXK"
      },
      "source": [
        "Notamos que o modelo possui uma boa acurácia, apesar de ter muito mais casos de clientes que não compraram a árvore consegue apontar clientes que compraram."
      ]
    },
    {
      "cell_type": "code",
      "execution_count": null,
      "metadata": {
        "colab": {
          "base_uri": "https://localhost:8080/"
        },
        "id": "gHx3D5DvwotN",
        "outputId": "d397b938-5811-4e16-8afd-8bf746737d90"
      },
      "outputs": [
        {
          "data": {
            "text/plain": [
              "53.675614466117075"
            ]
          },
          "execution_count": 13,
          "metadata": {},
          "output_type": "execute_result"
        }
      ],
      "source": [
        "#acuracia\n",
        "acuracia_de_treino = arv.score(X_treino,y_treino)\n",
        "acuracia_de_treino*100"
      ]
    },
    {
      "cell_type": "code",
      "execution_count": null,
      "metadata": {
        "colab": {
          "base_uri": "https://localhost:8080/",
          "height": 518
        },
        "id": "qOhDDPfkwsYX",
        "outputId": "c5568a3c-d89b-40ac-83ae-4ae6ed84d5ef"
      },
      "outputs": [
        {
          "data": {
            "image/svg+xml": "<?xml version=\"1.0\" encoding=\"UTF-8\" standalone=\"no\"?>\n<!DOCTYPE svg PUBLIC \"-//W3C//DTD SVG 1.1//EN\"\n \"http://www.w3.org/Graphics/SVG/1.1/DTD/svg11.dtd\">\n<!-- Generated by graphviz version 2.43.0 (0)\n -->\n<!-- Title: Tree Pages: 1 -->\n<svg width=\"859pt\" height=\"373pt\"\n viewBox=\"0.00 0.00 858.50 373.00\" xmlns=\"http://www.w3.org/2000/svg\" xmlns:xlink=\"http://www.w3.org/1999/xlink\">\n<g id=\"graph0\" class=\"graph\" transform=\"scale(1 1) rotate(0) translate(4 369)\">\n<title>Tree</title>\n<polygon fill=\"white\" stroke=\"transparent\" points=\"-4,4 -4,-369 854.5,-369 854.5,4 -4,4\"/>\n<!-- 0 -->\n<g id=\"node1\" class=\"node\">\n<title>0</title>\n<polygon fill=\"#ffffff\" stroke=\"black\" points=\"625,-365 446,-365 446,-297 625,-297 625,-365\"/>\n<text text-anchor=\"middle\" x=\"535.5\" y=\"-349.8\" font-family=\"Helvetica,sans-Serif\" font-size=\"14.00\">productsWished &lt;= 1879.0</text>\n<text text-anchor=\"middle\" x=\"535.5\" y=\"-334.8\" font-family=\"Helvetica,sans-Serif\" font-size=\"14.00\">squared_error = 5.111</text>\n<text text-anchor=\"middle\" x=\"535.5\" y=\"-319.8\" font-family=\"Helvetica,sans-Serif\" font-size=\"14.00\">samples = 79130</text>\n<text text-anchor=\"middle\" x=\"535.5\" y=\"-304.8\" font-family=\"Helvetica,sans-Serif\" font-size=\"14.00\">value = 0.169</text>\n</g>\n<!-- 1 -->\n<g id=\"node2\" class=\"node\">\n<title>1</title>\n<polygon fill=\"#ffffff\" stroke=\"black\" points=\"522.5,-261 350.5,-261 350.5,-193 522.5,-193 522.5,-261\"/>\n<text text-anchor=\"middle\" x=\"436.5\" y=\"-245.8\" font-family=\"Helvetica,sans-Serif\" font-size=\"14.00\">productsWished &lt;= 116.0</text>\n<text text-anchor=\"middle\" x=\"436.5\" y=\"-230.8\" font-family=\"Helvetica,sans-Serif\" font-size=\"14.00\">squared_error = 3.039</text>\n<text text-anchor=\"middle\" x=\"436.5\" y=\"-215.8\" font-family=\"Helvetica,sans-Serif\" font-size=\"14.00\">samples = 79128</text>\n<text text-anchor=\"middle\" x=\"436.5\" y=\"-200.8\" font-family=\"Helvetica,sans-Serif\" font-size=\"14.00\">value = 0.164</text>\n</g>\n<!-- 0&#45;&gt;1 -->\n<g id=\"edge1\" class=\"edge\">\n<title>0&#45;&gt;1</title>\n<path fill=\"none\" stroke=\"black\" d=\"M503.36,-296.88C494.63,-287.89 485.07,-278.04 475.98,-268.68\"/>\n<polygon fill=\"black\" stroke=\"black\" points=\"478.3,-266.04 468.82,-261.3 473.27,-270.91 478.3,-266.04\"/>\n<text text-anchor=\"middle\" x=\"468.45\" y=\"-282.6\" font-family=\"Helvetica,sans-Serif\" font-size=\"14.00\">True</text>\n</g>\n<!-- 8 -->\n<g id=\"node9\" class=\"node\">\n<title>8</title>\n<polygon fill=\"#f2c09c\" stroke=\"black\" points=\"728.5,-261 540.5,-261 540.5,-193 728.5,-193 728.5,-261\"/>\n<text text-anchor=\"middle\" x=\"634.5\" y=\"-245.8\" font-family=\"Helvetica,sans-Serif\" font-size=\"14.00\">daysSinceLastLogin &lt;= 20.5</text>\n<text text-anchor=\"middle\" x=\"634.5\" y=\"-230.8\" font-family=\"Helvetica,sans-Serif\" font-size=\"14.00\">squared_error = 40602.25</text>\n<text text-anchor=\"middle\" x=\"634.5\" y=\"-215.8\" font-family=\"Helvetica,sans-Serif\" font-size=\"14.00\">samples = 2</text>\n<text text-anchor=\"middle\" x=\"634.5\" y=\"-200.8\" font-family=\"Helvetica,sans-Serif\" font-size=\"14.00\">value = 203.5</text>\n</g>\n<!-- 0&#45;&gt;8 -->\n<g id=\"edge8\" class=\"edge\">\n<title>0&#45;&gt;8</title>\n<path fill=\"none\" stroke=\"black\" d=\"M567.64,-296.88C576.37,-287.89 585.93,-278.04 595.02,-268.68\"/>\n<polygon fill=\"black\" stroke=\"black\" points=\"597.73,-270.91 602.18,-261.3 592.7,-266.04 597.73,-270.91\"/>\n<text text-anchor=\"middle\" x=\"602.55\" y=\"-282.6\" font-family=\"Helvetica,sans-Serif\" font-size=\"14.00\">False</text>\n</g>\n<!-- 2 -->\n<g id=\"node3\" class=\"node\">\n<title>2</title>\n<polygon fill=\"#ffffff\" stroke=\"black\" points=\"337,-157 150,-157 150,-89 337,-89 337,-157\"/>\n<text text-anchor=\"middle\" x=\"243.5\" y=\"-141.8\" font-family=\"Helvetica,sans-Serif\" font-size=\"14.00\">socialProductsLiked &lt;= 75.5</text>\n<text text-anchor=\"middle\" x=\"243.5\" y=\"-126.8\" font-family=\"Helvetica,sans-Serif\" font-size=\"14.00\">squared_error = 1.492</text>\n<text text-anchor=\"middle\" x=\"243.5\" y=\"-111.8\" font-family=\"Helvetica,sans-Serif\" font-size=\"14.00\">samples = 78930</text>\n<text text-anchor=\"middle\" x=\"243.5\" y=\"-96.8\" font-family=\"Helvetica,sans-Serif\" font-size=\"14.00\">value = 0.133</text>\n</g>\n<!-- 1&#45;&gt;2 -->\n<g id=\"edge2\" class=\"edge\">\n<title>1&#45;&gt;2</title>\n<path fill=\"none\" stroke=\"black\" d=\"M373.84,-192.88C355.12,-182.99 334.46,-172.07 315.2,-161.9\"/>\n<polygon fill=\"black\" stroke=\"black\" points=\"316.65,-158.7 306.18,-157.12 313.38,-164.89 316.65,-158.7\"/>\n</g>\n<!-- 5 -->\n<g id=\"node6\" class=\"node\">\n<title>5</title>\n<polygon fill=\"#fefbf9\" stroke=\"black\" points=\"530.5,-157 354.5,-157 354.5,-89 530.5,-89 530.5,-157\"/>\n<text text-anchor=\"middle\" x=\"442.5\" y=\"-141.8\" font-family=\"Helvetica,sans-Serif\" font-size=\"14.00\">socialNbFollowers &lt;= 40.0</text>\n<text text-anchor=\"middle\" x=\"442.5\" y=\"-126.8\" font-family=\"Helvetica,sans-Serif\" font-size=\"14.00\">squared_error = 463.19</text>\n<text text-anchor=\"middle\" x=\"442.5\" y=\"-111.8\" font-family=\"Helvetica,sans-Serif\" font-size=\"14.00\">samples = 198</text>\n<text text-anchor=\"middle\" x=\"442.5\" y=\"-96.8\" font-family=\"Helvetica,sans-Serif\" font-size=\"14.00\">value = 12.672</text>\n</g>\n<!-- 1&#45;&gt;5 -->\n<g id=\"edge5\" class=\"edge\">\n<title>1&#45;&gt;5</title>\n<path fill=\"none\" stroke=\"black\" d=\"M438.45,-192.88C438.92,-184.78 439.44,-175.98 439.94,-167.47\"/>\n<polygon fill=\"black\" stroke=\"black\" points=\"443.45,-167.49 440.54,-157.3 436.46,-167.08 443.45,-167.49\"/>\n</g>\n<!-- 3 -->\n<g id=\"node4\" class=\"node\">\n<title>3</title>\n<polygon fill=\"#ffffff\" stroke=\"black\" points=\"151,-53 0,-53 0,0 151,0 151,-53\"/>\n<text text-anchor=\"middle\" x=\"75.5\" y=\"-37.8\" font-family=\"Helvetica,sans-Serif\" font-size=\"14.00\">squared_error = 0.896</text>\n<text text-anchor=\"middle\" x=\"75.5\" y=\"-22.8\" font-family=\"Helvetica,sans-Serif\" font-size=\"14.00\">samples = 78362</text>\n<text text-anchor=\"middle\" x=\"75.5\" y=\"-7.8\" font-family=\"Helvetica,sans-Serif\" font-size=\"14.00\">value = 0.106</text>\n</g>\n<!-- 2&#45;&gt;3 -->\n<g id=\"edge3\" class=\"edge\">\n<title>2&#45;&gt;3</title>\n<path fill=\"none\" stroke=\"black\" d=\"M184.74,-88.95C166.93,-78.93 147.46,-67.98 129.95,-58.13\"/>\n<polygon fill=\"black\" stroke=\"black\" points=\"131.42,-54.94 120.99,-53.09 127.99,-61.04 131.42,-54.94\"/>\n</g>\n<!-- 4 -->\n<g id=\"node5\" class=\"node\">\n<title>4</title>\n<polygon fill=\"#fffefd\" stroke=\"black\" points=\"327.5,-53 169.5,-53 169.5,0 327.5,0 327.5,-53\"/>\n<text text-anchor=\"middle\" x=\"248.5\" y=\"-37.8\" font-family=\"Helvetica,sans-Serif\" font-size=\"14.00\">squared_error = 69.652</text>\n<text text-anchor=\"middle\" x=\"248.5\" y=\"-22.8\" font-family=\"Helvetica,sans-Serif\" font-size=\"14.00\">samples = 568</text>\n<text text-anchor=\"middle\" x=\"248.5\" y=\"-7.8\" font-family=\"Helvetica,sans-Serif\" font-size=\"14.00\">value = 3.87</text>\n</g>\n<!-- 2&#45;&gt;4 -->\n<g id=\"edge4\" class=\"edge\">\n<title>2&#45;&gt;4</title>\n<path fill=\"none\" stroke=\"black\" d=\"M245.25,-88.95C245.68,-80.72 246.15,-71.85 246.6,-63.48\"/>\n<polygon fill=\"black\" stroke=\"black\" points=\"250.1,-63.41 247.14,-53.24 243.11,-63.04 250.1,-63.41\"/>\n</g>\n<!-- 6 -->\n<g id=\"node7\" class=\"node\">\n<title>6</title>\n<polygon fill=\"#fefcfa\" stroke=\"black\" points=\"520.5,-53 354.5,-53 354.5,0 520.5,0 520.5,-53\"/>\n<text text-anchor=\"middle\" x=\"437.5\" y=\"-37.8\" font-family=\"Helvetica,sans-Serif\" font-size=\"14.00\">squared_error = 215.478</text>\n<text text-anchor=\"middle\" x=\"437.5\" y=\"-22.8\" font-family=\"Helvetica,sans-Serif\" font-size=\"14.00\">samples = 185</text>\n<text text-anchor=\"middle\" x=\"437.5\" y=\"-7.8\" font-family=\"Helvetica,sans-Serif\" font-size=\"14.00\">value = 10.432</text>\n</g>\n<!-- 5&#45;&gt;6 -->\n<g id=\"edge6\" class=\"edge\">\n<title>5&#45;&gt;6</title>\n<path fill=\"none\" stroke=\"black\" d=\"M440.75,-88.95C440.32,-80.72 439.85,-71.85 439.4,-63.48\"/>\n<polygon fill=\"black\" stroke=\"black\" points=\"442.89,-63.04 438.86,-53.24 435.9,-63.41 442.89,-63.04\"/>\n</g>\n<!-- 7 -->\n<g id=\"node8\" class=\"node\">\n<title>7</title>\n<polygon fill=\"#fcf1e9\" stroke=\"black\" points=\"712,-53 539,-53 539,0 712,0 712,-53\"/>\n<text text-anchor=\"middle\" x=\"625.5\" y=\"-37.8\" font-family=\"Helvetica,sans-Serif\" font-size=\"14.00\">squared_error = 2901.479</text>\n<text text-anchor=\"middle\" x=\"625.5\" y=\"-22.8\" font-family=\"Helvetica,sans-Serif\" font-size=\"14.00\">samples = 13</text>\n<text text-anchor=\"middle\" x=\"625.5\" y=\"-7.8\" font-family=\"Helvetica,sans-Serif\" font-size=\"14.00\">value = 44.538</text>\n</g>\n<!-- 5&#45;&gt;7 -->\n<g id=\"edge7\" class=\"edge\">\n<title>5&#45;&gt;7</title>\n<path fill=\"none\" stroke=\"black\" d=\"M506.5,-88.95C526.17,-78.79 547.7,-67.67 566.98,-57.72\"/>\n<polygon fill=\"black\" stroke=\"black\" points=\"568.67,-60.78 575.95,-53.09 565.46,-54.57 568.67,-60.78\"/>\n</g>\n<!-- 9 -->\n<g id=\"node10\" class=\"node\">\n<title>9</title>\n<polygon fill=\"#fffefe\" stroke=\"black\" points=\"696.5,-149.5 560.5,-149.5 560.5,-96.5 696.5,-96.5 696.5,-149.5\"/>\n<text text-anchor=\"middle\" x=\"628.5\" y=\"-134.3\" font-family=\"Helvetica,sans-Serif\" font-size=\"14.00\">squared_error = 0.0</text>\n<text text-anchor=\"middle\" x=\"628.5\" y=\"-119.3\" font-family=\"Helvetica,sans-Serif\" font-size=\"14.00\">samples = 1</text>\n<text text-anchor=\"middle\" x=\"628.5\" y=\"-104.3\" font-family=\"Helvetica,sans-Serif\" font-size=\"14.00\">value = 2.0</text>\n</g>\n<!-- 8&#45;&gt;9 -->\n<g id=\"edge9\" class=\"edge\">\n<title>8&#45;&gt;9</title>\n<path fill=\"none\" stroke=\"black\" d=\"M632.55,-192.88C631.92,-182.22 631.23,-170.35 630.59,-159.52\"/>\n<polygon fill=\"black\" stroke=\"black\" points=\"634.08,-159.3 630,-149.52 627.09,-159.71 634.08,-159.3\"/>\n</g>\n<!-- 10 -->\n<g id=\"node11\" class=\"node\">\n<title>10</title>\n<polygon fill=\"#e58139\" stroke=\"black\" points=\"850.5,-149.5 714.5,-149.5 714.5,-96.5 850.5,-96.5 850.5,-149.5\"/>\n<text text-anchor=\"middle\" x=\"782.5\" y=\"-134.3\" font-family=\"Helvetica,sans-Serif\" font-size=\"14.00\">squared_error = 0.0</text>\n<text text-anchor=\"middle\" x=\"782.5\" y=\"-119.3\" font-family=\"Helvetica,sans-Serif\" font-size=\"14.00\">samples = 1</text>\n<text text-anchor=\"middle\" x=\"782.5\" y=\"-104.3\" font-family=\"Helvetica,sans-Serif\" font-size=\"14.00\">value = 405.0</text>\n</g>\n<!-- 8&#45;&gt;10 -->\n<g id=\"edge10\" class=\"edge\">\n<title>8&#45;&gt;10</title>\n<path fill=\"none\" stroke=\"black\" d=\"M682.55,-192.88C700.1,-180.79 719.89,-167.15 737.19,-155.22\"/>\n<polygon fill=\"black\" stroke=\"black\" points=\"739.22,-158.08 745.47,-149.52 735.25,-152.31 739.22,-158.08\"/>\n</g>\n</g>\n</svg>\n",
            "text/plain": [
              "<graphviz.files.Source at 0x7f41d3a31070>"
            ]
          },
          "execution_count": 14,
          "metadata": {},
          "output_type": "execute_result"
        }
      ],
      "source": [
        "from sklearn.tree import export_graphviz\n",
        "from graphviz import Source\n",
        "dot_data = export_graphviz(arv, filled=True, feature_names = ['socialNbFollowers','socialNbFollows', 'socialProductsLiked',\n",
        "       'productsListed', 'productsSold', 'productsPassRate', 'productsWished',\n",
        "        'civilityGenderId', 'hasAnyApp','hasProfilePicture', 'daysSinceLastLogin'])\n",
        "Source(dot_data)"
      ]
    },
    {
      "cell_type": "markdown",
      "metadata": {
        "id": "n13qDh4AxkNY"
      },
      "source": [
        "Em comparação com a acurácia da árvore de classificação notmaos uma redução significativa, muito provavelmente pela quantidade desproporcional de quantidades de itens comprados."
      ]
    },
    {
      "cell_type": "code",
      "execution_count": null,
      "metadata": {
        "colab": {
          "base_uri": "https://localhost:8080/"
        },
        "id": "c0LcaYaWC8xx",
        "outputId": "d057a710-1ac0-418b-c795-da4759eab792"
      },
      "outputs": [
        {
          "name": "stdout",
          "output_type": "stream",
          "text": [
            "Looking in indexes: https://pypi.org/simple, https://us-python.pkg.dev/colab-wheels/public/simple/\n",
            "Collecting h2o\n",
            "  Downloading h2o-3.40.0.1-py2.py3-none-any.whl (177.7 MB)\n",
            "\u001b[2K     \u001b[90m━━━━━━━━━━━━━━━━━━━━━━━━━━━━━━━━━━━━━━━\u001b[0m \u001b[32m177.7/177.7 MB\u001b[0m \u001b[31m7.4 MB/s\u001b[0m eta \u001b[36m0:00:00\u001b[0m\n",
            "\u001b[?25hRequirement already satisfied: requests in /usr/local/lib/python3.8/dist-packages (from h2o) (2.25.1)\n",
            "Requirement already satisfied: future in /usr/local/lib/python3.8/dist-packages (from h2o) (0.16.0)\n",
            "Requirement already satisfied: tabulate in /usr/local/lib/python3.8/dist-packages (from h2o) (0.8.10)\n",
            "Requirement already satisfied: idna<3,>=2.5 in /usr/local/lib/python3.8/dist-packages (from requests->h2o) (2.10)\n",
            "Requirement already satisfied: certifi>=2017.4.17 in /usr/local/lib/python3.8/dist-packages (from requests->h2o) (2022.12.7)\n",
            "Requirement already satisfied: urllib3<1.27,>=1.21.1 in /usr/local/lib/python3.8/dist-packages (from requests->h2o) (1.26.14)\n",
            "Requirement already satisfied: chardet<5,>=3.0.2 in /usr/local/lib/python3.8/dist-packages (from requests->h2o) (4.0.0)\n",
            "Installing collected packages: h2o\n",
            "Successfully installed h2o-3.40.0.1\n"
          ]
        }
      ],
      "source": [
        "!pip install h2o"
      ]
    },
    {
      "cell_type": "code",
      "execution_count": null,
      "metadata": {
        "colab": {
          "base_uri": "https://localhost:8080/",
          "height": 548
        },
        "id": "9Pq3saXvyGMt",
        "outputId": "ebcda5a2-1aff-4d54-c91e-b22f30a309a3"
      },
      "outputs": [
        {
          "name": "stdout",
          "output_type": "stream",
          "text": [
            "Checking whether there is an H2O instance running at http://localhost:54321..... not found.\n",
            "Attempting to start a local H2O server...\n",
            "  Java Version: openjdk version \"11.0.18\" 2023-01-17; OpenJDK Runtime Environment (build 11.0.18+10-post-Ubuntu-0ubuntu120.04.1); OpenJDK 64-Bit Server VM (build 11.0.18+10-post-Ubuntu-0ubuntu120.04.1, mixed mode, sharing)\n",
            "  Starting server from /usr/local/lib/python3.8/dist-packages/h2o/backend/bin/h2o.jar\n",
            "  Ice root: /tmp/tmp5_he1cjk\n",
            "  JVM stdout: /tmp/tmp5_he1cjk/h2o_unknownUser_started_from_python.out\n",
            "  JVM stderr: /tmp/tmp5_he1cjk/h2o_unknownUser_started_from_python.err\n",
            "  Server is running at http://127.0.0.1:54321\n",
            "Connecting to H2O server at http://127.0.0.1:54321 ... successful.\n"
          ]
        },
        {
          "data": {
            "text/html": [
              "\n",
              "<style>\n",
              "\n",
              "#h2o-table-1.h2o-container {\n",
              "  overflow-x: auto;\n",
              "}\n",
              "#h2o-table-1 .h2o-table {\n",
              "  /* width: 100%; */\n",
              "  margin-top: 1em;\n",
              "  margin-bottom: 1em;\n",
              "}\n",
              "#h2o-table-1 .h2o-table caption {\n",
              "  white-space: nowrap;\n",
              "  caption-side: top;\n",
              "  text-align: left;\n",
              "  /* margin-left: 1em; */\n",
              "  margin: 0;\n",
              "  font-size: larger;\n",
              "}\n",
              "#h2o-table-1 .h2o-table thead {\n",
              "  white-space: nowrap; \n",
              "  position: sticky;\n",
              "  top: 0;\n",
              "  box-shadow: 0 -1px inset;\n",
              "}\n",
              "#h2o-table-1 .h2o-table tbody {\n",
              "  overflow: auto;\n",
              "}\n",
              "#h2o-table-1 .h2o-table th,\n",
              "#h2o-table-1 .h2o-table td {\n",
              "  text-align: right;\n",
              "  /* border: 1px solid; */\n",
              "}\n",
              "#h2o-table-1 .h2o-table tr:nth-child(even) {\n",
              "  /* background: #F5F5F5 */\n",
              "}\n",
              "\n",
              "</style>      \n",
              "<div id=\"h2o-table-1\" class=\"h2o-container\">\n",
              "  <table class=\"h2o-table\">\n",
              "    <caption></caption>\n",
              "    <thead></thead>\n",
              "    <tbody><tr><td>H2O_cluster_uptime:</td>\n",
              "<td>02 secs</td></tr>\n",
              "<tr><td>H2O_cluster_timezone:</td>\n",
              "<td>Etc/UTC</td></tr>\n",
              "<tr><td>H2O_data_parsing_timezone:</td>\n",
              "<td>UTC</td></tr>\n",
              "<tr><td>H2O_cluster_version:</td>\n",
              "<td>3.40.0.1</td></tr>\n",
              "<tr><td>H2O_cluster_version_age:</td>\n",
              "<td>25 days</td></tr>\n",
              "<tr><td>H2O_cluster_name:</td>\n",
              "<td>H2O_from_python_unknownUser_jrzc9u</td></tr>\n",
              "<tr><td>H2O_cluster_total_nodes:</td>\n",
              "<td>1</td></tr>\n",
              "<tr><td>H2O_cluster_free_memory:</td>\n",
              "<td>3.172 Gb</td></tr>\n",
              "<tr><td>H2O_cluster_total_cores:</td>\n",
              "<td>2</td></tr>\n",
              "<tr><td>H2O_cluster_allowed_cores:</td>\n",
              "<td>2</td></tr>\n",
              "<tr><td>H2O_cluster_status:</td>\n",
              "<td>locked, healthy</td></tr>\n",
              "<tr><td>H2O_connection_url:</td>\n",
              "<td>http://127.0.0.1:54321</td></tr>\n",
              "<tr><td>H2O_connection_proxy:</td>\n",
              "<td>{\"http\": null, \"https\": null}</td></tr>\n",
              "<tr><td>H2O_internal_security:</td>\n",
              "<td>False</td></tr>\n",
              "<tr><td>Python_version:</td>\n",
              "<td>3.8.10 final</td></tr></tbody>\n",
              "  </table>\n",
              "</div>\n"
            ],
            "text/plain": [
              "--------------------------  ----------------------------------\n",
              "H2O_cluster_uptime:         02 secs\n",
              "H2O_cluster_timezone:       Etc/UTC\n",
              "H2O_data_parsing_timezone:  UTC\n",
              "H2O_cluster_version:        3.40.0.1\n",
              "H2O_cluster_version_age:    25 days\n",
              "H2O_cluster_name:           H2O_from_python_unknownUser_jrzc9u\n",
              "H2O_cluster_total_nodes:    1\n",
              "H2O_cluster_free_memory:    3.172 Gb\n",
              "H2O_cluster_total_cores:    2\n",
              "H2O_cluster_allowed_cores:  2\n",
              "H2O_cluster_status:         locked, healthy\n",
              "H2O_connection_url:         http://127.0.0.1:54321\n",
              "H2O_connection_proxy:       {\"http\": null, \"https\": null}\n",
              "H2O_internal_security:      False\n",
              "Python_version:             3.8.10 final\n",
              "--------------------------  ----------------------------------"
            ]
          },
          "metadata": {},
          "output_type": "display_data"
        }
      ],
      "source": [
        "import h2o\n",
        "h2o.init()"
      ]
    },
    {
      "cell_type": "code",
      "execution_count": null,
      "metadata": {
        "colab": {
          "base_uri": "https://localhost:8080/"
        },
        "id": "I7HsZcN6DH2X",
        "outputId": "a5f7e049-ae40-4cd2-dacc-daed3d1efe18"
      },
      "outputs": [
        {
          "name": "stdout",
          "output_type": "stream",
          "text": [
            "Parse progress: |████████████████████████████████████████████████████████████████| (done) 100%\n"
          ]
        }
      ],
      "source": [
        "from h2o.automl import H2OAutoML\n",
        "dados = h2o.import_file('/content/drive/MyDrive/FIAP/python2 (1)/archive/6M-0K-99K.users.dataset.public.csv')"
      ]
    },
    {
      "cell_type": "code",
      "execution_count": null,
      "metadata": {
        "colab": {
          "base_uri": "https://localhost:8080/"
        },
        "id": "hv8dMglxZXu0",
        "outputId": "ecf04da2-49ca-4471-f8f9-eef8a03cb167"
      },
      "outputs": [
        {
          "metadata": {
            "tags": null
          },
          "name": "stdout",
          "output_type": "stream",
          "text": [
            "AutoML progress: |███████████████████████████████████████████████████████████████"
          ]
        }
      ],
      "source": [
        "dados['productsBought'] = dados['productsBought'].asfactor()\n",
        "# 80% para treino\n",
        "\n",
        "aml = H2OAutoML(max_models = 6, nfolds=5)\n",
        "params = {'max_depth':[2,3,4]}\n",
        "aml.train(['socialNbFollowers','socialNbFollows', 'socialProductsLiked',\n",
        "       'productsListed', 'productsSold', 'productsPassRate', 'productsWished',\n",
        "        'civilityGenderId', 'hasAnyApp','hasProfilePicture', 'daysSinceLastLogin'],'productsBought', dados)\n",
        "arv = H2ORandomForestEstimator(nfolds = 5)\n",
        "print(aml.leaderboard.head(10))\n",
        "aml.get_best_model().model_performance()"
      ]
    },
    {
      "cell_type": "markdown",
      "metadata": {
        "id": "rgO0dNLax5NW"
      },
      "source": []
    }
  ],
  "metadata": {
    "colab": {
      "toc_visible": true,
      "provenance": [],
      "mount_file_id": "1c5phEf_dJu_xsFSeMUYkSV9nV-13zKqS",
      "authorship_tag": "ABX9TyPwNuiTA/TnW6se3YjDNGDB",
      "include_colab_link": true
    },
    "kernelspec": {
      "display_name": "Python 3",
      "name": "python3"
    },
    "language_info": {
      "name": "python"
    }
  },
  "nbformat": 4,
  "nbformat_minor": 0
}